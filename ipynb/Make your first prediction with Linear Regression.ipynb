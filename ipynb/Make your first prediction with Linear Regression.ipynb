{
 "cells": [
  {
   "cell_type": "code",
   "execution_count": 100,
   "metadata": {},
   "outputs": [],
   "source": [
    "import pandas as pd\n",
    "import numpy as np\n",
    "import matplotlib.pyplot as plt\n",
    "import math\n",
    "from sklearn.linear_model import LinearRegression\n",
    "from sklearn.metrics import mean_absolute_error\n",
    "from sklearn.metrics import mean_squared_error\n",
    "from sklearn.metrics import r2_score\n",
    "%matplotlib inline"
   ]
  },
  {
   "cell_type": "code",
   "execution_count": 2,
   "metadata": {},
   "outputs": [],
   "source": [
    "path_ames_train = r\"Data\\train.csv\"\n",
    "path_ames_test = r\"Data\\test.csv\""
   ]
  },
  {
   "cell_type": "code",
   "execution_count": 3,
   "metadata": {},
   "outputs": [],
   "source": [
    "train = pd.read_csv(path_ames_train)\n",
    "test = pd.read_csv(path_ames_test)"
   ]
  },
  {
   "cell_type": "code",
   "execution_count": 4,
   "metadata": {},
   "outputs": [
    {
     "data": {
      "text/plain": [
       "Index(['ExterQual', 'AllFlrsSF', 'GrLivArea', 'SimplOverallCond', 'GarageArea',\n",
       "       'TotRmsAbvGrd', 'LotFrontage', 'SalePrice'],\n",
       "      dtype='object')"
      ]
     },
     "execution_count": 4,
     "metadata": {},
     "output_type": "execute_result"
    }
   ],
   "source": [
    "train.columns"
   ]
  },
  {
   "cell_type": "code",
   "execution_count": 71,
   "metadata": {},
   "outputs": [],
   "source": [
    "X_train = train[['ExterQual', 'AllFlrsSF', 'GrLivArea', 'SimplOverallCond', 'GarageArea', 'TotRmsAbvGrd', 'LotFrontage']]\n",
    "y_train = train['SalePrice']\n",
    "X_test = test[['ExterQual', 'AllFlrsSF', 'GrLivArea', 'SimplOverallCond', 'GarageArea', 'TotRmsAbvGrd', 'LotFrontage']]\n",
    "y_test = test['SalePrice']"
   ]
  },
  {
   "cell_type": "code",
   "execution_count": 6,
   "metadata": {},
   "outputs": [
    {
     "name": "stdout",
     "output_type": "stream",
     "text": [
      "   ExterQual  AllFlrsSF  GrLivArea  SimplOverallCond  GarageArea  \\\n",
      "0          4       1316       1316                 2         397   \n",
      "1          4       2028       2028                 2         880   \n",
      "2          3       1072       1072                 2         525   \n",
      "3          3       1048       1048                 2         286   \n",
      "4          3       1779       1779                 2         546   \n",
      "\n",
      "   TotRmsAbvGrd  LotFrontage  \n",
      "0             6         65.0  \n",
      "1             7         88.0  \n",
      "2             5         35.0  \n",
      "3             6         72.0  \n",
      "4             6         80.0  \n",
      "0    169990\n",
      "1    369900\n",
      "2    140000\n",
      "3    135000\n",
      "4    197900\n",
      "Name: SalePrice, dtype: int64\n",
      "   ExterQual  AllFlrsSF  GrLivArea  SimplOverallCond  GarageArea  \\\n",
      "0          3       1839       1839                 3         416   \n",
      "1          3       2126       2126                 2         538   \n",
      "2          4       1709       1709                 2         380   \n",
      "3          3       1902       1902                 2         539   \n",
      "4          3       1072       1072                 2         525   \n",
      "\n",
      "   TotRmsAbvGrd  LotFrontage  \n",
      "0             7        110.0  \n",
      "1             7          0.0  \n",
      "2             7         24.0  \n",
      "3             8         68.0  \n",
      "4             5         35.0  \n",
      "0    257500\n",
      "1    185000\n",
      "2    130000\n",
      "3    112000\n",
      "4    148000\n",
      "Name: SalePrice, dtype: int64\n"
     ]
    }
   ],
   "source": [
    "print(X_train.head(), y_train.head(), X_test.head(), y_test.head(), sep=\"\\n\")"
   ]
  },
  {
   "cell_type": "code",
   "execution_count": 56,
   "metadata": {},
   "outputs": [],
   "source": [
    "def estimate_coef(x, y):\n",
    "    xmean = x.mean()\n",
    "    ymean = y.mean()\n",
    "    n = len(x)\n",
    "    ycrossx = sum(x * y)\n",
    "    xsqu = sum(x**2)\n",
    "    ssxy = ycrossx - (n * xmean * ymean)\n",
    "    ssxx = xsqu - (n * (xmean**2))\n",
    "    b_1 = ssxy / ssxx\n",
    "    b_0 = ymean - (b_1 * xmean)\n",
    "    return (b_0, b_1)"
   ]
  },
  {
   "cell_type": "code",
   "execution_count": 46,
   "metadata": {},
   "outputs": [],
   "source": [
    "def plot_regression_line(x, y, b):\n",
    "    plt.scatter(x, y, color = \"m\", marker = \"o\", s = 30)\n",
    "    y_pred = b[0] + b[1]*x\n",
    "    plt.plot(x, y_pred, color = \"g\")\n",
    "    plt.xlabel('x')\n",
    "    plt.ylabel('y')\n",
    "    plt.show()"
   ]
  },
  {
   "cell_type": "code",
   "execution_count": 55,
   "metadata": {},
   "outputs": [
    {
     "data": {
      "image/png": "[encoded data removed]",
      "text/plain": [
       "<Figure size 432x288 with 1 Axes>"
      ]
     },
     "metadata": {
      "needs_background": "light"
     },
     "output_type": "display_data"
    },
    {
     "name": "stdout",
     "output_type": "stream",
     "text": [
      "(214.31004114071553, 74795.1260414561)\n"
     ]
    }
   ],
   "source": [
    "x = np.array([548, 460, 608, 642, 836, 480, 636, 484, 468, 205])\n",
    "y = np.array([208500, 181500, 223500, 140000, 250000, 143000, 307000, 200000, 129900, 118000])\n",
    "# values = estimate_coef(X_train['GarageArea'], y_train)\n",
    "values = estimate_coef(X_train['GarageArea'], y_train)\n",
    "plot_regression_line(X_train['GarageArea'], y_train, values)\n",
    "# values = estimate_coef(x,y)\n",
    "print(values)\n",
    "# values = values[1] + (values[0] * X_train['GarageArea'])\n",
    "# print(pd.DataFrame([values, y_train]))\n",
    "# plot_regression_line(x, y, 0)"
   ]
  },
  {
   "cell_type": "code",
   "execution_count": 53,
   "metadata": {},
   "outputs": [],
   "source": [
    "def estimate_coef(x, y):\n",
    "    # number of observations/points\n",
    "    n = np.size(x)\n",
    " \n",
    "    # mean of x and y vector\n",
    "    m_x, m_y = np.mean(x), np.mean(y)\n",
    " \n",
    "    # calculating cross-deviation and deviation about x\n",
    "    SS_xy = np.sum(y*x)- n*m_y*m_x\n",
    "    SS_xx = np.sum(x*x) - n*m_x*m_x\n",
    " \n",
    "    # calculating regression coefficients\n",
    "    b_1 = SS_xy / SS_xx\n",
    "    b_0 = m_y - b_1*m_x\n",
    " \n",
    "    return(b_0, b_1)"
   ]
  },
  {
   "cell_type": "code",
   "execution_count": 70,
   "metadata": {},
   "outputs": [],
   "source": [
    "linreg = LinearRegression()\n"
   ]
  },
  {
   "cell_type": "code",
   "execution_count": 72,
   "metadata": {},
   "outputs": [
    {
     "data": {
      "text/plain": [
       "array([12.11227082, 12.19875709, 12.17873549, 12.09451926, 11.79496421,\n",
       "       11.62810742, 12.23094302, 11.66779875, 12.83933008, 11.42802489,\n",
       "       13.03969447, 11.48996121, 11.96267792, 12.15572954, 11.84253379,\n",
       "       11.80049608, 11.63719563, 11.95712008, 12.33129216, 12.18239258,\n",
       "       12.02229166, 12.0255932 , 12.23719561, 11.87200608, 12.44798664,\n",
       "       12.643851  , 12.47162239, 12.5982682 , 11.8215798 , 11.50148537,\n",
       "       11.789251  , 13.22072258, 11.50903908, 11.87175444, 12.20648447,\n",
       "       12.23039239, 11.69069064, 12.89000353, 11.7661653 , 12.30551334,\n",
       "       12.29771967, 11.68183125, 12.84865739, 11.97590572, 12.48417858,\n",
       "       12.05078167, 11.76415223, 11.68701845, 12.25244997, 12.23563131,\n",
       "       11.51096238, 12.6868023 , 11.79805816, 11.80839364, 12.05803133,\n",
       "       12.79445006, 12.15644059, 12.02083321, 11.5972928 , 12.61133737,\n",
       "       12.17873549, 12.98542578, 12.19936653, 11.39135943, 11.90586361,\n",
       "       11.8061422 , 11.79982215, 11.72513481, 11.82121504, 11.56637513,\n",
       "       11.81933974, 12.42686173, 11.68135512, 11.73767058, 11.78233782,\n",
       "       12.74326629, 12.23338334, 11.7939831 , 12.11819825, 12.03048394,\n",
       "       11.68266492, 12.12712056, 11.90938147, 12.29955162, 12.45304782,\n",
       "       12.1158874 , 11.87991759, 12.24021247, 11.91744569, 11.8183186 ,\n",
       "       12.50615175, 12.1375194 , 11.58971462, 11.72636454, 11.63459047,\n",
       "       11.88480366, 12.15526438, 12.26590528, 13.04953318, 12.28186559,\n",
       "       12.32674689, 11.84409995, 11.93199572, 11.69211204, 11.70018651,\n",
       "       12.11670782, 12.51640236, 12.57485591, 12.32705351, 11.92622652,\n",
       "       11.6862094 , 12.36477339, 12.07473212, 11.78271   , 11.32985799,\n",
       "       11.73571905, 12.62594874, 12.81379998, 12.20129924, 12.51632293,\n",
       "       12.21841653, 12.5823989 , 11.71435727, 11.89019067, 11.96550613,\n",
       "       11.5280544 , 11.67516422, 12.4678313 , 11.58752619, 12.48170867,\n",
       "       12.47862706, 11.84850904, 11.69121489, 12.29370377, 12.44371486,\n",
       "       12.28054085, 12.24909651, 11.61319402, 11.91487052, 11.86840427,\n",
       "       11.64726503, 12.59520997, 12.16486312, 11.84101696, 12.06636477,\n",
       "       11.93760694, 12.3307774 , 11.70575984, 11.63296814, 11.89129321,\n",
       "       11.82982961, 11.90139964, 12.19672361, 11.85108493, 12.92933893,\n",
       "       11.98491553, 11.57635224, 11.58499973, 11.50805023, 11.89922198,\n",
       "       12.04396888, 12.04744607, 11.95895367, 12.21663376, 11.67068064,\n",
       "       11.70030147, 12.40205447, 12.42036159, 11.51955271, 11.80310958,\n",
       "       12.32654451, 12.11743224, 12.00879437, 11.93764444, 11.99675635,\n",
       "       12.10883467, 13.14701159, 11.85470772, 11.63193185, 11.75102253,\n",
       "       11.80323969, 12.70259578, 12.15545884, 11.93794973, 12.12127975,\n",
       "       12.36037884, 11.82521344, 12.00418425, 12.07759098, 11.82645624,\n",
       "       11.44907288, 12.17814015, 12.04679459, 11.57678353, 11.66550057,\n",
       "       11.8399987 , 12.00347863, 11.5136164 , 12.7779323 , 11.9549082 ,\n",
       "       12.40986742, 12.07929626, 12.6713032 , 11.91885273, 12.17589121,\n",
       "       11.85394798, 11.75840026, 11.46815018, 11.84547767, 11.94838787,\n",
       "       13.18652715, 12.55796296, 11.70135142, 12.48875471, 12.55406488,\n",
       "       11.77174461, 12.27118603, 12.14117083, 11.69371398, 11.93298946,\n",
       "       11.7384902 , 12.970298  , 11.62537494, 11.59287262, 12.36147802,\n",
       "       12.14998731, 11.71136005, 12.27409416, 11.8740295 , 11.7751253 ,\n",
       "       12.21957196, 12.28853847, 12.11493594, 11.71193265, 12.33250862,\n",
       "       12.05561594, 12.7067329 , 12.56709692, 12.4100063 , 11.99481002,\n",
       "       12.19385718, 11.85050997, 11.83435354, 11.97667415, 11.5138426 ,\n",
       "       12.41560667, 11.73020719, 12.04863283, 12.49596194, 12.11497669,\n",
       "       11.85274241, 11.93520819, 12.12038933, 11.84397818, 12.27161042,\n",
       "       12.58709183, 11.97757653, 12.41630734, 11.54758587, 12.73344354,\n",
       "       11.69102664, 11.70250058, 12.70721356, 12.27331177, 12.15188932,\n",
       "       12.13637047, 11.91545409, 12.2461217 , 12.17794617, 12.7493585 ,\n",
       "       11.86406128, 11.76375043, 11.98230344, 12.42741362, 12.28738732,\n",
       "       12.90041852, 12.0158569 , 11.92495846, 11.67720943, 11.5858002 ,\n",
       "       11.95900144, 11.74488456, 11.89465559, 11.76096931, 12.07657923,\n",
       "       11.6994464 , 11.96580469, 12.78918226, 12.54892387, 12.09242315,\n",
       "       12.25502625, 11.61421594])"
      ]
     },
     "execution_count": 72,
     "metadata": {},
     "output_type": "execute_result"
    }
   ],
   "source": [
    "linreg.fit(X_train,np.log(y_train))\n",
    "y_pred = linreg.predict(X_test)\n",
    "y_pred"
   ]
  },
  {
   "cell_type": "code",
   "execution_count": 86,
   "metadata": {},
   "outputs": [
    {
     "name": "stdout",
     "output_type": "stream",
     "text": [
      "29158.295036636497\n"
     ]
    }
   ],
   "source": [
    "mae = mean_absolute_error(y_test, np.exp(y_pred))\n",
    "print(mae)"
   ]
  },
  {
   "cell_type": "code",
   "execution_count": 98,
   "metadata": {},
   "outputs": [
    {
     "name": "stdout",
     "output_type": "stream",
     "text": [
      "42842.86889122488\n"
     ]
    }
   ],
   "source": [
    "rmse = (mean_squared_error(y_test, np.exp(y_pred)))**0.5\n",
    "print(rmse)"
   ]
  },
  {
   "cell_type": "code",
   "execution_count": 99,
   "metadata": {},
   "outputs": [
    {
     "data": {
      "text/plain": [
       "42842.86889122489"
      ]
     },
     "execution_count": 99,
     "metadata": {},
     "output_type": "execute_result"
    }
   ],
   "source": [
    "math.sqrt(sum((y_test-np.exp(y_pred))**2)/len(y_test))"
   ]
  },
  {
   "cell_type": "code",
   "execution_count": 101,
   "metadata": {},
   "outputs": [
    {
     "name": "stdout",
     "output_type": "stream",
     "text": [
      "0.7378446924962254\n"
     ]
    }
   ],
   "source": [
    "rsquared = r2_score(y_test, np.exp(y_pred))\n",
    "print(rsquared)"
   ]
  },
  {
   "cell_type": "markdown",
   "metadata": {},
   "source": [
    "## Assessment"
   ]
  },
  {
   "cell_type": "code",
   "execution_count": 176,
   "metadata": {},
   "outputs": [],
   "source": [
    "import pandas as pd\n",
    "import numpy as np\n",
    "from sklearn.model_selection import train_test_split\n",
    "import matplotlib.pyplot as plt\n",
    "from sklearn.linear_model import LinearRegression\n",
    "from sklearn.metrics import mean_squared_error, r2_score\n",
    "%matplotlib inline"
   ]
  },
  {
   "cell_type": "code",
   "execution_count": 124,
   "metadata": {},
   "outputs": [],
   "source": [
    "path = r\"Data\\lego_final.csv\""
   ]
  },
  {
   "cell_type": "code",
   "execution_count": 106,
   "metadata": {},
   "outputs": [
    {
     "name": "stdout",
     "output_type": "stream",
     "text": [
      "Index(['ages', 'list_price', 'num_reviews', 'piece_count', 'play_star_rating',\n",
      "       'review_difficulty', 'star_rating', 'theme_name', 'val_star_rating',\n",
      "       'country'],\n",
      "      dtype='object')\n"
     ]
    },
    {
     "data": {
      "text/html": [
       "<div>\n",
       "<style scoped>\n",
       "    .dataframe tbody tr th:only-of-type {\n",
       "        vertical-align: middle;\n",
       "    }\n",
       "\n",
       "    .dataframe tbody tr th {\n",
       "        vertical-align: top;\n",
       "    }\n",
       "\n",
       "    .dataframe thead th {\n",
       "        text-align: right;\n",
       "    }\n",
       "</style>\n",
       "<table border=\"1\" class=\"dataframe\">\n",
       "  <thead>\n",
       "    <tr style=\"text-align: right;\">\n",
       "      <th></th>\n",
       "      <th>ages</th>\n",
       "      <th>list_price</th>\n",
       "      <th>num_reviews</th>\n",
       "      <th>piece_count</th>\n",
       "      <th>play_star_rating</th>\n",
       "      <th>review_difficulty</th>\n",
       "      <th>star_rating</th>\n",
       "      <th>theme_name</th>\n",
       "      <th>val_star_rating</th>\n",
       "      <th>country</th>\n",
       "    </tr>\n",
       "  </thead>\n",
       "  <tbody>\n",
       "    <tr>\n",
       "      <th>0</th>\n",
       "      <td>19</td>\n",
       "      <td>29.99</td>\n",
       "      <td>2</td>\n",
       "      <td>277</td>\n",
       "      <td>4.0</td>\n",
       "      <td>0</td>\n",
       "      <td>4.5</td>\n",
       "      <td>0</td>\n",
       "      <td>4.0</td>\n",
       "      <td>20</td>\n",
       "    </tr>\n",
       "    <tr>\n",
       "      <th>1</th>\n",
       "      <td>19</td>\n",
       "      <td>19.99</td>\n",
       "      <td>2</td>\n",
       "      <td>168</td>\n",
       "      <td>4.0</td>\n",
       "      <td>2</td>\n",
       "      <td>5.0</td>\n",
       "      <td>0</td>\n",
       "      <td>4.0</td>\n",
       "      <td>20</td>\n",
       "    </tr>\n",
       "    <tr>\n",
       "      <th>2</th>\n",
       "      <td>19</td>\n",
       "      <td>12.99</td>\n",
       "      <td>11</td>\n",
       "      <td>74</td>\n",
       "      <td>4.3</td>\n",
       "      <td>2</td>\n",
       "      <td>4.3</td>\n",
       "      <td>0</td>\n",
       "      <td>4.1</td>\n",
       "      <td>20</td>\n",
       "    </tr>\n",
       "    <tr>\n",
       "      <th>3</th>\n",
       "      <td>5</td>\n",
       "      <td>99.99</td>\n",
       "      <td>23</td>\n",
       "      <td>1032</td>\n",
       "      <td>3.6</td>\n",
       "      <td>0</td>\n",
       "      <td>4.6</td>\n",
       "      <td>1</td>\n",
       "      <td>4.3</td>\n",
       "      <td>20</td>\n",
       "    </tr>\n",
       "    <tr>\n",
       "      <th>4</th>\n",
       "      <td>5</td>\n",
       "      <td>79.99</td>\n",
       "      <td>14</td>\n",
       "      <td>744</td>\n",
       "      <td>3.2</td>\n",
       "      <td>1</td>\n",
       "      <td>4.6</td>\n",
       "      <td>1</td>\n",
       "      <td>4.1</td>\n",
       "      <td>20</td>\n",
       "    </tr>\n",
       "  </tbody>\n",
       "</table>\n",
       "</div>"
      ],
      "text/plain": [
       "   ages  list_price  num_reviews  piece_count  play_star_rating  \\\n",
       "0    19       29.99            2          277               4.0   \n",
       "1    19       19.99            2          168               4.0   \n",
       "2    19       12.99           11           74               4.3   \n",
       "3     5       99.99           23         1032               3.6   \n",
       "4     5       79.99           14          744               3.2   \n",
       "\n",
       "   review_difficulty  star_rating  theme_name  val_star_rating  country  \n",
       "0                  0          4.5           0              4.0       20  \n",
       "1                  2          5.0           0              4.0       20  \n",
       "2                  2          4.3           0              4.1       20  \n",
       "3                  0          4.6           1              4.3       20  \n",
       "4                  1          4.6           1              4.1       20  "
      ]
     },
     "execution_count": 106,
     "metadata": {},
     "output_type": "execute_result"
    }
   ],
   "source": [
    "df = pd.read_csv(path)\n",
    "print(df.columns)\n",
    "df.head()"
   ]
  },
  {
   "cell_type": "code",
   "execution_count": 120,
   "metadata": {},
   "outputs": [],
   "source": [
    "X = df[['ages', 'num_reviews', 'piece_count', 'play_star_rating',\n",
    "       'review_difficulty', 'star_rating', 'theme_name', 'val_star_rating',\n",
    "       'country']]\n",
    "y = df[\"list_price\"]"
   ]
  },
  {
   "cell_type": "code",
   "execution_count": 180,
   "metadata": {},
   "outputs": [
    {
     "name": "stdout",
     "output_type": "stream",
     "text": [
      "      ages  num_reviews  piece_count  play_star_rating  review_difficulty  \\\n",
      "5133     8          202         2469               4.7                  1   \n",
      "759     26            9          252               4.8                  0   \n",
      "3803    26           56          659               4.6                  0   \n",
      "6906    11            1           19               3.0                  5   \n",
      "7129     7           84         4016               4.5                  1   \n",
      "\n",
      "      star_rating  theme_name  val_star_rating  country  \n",
      "5133          4.9           9              4.7        7  \n",
      "759           4.6          39              4.6       20  \n",
      "3803          4.6          34              3.9        4  \n",
      "6906          4.0          13              4.0       10  \n",
      "7129          3.9          34              3.5       10  \n"
     ]
    }
   ],
   "source": [
    "X_train, X_test, y_train, y_test = train_test_split(X, y, test_size = 0.3, random_state = 6)\n",
    "print(X_train.head())"
   ]
  },
  {
   "cell_type": "code",
   "execution_count": 125,
   "metadata": {},
   "outputs": [
    {
     "data": {
      "text/plain": [
       "Index(['ages', 'num_reviews', 'piece_count', 'play_star_rating',\n",
       "       'review_difficulty', 'star_rating', 'theme_name', 'val_star_rating',\n",
       "       'country'],\n",
       "      dtype='object')"
      ]
     },
     "execution_count": 125,
     "metadata": {},
     "output_type": "execute_result"
    }
   ],
   "source": [
    "cols = X_train.columns\n",
    "cols"
   ]
  },
  {
   "cell_type": "code",
   "execution_count": 181,
   "metadata": {},
   "outputs": [
    {
     "data": {
      "image/png": "[encoded data removed]",
      "text/plain": [
       "<Figure size 1152x792 with 9 Axes>"
      ]
     },
     "metadata": {
      "needs_background": "light"
     },
     "output_type": "display_data"
    }
   ],
   "source": [
    "fig ,axes = plt.subplots(nrows=3, ncols=3, figsize = [16,11])"
   ]
  },
  {
   "cell_type": "code",
   "execution_count": 159,
   "metadata": {},
   "outputs": [
    {
     "data": {
      "image/png": "[encoded data removed]",
      "text/plain": [
       "<Figure size 1152x792 with 9 Axes>"
      ]
     },
     "execution_count": 159,
     "metadata": {},
     "output_type": "execute_result"
    }
   ],
   "source": [
    "for i in range(len(axes)):\n",
    "    for j in range(len(axes[0])):\n",
    "        col = cols[ i * 3 + j]\n",
    "        axes[i][j].scatter(X_train[col], y_train)\n",
    "        axes[i][j].set_xlabel = col\n",
    "        axes[i][j].set_ylabel = y_train.name\n",
    "fig"
   ]
  },
  {
   "cell_type": "code",
   "execution_count": 182,
   "metadata": {},
   "outputs": [],
   "source": [
    "for i in range(0,3):\n",
    "    for j in range(0,3): \n",
    "            col = cols[i*3 + j]\n",
    "            axes[i,j].set_title(col)\n",
    "            axes[i,j].scatter(X_train[col],y_train)\n",
    "            axes[i,j].set_xlabel(col)\n",
    "            axes[i,j].set_ylabel('list_price')"
   ]
  },
  {
   "cell_type": "code",
   "execution_count": 183,
   "metadata": {},
   "outputs": [
    {
     "data": {
      "image/png": "[encoded data removed]",
      "text/plain": [
       "<Figure size 1152x792 with 9 Axes>"
      ]
     },
     "execution_count": 183,
     "metadata": {},
     "output_type": "execute_result"
    }
   ],
   "source": [
    "fig"
   ]
  },
  {
   "cell_type": "code",
   "execution_count": 160,
   "metadata": {},
   "outputs": [
    {
     "data": {
      "text/plain": [
       "'list_price'"
      ]
     },
     "execution_count": 160,
     "metadata": {},
     "output_type": "execute_result"
    }
   ],
   "source": [
    "y_train.name"
   ]
  },
  {
   "cell_type": "code",
   "execution_count": 184,
   "metadata": {},
   "outputs": [
    {
     "data": {
      "text/html": [
       "<div>\n",
       "<style scoped>\n",
       "    .dataframe tbody tr th:only-of-type {\n",
       "        vertical-align: middle;\n",
       "    }\n",
       "\n",
       "    .dataframe tbody tr th {\n",
       "        vertical-align: top;\n",
       "    }\n",
       "\n",
       "    .dataframe thead th {\n",
       "        text-align: right;\n",
       "    }\n",
       "</style>\n",
       "<table border=\"1\" class=\"dataframe\">\n",
       "  <thead>\n",
       "    <tr style=\"text-align: right;\">\n",
       "      <th></th>\n",
       "      <th>ages</th>\n",
       "      <th>num_reviews</th>\n",
       "      <th>piece_count</th>\n",
       "      <th>play_star_rating</th>\n",
       "      <th>review_difficulty</th>\n",
       "      <th>star_rating</th>\n",
       "      <th>theme_name</th>\n",
       "      <th>val_star_rating</th>\n",
       "      <th>country</th>\n",
       "    </tr>\n",
       "  </thead>\n",
       "  <tbody>\n",
       "    <tr>\n",
       "      <th>ages</th>\n",
       "      <td>1.000000</td>\n",
       "      <td>-0.160969</td>\n",
       "      <td>-0.090685</td>\n",
       "      <td>0.232847</td>\n",
       "      <td>-0.239683</td>\n",
       "      <td>0.102633</td>\n",
       "      <td>0.476178</td>\n",
       "      <td>0.116349</td>\n",
       "      <td>-0.001526</td>\n",
       "    </tr>\n",
       "    <tr>\n",
       "      <th>num_reviews</th>\n",
       "      <td>-0.160969</td>\n",
       "      <td>1.000000</td>\n",
       "      <td>0.542924</td>\n",
       "      <td>0.151801</td>\n",
       "      <td>-0.196846</td>\n",
       "      <td>0.160762</td>\n",
       "      <td>0.012342</td>\n",
       "      <td>0.172431</td>\n",
       "      <td>0.001953</td>\n",
       "    </tr>\n",
       "    <tr>\n",
       "      <th>piece_count</th>\n",
       "      <td>-0.090685</td>\n",
       "      <td>0.542924</td>\n",
       "      <td>1.000000</td>\n",
       "      <td>0.174411</td>\n",
       "      <td>-0.312239</td>\n",
       "      <td>0.180903</td>\n",
       "      <td>0.173318</td>\n",
       "      <td>0.192863</td>\n",
       "      <td>0.002506</td>\n",
       "    </tr>\n",
       "    <tr>\n",
       "      <th>play_star_rating</th>\n",
       "      <td>0.232847</td>\n",
       "      <td>0.151801</td>\n",
       "      <td>0.174411</td>\n",
       "      <td>1.000000</td>\n",
       "      <td>-0.670508</td>\n",
       "      <td>0.902573</td>\n",
       "      <td>0.151078</td>\n",
       "      <td>0.921824</td>\n",
       "      <td>-0.000958</td>\n",
       "    </tr>\n",
       "    <tr>\n",
       "      <th>review_difficulty</th>\n",
       "      <td>-0.239683</td>\n",
       "      <td>-0.196846</td>\n",
       "      <td>-0.312239</td>\n",
       "      <td>-0.670508</td>\n",
       "      <td>1.000000</td>\n",
       "      <td>-0.637901</td>\n",
       "      <td>-0.153948</td>\n",
       "      <td>-0.650333</td>\n",
       "      <td>0.006417</td>\n",
       "    </tr>\n",
       "    <tr>\n",
       "      <th>star_rating</th>\n",
       "      <td>0.102633</td>\n",
       "      <td>0.160762</td>\n",
       "      <td>0.180903</td>\n",
       "      <td>0.902573</td>\n",
       "      <td>-0.637901</td>\n",
       "      <td>1.000000</td>\n",
       "      <td>0.065264</td>\n",
       "      <td>0.908720</td>\n",
       "      <td>-0.003865</td>\n",
       "    </tr>\n",
       "    <tr>\n",
       "      <th>theme_name</th>\n",
       "      <td>0.476178</td>\n",
       "      <td>0.012342</td>\n",
       "      <td>0.173318</td>\n",
       "      <td>0.151078</td>\n",
       "      <td>-0.153948</td>\n",
       "      <td>0.065264</td>\n",
       "      <td>1.000000</td>\n",
       "      <td>0.097430</td>\n",
       "      <td>-0.003625</td>\n",
       "    </tr>\n",
       "    <tr>\n",
       "      <th>val_star_rating</th>\n",
       "      <td>0.116349</td>\n",
       "      <td>0.172431</td>\n",
       "      <td>0.192863</td>\n",
       "      <td>0.921824</td>\n",
       "      <td>-0.650333</td>\n",
       "      <td>0.908720</td>\n",
       "      <td>0.097430</td>\n",
       "      <td>1.000000</td>\n",
       "      <td>0.002413</td>\n",
       "    </tr>\n",
       "    <tr>\n",
       "      <th>country</th>\n",
       "      <td>-0.001526</td>\n",
       "      <td>0.001953</td>\n",
       "      <td>0.002506</td>\n",
       "      <td>-0.000958</td>\n",
       "      <td>0.006417</td>\n",
       "      <td>-0.003865</td>\n",
       "      <td>-0.003625</td>\n",
       "      <td>0.002413</td>\n",
       "      <td>1.000000</td>\n",
       "    </tr>\n",
       "  </tbody>\n",
       "</table>\n",
       "</div>"
      ],
      "text/plain": [
       "                       ages  num_reviews  piece_count  play_star_rating  \\\n",
       "ages               1.000000    -0.160969    -0.090685          0.232847   \n",
       "num_reviews       -0.160969     1.000000     0.542924          0.151801   \n",
       "piece_count       -0.090685     0.542924     1.000000          0.174411   \n",
       "play_star_rating   0.232847     0.151801     0.174411          1.000000   \n",
       "review_difficulty -0.239683    -0.196846    -0.312239         -0.670508   \n",
       "star_rating        0.102633     0.160762     0.180903          0.902573   \n",
       "theme_name         0.476178     0.012342     0.173318          0.151078   \n",
       "val_star_rating    0.116349     0.172431     0.192863          0.921824   \n",
       "country           -0.001526     0.001953     0.002506         -0.000958   \n",
       "\n",
       "                   review_difficulty  star_rating  theme_name  \\\n",
       "ages                       -0.239683     0.102633    0.476178   \n",
       "num_reviews                -0.196846     0.160762    0.012342   \n",
       "piece_count                -0.312239     0.180903    0.173318   \n",
       "play_star_rating           -0.670508     0.902573    0.151078   \n",
       "review_difficulty           1.000000    -0.637901   -0.153948   \n",
       "star_rating                -0.637901     1.000000    0.065264   \n",
       "theme_name                 -0.153948     0.065264    1.000000   \n",
       "val_star_rating            -0.650333     0.908720    0.097430   \n",
       "country                     0.006417    -0.003865   -0.003625   \n",
       "\n",
       "                   val_star_rating   country  \n",
       "ages                      0.116349 -0.001526  \n",
       "num_reviews               0.172431  0.001953  \n",
       "piece_count               0.192863  0.002506  \n",
       "play_star_rating          0.921824 -0.000958  \n",
       "review_difficulty        -0.650333  0.006417  \n",
       "star_rating               0.908720 -0.003865  \n",
       "theme_name                0.097430 -0.003625  \n",
       "val_star_rating           1.000000  0.002413  \n",
       "country                   0.002413  1.000000  "
      ]
     },
     "execution_count": 184,
     "metadata": {},
     "output_type": "execute_result"
    }
   ],
   "source": [
    "corr = X_train.corr()\n",
    "corr"
   ]
  },
  {
   "cell_type": "code",
   "execution_count": 185,
   "metadata": {},
   "outputs": [
    {
     "name": "stderr",
     "output_type": "stream",
     "text": [
      "C:\\Users\\eakhumb\\AppData\\Local\\Continuum\\anaconda3\\lib\\site-packages\\pandas\\core\\frame.py:3940: SettingWithCopyWarning: \n",
      "A value is trying to be set on a copy of a slice from a DataFrame\n",
      "\n",
      "See the caveats in the documentation: http://pandas.pydata.org/pandas-docs/stable/indexing.html#indexing-view-versus-copy\n",
      "  errors=errors)\n"
     ]
    }
   ],
   "source": [
    "if('play_star_rating' in X_train.columns):\n",
    "    X_train.drop(columns=['play_star_rating', 'val_star_rating'], inplace=True)\n",
    "if('play_star_rating' in X_test.columns):\n",
    "    X_test.drop(columns=['play_star_rating', 'val_star_rating'], inplace=True)"
   ]
  },
  {
   "cell_type": "code",
   "execution_count": 177,
   "metadata": {},
   "outputs": [],
   "source": [
    "regressor = LinearRegression()\n",
    "regressor.fit(X_train, y_train)\n",
    "y_pred = regressor.predict(X_test)"
   ]
  },
  {
   "cell_type": "code",
   "execution_count": 178,
   "metadata": {},
   "outputs": [
    {
     "name": "stdout",
     "output_type": "stream",
     "text": [
      "2106.7634311857664\n",
      "0.7747160273433753\n"
     ]
    }
   ],
   "source": [
    "mse = mean_squared_error(y_test, y_pred)\n",
    "print(mse)\n",
    "r2 = r2_score(y_test, y_pred)\n",
    "print(r2)"
   ]
  },
  {
   "cell_type": "code",
   "execution_count": 179,
   "metadata": {},
   "outputs": [
    {
     "data": {
      "text/plain": [
       "<matplotlib.axes._subplots.AxesSubplot at 0x23faa34a278>"
      ]
     },
     "execution_count": 179,
     "metadata": {},
     "output_type": "execute_result"
    },
    {
     "data": {
      "image/png": "[encoded data removed]",
      "text/plain": [
       "<Figure size 432x288 with 1 Axes>"
      ]
     },
     "metadata": {
      "needs_background": "light"
     },
     "output_type": "display_data"
    }
   ],
   "source": [
    "residual = y_test-y_pred\n",
    "residual.plot(kind='hist')"
   ]
  }
 ],
 "metadata": {
  "kernelspec": {
   "display_name": "Python 3",
   "language": "python",
   "name": "python3"
  },
  "language_info": {
   "codemirror_mode": {
    "name": "ipython",
    "version": 3
   },
   "file_extension": ".py",
   "mimetype": "text/x-python",
   "name": "python",
   "nbconvert_exporter": "python",
   "pygments_lexer": "ipython3",
   "version": "3.7.3"
  }
 },
 "nbformat": 4,
 "nbformat_minor": 4
}
