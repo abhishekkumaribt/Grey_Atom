{
 "cells": [
  {
   "cell_type": "markdown",
   "metadata": {},
   "source": [
    "## Importing Library"
   ]
  },
  {
   "cell_type": "code",
   "execution_count": 1,
   "metadata": {},
   "outputs": [],
   "source": [
    "import warnings\n",
    "warnings.filterwarnings('ignore')\n",
    "import pandas as pd\n",
    "import numpy as np\n",
    "from sklearn.linear_model import LogisticRegression\n",
    "import matplotlib.pyplot as plt\n",
    "import seaborn as sns\n",
    "from sklearn.preprocessing import LabelEncoder\n",
    "from sklearn.model_selection import train_test_split, GridSearchCV, RandomizedSearchCV\n",
    "from sklearn.metrics import classification_report, confusion_matrix, accuracy_score,f1_score, precision_score, recall_score\n",
    "from sklearn.tree import DecisionTreeClassifier\n",
    "from sklearn.ensemble import RandomForestClassifier\n",
    "from scipy.stats import chi2_contingency\n",
    "import category_encoders as ce\n",
    "from sklearn.preprocessing import normalize,scale\n",
    "import imblearn\n",
    "from collections import Counter\n",
    "from sklearn.neighbors import KNeighborsClassifier\n",
    "from sklearn.svm import SVC\n",
    "%matplotlib inline"
   ]
  },
  {
   "cell_type": "markdown",
   "metadata": {},
   "source": [
    "## Reading training data"
   ]
  },
  {
   "cell_type": "code",
   "execution_count": 75,
   "metadata": {},
   "outputs": [],
   "source": [
    "path = r\"C:\\Users\\eakhumb\\Downloads\\file\\train.csv\""
   ]
  },
  {
   "cell_type": "code",
   "execution_count": 76,
   "metadata": {},
   "outputs": [],
   "source": [
    "df = pd.read_csv(path)\n",
    "df = df.drop(columns=[\"ID\"])"
   ]
  },
  {
   "cell_type": "code",
   "execution_count": 77,
   "metadata": {},
   "outputs": [
    {
     "data": {
      "text/plain": [
       "((43590, 10), (8720, 10))"
      ]
     },
     "execution_count": 77,
     "metadata": {},
     "output_type": "execute_result"
    }
   ],
   "source": [
    "data=df\n",
    "data[data[\"Claim\"]==0].shape, data[data[\"Claim\"]==1].shape"
   ]
  },
  {
   "cell_type": "markdown",
   "metadata": {},
   "source": [
    "## Train Test Split"
   ]
  },
  {
   "cell_type": "code",
   "execution_count": 284,
   "metadata": {},
   "outputs": [],
   "source": [
    "X_train, X_test, y_train, y_test = train_test_split(data.drop(columns=[\"Claim\"]), data[\"Claim\"], test_size=0.3, random_state=6)"
   ]
  },
  {
   "cell_type": "markdown",
   "metadata": {},
   "source": [
    "## Data Pre-Processing"
   ]
  },
  {
   "cell_type": "code",
   "execution_count": 75,
   "metadata": {},
   "outputs": [],
   "source": [
    "unique_destinations_count = X_train[\"Destination\"].value_counts()\n",
    "unique_destinations = list(unique_destinations_count.index)\n",
    "rare_destination = list(unique_destinations_count[unique_destinations_count<2].index)\n",
    "X_train[\"Destination\"] = X_train[\"Destination\"].apply(lambda x: \"Others\" if x in rare_destination else x)\n",
    "X_test[\"Destination\"] = X_test[\"Destination\"].apply(lambda x: \"Others\" if ((x not in unique_destinations) | (x in rare_destination)) else x)"
   ]
  },
  {
   "cell_type": "markdown",
   "metadata": {},
   "source": [
    "## Lable Encoding"
   ]
  },
  {
   "cell_type": "code",
   "execution_count": 76,
   "metadata": {},
   "outputs": [],
   "source": [
    "le = LabelEncoder()\n",
    "X_train.Agency = le.fit_transform(X_train.Agency)\n",
    "X_test.Agency = le.transform(X_test.Agency)\n",
    "le = LabelEncoder()\n",
    "X_train[\"Agency Type\"] = le.fit_transform(X_train[\"Agency Type\"])\n",
    "X_test[\"Agency Type\"] = le.transform(X_test[\"Agency Type\"])\n",
    "le = LabelEncoder()\n",
    "X_train[\"Distribution Channel\"] = le.fit_transform(X_train[\"Distribution Channel\"])\n",
    "X_test[\"Distribution Channel\"] = le.transform(X_test[\"Distribution Channel\"])\n",
    "le = LabelEncoder()\n",
    "X_train[\"Product Name\"] = le.fit_transform(X_train[\"Product Name\"])\n",
    "X_test[\"Product Name\"] = le.transform(X_test[\"Product Name\"])\n",
    "le = LabelEncoder()\n",
    "X_train[\"Destination\"] = le.fit_transform(X_train[\"Destination\"])\n",
    "X_test[\"Destination\"] = le.transform(X_test[\"Destination\"])"
   ]
  },
  {
   "cell_type": "markdown",
   "metadata": {},
   "source": [
    "# Making Prediction Using Logestic regression"
   ]
  },
  {
   "cell_type": "code",
   "execution_count": 77,
   "metadata": {},
   "outputs": [
    {
     "data": {
      "text/plain": [
       "LogisticRegression(C=1.0, class_weight=None, dual=False, fit_intercept=True,\n",
       "                   intercept_scaling=1, l1_ratio=None, max_iter=100,\n",
       "                   multi_class='warn', n_jobs=None, penalty='l2',\n",
       "                   random_state=None, solver='warn', tol=0.0001, verbose=0,\n",
       "                   warm_start=False)"
      ]
     },
     "execution_count": 77,
     "metadata": {},
     "output_type": "execute_result"
    }
   ],
   "source": [
    "lr = LogisticRegression()\n",
    "lr.fit(X_train, y_train)"
   ]
  },
  {
   "cell_type": "code",
   "execution_count": 78,
   "metadata": {},
   "outputs": [
    {
     "data": {
      "text/plain": [
       "0.8476390747467023"
      ]
     },
     "execution_count": 78,
     "metadata": {},
     "output_type": "execute_result"
    }
   ],
   "source": [
    "lr.score(X_test, y_test)"
   ]
  },
  {
   "cell_type": "markdown",
   "metadata": {},
   "source": [
    "## Checking correlation"
   ]
  },
  {
   "cell_type": "code",
   "execution_count": 299,
   "metadata": {},
   "outputs": [
    {
     "data": {
      "text/html": [
       "<div>\n",
       "<style scoped>\n",
       "    .dataframe tbody tr th:only-of-type {\n",
       "        vertical-align: middle;\n",
       "    }\n",
       "\n",
       "    .dataframe tbody tr th {\n",
       "        vertical-align: top;\n",
       "    }\n",
       "\n",
       "    .dataframe thead th {\n",
       "        text-align: right;\n",
       "    }\n",
       "</style>\n",
       "<table border=\"1\" class=\"dataframe\">\n",
       "  <thead>\n",
       "    <tr style=\"text-align: right;\">\n",
       "      <th></th>\n",
       "      <th>Duration</th>\n",
       "      <th>Net Sales</th>\n",
       "      <th>Commision (in value)</th>\n",
       "      <th>Age</th>\n",
       "      <th>Claim</th>\n",
       "    </tr>\n",
       "  </thead>\n",
       "  <tbody>\n",
       "    <tr>\n",
       "      <th>Duration</th>\n",
       "      <td>1.0</td>\n",
       "      <td>NaN</td>\n",
       "      <td>NaN</td>\n",
       "      <td>NaN</td>\n",
       "      <td>NaN</td>\n",
       "    </tr>\n",
       "    <tr>\n",
       "      <th>Net Sales</th>\n",
       "      <td>NaN</td>\n",
       "      <td>1.0</td>\n",
       "      <td>NaN</td>\n",
       "      <td>NaN</td>\n",
       "      <td>NaN</td>\n",
       "    </tr>\n",
       "    <tr>\n",
       "      <th>Commision (in value)</th>\n",
       "      <td>NaN</td>\n",
       "      <td>NaN</td>\n",
       "      <td>1.0</td>\n",
       "      <td>NaN</td>\n",
       "      <td>NaN</td>\n",
       "    </tr>\n",
       "    <tr>\n",
       "      <th>Age</th>\n",
       "      <td>NaN</td>\n",
       "      <td>NaN</td>\n",
       "      <td>NaN</td>\n",
       "      <td>1.0</td>\n",
       "      <td>NaN</td>\n",
       "    </tr>\n",
       "    <tr>\n",
       "      <th>Claim</th>\n",
       "      <td>NaN</td>\n",
       "      <td>NaN</td>\n",
       "      <td>NaN</td>\n",
       "      <td>NaN</td>\n",
       "      <td>1.0</td>\n",
       "    </tr>\n",
       "  </tbody>\n",
       "</table>\n",
       "</div>"
      ],
      "text/plain": [
       "                      Duration  Net Sales  Commision (in value)  Age  Claim\n",
       "Duration                   1.0        NaN                   NaN  NaN    NaN\n",
       "Net Sales                  NaN        1.0                   NaN  NaN    NaN\n",
       "Commision (in value)       NaN        NaN                   1.0  NaN    NaN\n",
       "Age                        NaN        NaN                   NaN  1.0    NaN\n",
       "Claim                      NaN        NaN                   NaN  NaN    1.0"
      ]
     },
     "execution_count": 299,
     "metadata": {},
     "output_type": "execute_result"
    }
   ],
   "source": [
    "cor = data.corr()\n",
    "cor = abs(cor)\n",
    "cor[cor>=0.75]\n",
    "# cor"
   ]
  },
  {
   "cell_type": "code",
   "execution_count": 298,
   "metadata": {},
   "outputs": [
    {
     "data": {
      "text/html": [
       "<div>\n",
       "<style scoped>\n",
       "    .dataframe tbody tr th:only-of-type {\n",
       "        vertical-align: middle;\n",
       "    }\n",
       "\n",
       "    .dataframe tbody tr th {\n",
       "        vertical-align: top;\n",
       "    }\n",
       "\n",
       "    .dataframe thead th {\n",
       "        text-align: right;\n",
       "    }\n",
       "</style>\n",
       "<table border=\"1\" class=\"dataframe\">\n",
       "  <thead>\n",
       "    <tr style=\"text-align: right;\">\n",
       "      <th>Claim</th>\n",
       "      <th>0</th>\n",
       "      <th>1</th>\n",
       "    </tr>\n",
       "    <tr>\n",
       "      <th>Agency</th>\n",
       "      <th></th>\n",
       "      <th></th>\n",
       "    </tr>\n",
       "  </thead>\n",
       "  <tbody>\n",
       "    <tr>\n",
       "      <th>ADM</th>\n",
       "      <td>56</td>\n",
       "      <td>0</td>\n",
       "    </tr>\n",
       "    <tr>\n",
       "      <th>ART</th>\n",
       "      <td>223</td>\n",
       "      <td>0</td>\n",
       "    </tr>\n",
       "    <tr>\n",
       "      <th>C2B</th>\n",
       "      <td>5438</td>\n",
       "      <td>5177</td>\n",
       "    </tr>\n",
       "    <tr>\n",
       "      <th>CBH</th>\n",
       "      <td>75</td>\n",
       "      <td>1</td>\n",
       "    </tr>\n",
       "    <tr>\n",
       "      <th>CCR</th>\n",
       "      <td>146</td>\n",
       "      <td>10</td>\n",
       "    </tr>\n",
       "    <tr>\n",
       "      <th>CSR</th>\n",
       "      <td>59</td>\n",
       "      <td>1</td>\n",
       "    </tr>\n",
       "    <tr>\n",
       "      <th>CWT</th>\n",
       "      <td>5965</td>\n",
       "      <td>848</td>\n",
       "    </tr>\n",
       "    <tr>\n",
       "      <th>EPX</th>\n",
       "      <td>24338</td>\n",
       "      <td>1880</td>\n",
       "    </tr>\n",
       "    <tr>\n",
       "      <th>JWT</th>\n",
       "      <td>519</td>\n",
       "      <td>31</td>\n",
       "    </tr>\n",
       "    <tr>\n",
       "      <th>JZI</th>\n",
       "      <td>4359</td>\n",
       "      <td>256</td>\n",
       "    </tr>\n",
       "    <tr>\n",
       "      <th>KML</th>\n",
       "      <td>266</td>\n",
       "      <td>47</td>\n",
       "    </tr>\n",
       "    <tr>\n",
       "      <th>LWC</th>\n",
       "      <td>454</td>\n",
       "      <td>352</td>\n",
       "    </tr>\n",
       "    <tr>\n",
       "      <th>RAB</th>\n",
       "      <td>526</td>\n",
       "      <td>1</td>\n",
       "    </tr>\n",
       "    <tr>\n",
       "      <th>SSI</th>\n",
       "      <td>714</td>\n",
       "      <td>57</td>\n",
       "    </tr>\n",
       "    <tr>\n",
       "      <th>TST</th>\n",
       "      <td>373</td>\n",
       "      <td>21</td>\n",
       "    </tr>\n",
       "    <tr>\n",
       "      <th>TTW</th>\n",
       "      <td>66</td>\n",
       "      <td>38</td>\n",
       "    </tr>\n",
       "  </tbody>\n",
       "</table>\n",
       "</div>"
      ],
      "text/plain": [
       "Claim       0     1\n",
       "Agency             \n",
       "ADM        56     0\n",
       "ART       223     0\n",
       "C2B      5438  5177\n",
       "CBH        75     1\n",
       "CCR       146    10\n",
       "CSR        59     1\n",
       "CWT      5965   848\n",
       "EPX     24338  1880\n",
       "JWT       519    31\n",
       "JZI      4359   256\n",
       "KML       266    47\n",
       "LWC       454   352\n",
       "RAB       526     1\n",
       "SSI       714    57\n",
       "TST       373    21\n",
       "TTW        66    38"
      ]
     },
     "execution_count": 298,
     "metadata": {},
     "output_type": "execute_result"
    }
   ],
   "source": [
    "pd.crosstab(data[\"Agency\"], data[\"Claim\"])"
   ]
  },
  {
   "cell_type": "code",
   "execution_count": 297,
   "metadata": {},
   "outputs": [
    {
     "data": {
      "text/plain": [
       "<matplotlib.axes._subplots.AxesSubplot at 0x29279bd0cc0>"
      ]
     },
     "execution_count": 297,
     "metadata": {},
     "output_type": "execute_result"
    },
    {
     "data": {
      "image/png": "[encoded data removed]",
      "text/plain": [
       "<Figure size 432x288 with 1 Axes>"
      ]
     },
     "metadata": {
      "needs_background": "light"
     },
     "output_type": "display_data"
    }
   ],
   "source": [
    "sns.heatmap(data.isnull(), yticklabels=False, cbar=False, cmap='tab20c_r')"
   ]
  },
  {
   "cell_type": "code",
   "execution_count": 296,
   "metadata": {},
   "outputs": [
    {
     "data": {
      "text/plain": [
       "EPX    26218\n",
       "C2B    10615\n",
       "CWT     6813\n",
       "JZI     4615\n",
       "LWC      806\n",
       "SSI      771\n",
       "JWT      550\n",
       "RAB      527\n",
       "TST      394\n",
       "KML      313\n",
       "ART      223\n",
       "CCR      156\n",
       "TTW      104\n",
       "CBH       76\n",
       "CSR       60\n",
       "ADM       56\n",
       "Name: Agency, dtype: int64"
      ]
     },
     "execution_count": 296,
     "metadata": {},
     "output_type": "execute_result"
    }
   ],
   "source": [
    "data[\"Agency\"].value_counts()"
   ]
  },
  {
   "cell_type": "code",
   "execution_count": 295,
   "metadata": {},
   "outputs": [
    {
     "data": {
      "text/html": [
       "<div>\n",
       "<style scoped>\n",
       "    .dataframe tbody tr th:only-of-type {\n",
       "        vertical-align: middle;\n",
       "    }\n",
       "\n",
       "    .dataframe tbody tr th {\n",
       "        vertical-align: top;\n",
       "    }\n",
       "\n",
       "    .dataframe thead th {\n",
       "        text-align: right;\n",
       "    }\n",
       "</style>\n",
       "<table border=\"1\" class=\"dataframe\">\n",
       "  <thead>\n",
       "    <tr style=\"text-align: right;\">\n",
       "      <th></th>\n",
       "      <th>Agency</th>\n",
       "      <th>Agency Type</th>\n",
       "      <th>Distribution Channel</th>\n",
       "      <th>Product Name</th>\n",
       "      <th>Duration</th>\n",
       "      <th>Destination</th>\n",
       "      <th>Net Sales</th>\n",
       "      <th>Commision (in value)</th>\n",
       "      <th>Age</th>\n",
       "      <th>Claim</th>\n",
       "    </tr>\n",
       "  </thead>\n",
       "  <tbody>\n",
       "    <tr>\n",
       "      <th>0</th>\n",
       "      <td>EPX</td>\n",
       "      <td>Travel Agency</td>\n",
       "      <td>Online</td>\n",
       "      <td>Cancellation Plan</td>\n",
       "      <td>61</td>\n",
       "      <td>PHILIPPINES</td>\n",
       "      <td>12.0</td>\n",
       "      <td>0.00</td>\n",
       "      <td>41</td>\n",
       "      <td>0</td>\n",
       "    </tr>\n",
       "    <tr>\n",
       "      <th>1</th>\n",
       "      <td>EPX</td>\n",
       "      <td>Travel Agency</td>\n",
       "      <td>Online</td>\n",
       "      <td>Cancellation Plan</td>\n",
       "      <td>4</td>\n",
       "      <td>MALAYSIA</td>\n",
       "      <td>17.0</td>\n",
       "      <td>0.00</td>\n",
       "      <td>35</td>\n",
       "      <td>0</td>\n",
       "    </tr>\n",
       "    <tr>\n",
       "      <th>2</th>\n",
       "      <td>CWT</td>\n",
       "      <td>Travel Agency</td>\n",
       "      <td>Online</td>\n",
       "      <td>Rental Vehicle Excess Insurance</td>\n",
       "      <td>26</td>\n",
       "      <td>THAILAND</td>\n",
       "      <td>19.8</td>\n",
       "      <td>11.88</td>\n",
       "      <td>47</td>\n",
       "      <td>0</td>\n",
       "    </tr>\n",
       "    <tr>\n",
       "      <th>3</th>\n",
       "      <td>EPX</td>\n",
       "      <td>Travel Agency</td>\n",
       "      <td>Online</td>\n",
       "      <td>2 way Comprehensive Plan</td>\n",
       "      <td>15</td>\n",
       "      <td>HONG KONG</td>\n",
       "      <td>27.0</td>\n",
       "      <td>0.00</td>\n",
       "      <td>48</td>\n",
       "      <td>0</td>\n",
       "    </tr>\n",
       "    <tr>\n",
       "      <th>4</th>\n",
       "      <td>EPX</td>\n",
       "      <td>Travel Agency</td>\n",
       "      <td>Online</td>\n",
       "      <td>2 way Comprehensive Plan</td>\n",
       "      <td>15</td>\n",
       "      <td>MALAYSIA</td>\n",
       "      <td>37.0</td>\n",
       "      <td>0.00</td>\n",
       "      <td>36</td>\n",
       "      <td>0</td>\n",
       "    </tr>\n",
       "  </tbody>\n",
       "</table>\n",
       "</div>"
      ],
      "text/plain": [
       "  Agency    Agency Type Distribution Channel                     Product Name  \\\n",
       "0    EPX  Travel Agency               Online                Cancellation Plan   \n",
       "1    EPX  Travel Agency               Online                Cancellation Plan   \n",
       "2    CWT  Travel Agency               Online  Rental Vehicle Excess Insurance   \n",
       "3    EPX  Travel Agency               Online         2 way Comprehensive Plan   \n",
       "4    EPX  Travel Agency               Online         2 way Comprehensive Plan   \n",
       "\n",
       "   Duration  Destination  Net Sales  Commision (in value)  Age  Claim  \n",
       "0        61  PHILIPPINES       12.0                  0.00   41      0  \n",
       "1         4     MALAYSIA       17.0                  0.00   35      0  \n",
       "2        26     THAILAND       19.8                 11.88   47      0  \n",
       "3        15    HONG KONG       27.0                  0.00   48      0  \n",
       "4        15     MALAYSIA       37.0                  0.00   36      0  "
      ]
     },
     "execution_count": 295,
     "metadata": {},
     "output_type": "execute_result"
    }
   ],
   "source": [
    "data.head()"
   ]
  },
  {
   "cell_type": "markdown",
   "metadata": {},
   "source": [
    "## chi**2 for categorical columns"
   ]
  },
  {
   "cell_type": "code",
   "execution_count": 294,
   "metadata": {},
   "outputs": [
    {
     "name": "stdout",
     "output_type": "stream",
     "text": [
      "Agency P-value :  10852.787999889759\n",
      "Agency Type P-value :  4322.140017164073\n",
      "Distribution Channel P-value :  8.984836712505931\n",
      "Product Name P-value :  12006.993058015907\n",
      "Destination P-value :  7050.809768066112\n"
     ]
    }
   ],
   "source": [
    "csq = chi2_contingency(pd.crosstab(data['Claim'], data['Agency']))\n",
    "print(\"Agency P-value : \",csq[0])\n",
    "csq1 = chi2_contingency(pd.crosstab(data['Claim'], data['Agency Type']))\n",
    "print(\"Agency Type P-value : \",csq1[0])\n",
    "csq2 = chi2_contingency(pd.crosstab(data['Claim'], data['Distribution Channel']))\n",
    "print(\"Distribution Channel P-value : \",csq2[0])\n",
    "csq3 = chi2_contingency(pd.crosstab(data['Claim'], data['Product Name']))\n",
    "print(\"Product Name P-value : \",csq3[0])\n",
    "csq4 = chi2_contingency(pd.crosstab(data['Claim'], data['Destination']))\n",
    "print(\"Destination P-value : \",csq4[0])"
   ]
  },
  {
   "cell_type": "markdown",
   "metadata": {},
   "source": [
    "## Trying to find outliers"
   ]
  },
  {
   "cell_type": "code",
   "execution_count": 301,
   "metadata": {},
   "outputs": [
    {
     "data": {
      "text/plain": [
       "Text(0.5, 1.0, 'Age')"
      ]
     },
     "execution_count": 301,
     "metadata": {},
     "output_type": "execute_result"
    },
    {
     "data": {
      "image/png": "[encoded data removed]",
      "text/plain": [
       "<Figure size 1440x720 with 4 Axes>"
      ]
     },
     "metadata": {
      "needs_background": "light"
     },
     "output_type": "display_data"
    }
   ],
   "source": [
    "fig, ax = plt.subplots(2, 2, figsize=[20,10])\n",
    "fig.subplots_adjust(hspace = .30)\n",
    "\n",
    "sns.boxplot(data[\"Duration\"], ax=ax[0][0])\n",
    "ax[0][0].set_title(\"Duration\")\n",
    "\n",
    "sns.boxplot(data[\"Net Sales\"], ax=ax[0][1])\n",
    "ax[0][1].set_title(\"Net Sales\")\n",
    "\n",
    "sns.boxplot(data[r\"Commision (in value)\"], ax=ax[1][0])\n",
    "ax[1][0].set_title(r\"Commision (in value)\")\n",
    "\n",
    "sns.boxplot(data[\"Age\"], ax=ax[1][1])\n",
    "ax[1][1].set_title(\"Age\")"
   ]
  },
  {
   "cell_type": "markdown",
   "metadata": {},
   "source": [
    "## Removing Outliers"
   ]
  },
  {
   "cell_type": "code",
   "execution_count": 302,
   "metadata": {},
   "outputs": [],
   "source": [
    "data = data[(data.Duration<1000) & (data.Duration>=0)]"
   ]
  },
  {
   "cell_type": "code",
   "execution_count": 303,
   "metadata": {},
   "outputs": [
    {
     "name": "stdout",
     "output_type": "stream",
     "text": [
      "(503, 10)\n",
      "(51794, 10)\n"
     ]
    }
   ],
   "source": [
    "print(data[data[\"Net Sales\"]<0].shape)\n",
    "print(data[data[\"Net Sales\"]>=0].shape)"
   ]
  },
  {
   "cell_type": "markdown",
   "metadata": {},
   "source": [
    "## EDA"
   ]
  },
  {
   "cell_type": "code",
   "execution_count": 289,
   "metadata": {},
   "outputs": [
    {
     "data": {
      "image/png": "[encoded data removed]",
      "text/plain": [
       "<Figure size 1440x1080 with 8 Axes>"
      ]
     },
     "metadata": {
      "needs_background": "light"
     },
     "output_type": "display_data"
    }
   ],
   "source": [
    "fig, ax = plt.subplots(4, 2, figsize=[20,15])\n",
    "fig.subplots_adjust(hspace = .30)\n",
    "\n",
    "ax[0][0].bar(list(data[\"Agency\"].value_counts().index), data[\"Agency\"].value_counts(), color ='darkred')\n",
    "ax[0][0].tick_params(axis = 'x', labelrotation=90)\n",
    "ax[0][0].set_title(\"Agency Count\")\n",
    "\n",
    "ax[1][0].bar(list(data[\"Agency Type\"].value_counts().index), data[\"Agency Type\"].value_counts(), color ='darkred')\n",
    "ax[1][0].set_title(\"Agency Type Count\")\n",
    "\n",
    "ax[2][0].bar(list(data[\"Distribution Channel\"].value_counts().index), data[\"Distribution Channel\"].value_counts(), color ='darkred')\n",
    "ax[2][0].set_title(\"Distribution Channel Count\")\n",
    "\n",
    "ax[3][0].bar(list(data[\"Product Name\"].value_counts().index), data[\"Product Name\"].value_counts(), color ='darkred')\n",
    "ax[3][0].tick_params(axis = 'x', labelrotation=90)\n",
    "ax[3][0].set_title(\"Product Name Count\")\n",
    "\n",
    "ax[0][1].hist(data[\"Duration\"], bins=20, color ='darkred')\n",
    "ax[0][1].set_title(\"Duration\")\n",
    "\n",
    "ax[1][1].hist(data[\"Net Sales\"], bins=20, color ='darkred')\n",
    "ax[1][1].set_title(\"Net Sales\")\n",
    "\n",
    "ax[2][1].hist(data[r\"Commision (in value)\"], bins=20, color ='darkred')\n",
    "ax[2][1].set_title(r\"Commision (in value)\")\n",
    "\n",
    "ax[3][1].hist(data[\"Age\"], bins=20, color ='darkred')\n",
    "ax[3][1].set_title(\"Age\")\n",
    "\n",
    "plt.show()"
   ]
  },
  {
   "cell_type": "code",
   "execution_count": 279,
   "metadata": {},
   "outputs": [
    {
     "data": {
      "text/plain": [
       "<matplotlib.axes._subplots.AxesSubplot at 0x29249fc57b8>"
      ]
     },
     "execution_count": 279,
     "metadata": {},
     "output_type": "execute_result"
    },
    {
     "data": {
      "image/png": "[encoded data removed]",
      "text/plain": [
       "<Figure size 432x288 with 1 Axes>"
      ]
     },
     "metadata": {
      "needs_background": "light"
     },
     "output_type": "display_data"
    }
   ],
   "source": [
    "distribution = data.groupby(\"Distribution Channel\")[\"Claim\"].value_counts().unstack()\n",
    "distribution.plot(kind=\"bar\", stacked=True)"
   ]
  },
  {
   "cell_type": "code",
   "execution_count": 280,
   "metadata": {},
   "outputs": [
    {
     "data": {
      "text/plain": [
       "<matplotlib.axes._subplots.AxesSubplot at 0x29257a2f6a0>"
      ]
     },
     "execution_count": 280,
     "metadata": {},
     "output_type": "execute_result"
    },
    {
     "data": {
      "image/png": "[encoded data removed]",
      "text/plain": [
       "<Figure size 432x288 with 1 Axes>"
      ]
     },
     "metadata": {
      "needs_background": "light"
     },
     "output_type": "display_data"
    }
   ],
   "source": [
    "pd.crosstab(data[\"Distribution Channel\"], data[\"Claim\"], normalize=\"index\").plot(kind=\"bar\", stacked=True)"
   ]
  },
  {
   "cell_type": "code",
   "execution_count": 304,
   "metadata": {},
   "outputs": [
    {
     "data": {
      "image/png": "[encoded data removed]",
      "text/plain": [
       "<Figure size 1440x1080 with 4 Axes>"
      ]
     },
     "metadata": {
      "needs_background": "light"
     },
     "output_type": "display_data"
    }
   ],
   "source": [
    "fig, ax = plt.subplots(2, 2, figsize=[20,15])\n",
    "fig.subplots_adjust(hspace = .30)\n",
    "\n",
    "ax[0][0].hist(data[data[\"Claim\"]==0][\"Duration\"], bins = 25, label ='0', alpha = .50,edgecolor= 'black',color ='grey')\n",
    "ax[0][0].hist(data[data[\"Claim\"]==1][\"Duration\"], bins = 25, label ='1', alpha = .50,edgecolor= 'black',color ='lightgreen')\n",
    "ax[0][0].legend()\n",
    "ax[0][0].set_title(\"Duration vs Claim\")\n",
    "\n",
    "ax[0][1].hist(data[data[\"Claim\"]==0][\"Net Sales\"], bins = 25, label ='0', alpha = .50,edgecolor= 'black',color ='grey')\n",
    "ax[0][1].hist(data[data[\"Claim\"]==1][\"Net Sales\"], bins = 25, label ='1', alpha = .50,edgecolor= 'black',color ='lightgreen')\n",
    "ax[0][1].legend()\n",
    "ax[0][1].set_title(\"Net Sales vs Claim\")\n",
    "\n",
    "ax[1][0].hist(data[data[\"Claim\"]==0][r\"Commision (in value)\"], bins = 25, label ='0', alpha = .50,edgecolor= 'black',color ='grey')\n",
    "ax[1][0].hist(data[data[\"Claim\"]==1][r\"Commision (in value)\"], bins = 25, label ='1', alpha = .50,edgecolor= 'black',color ='lightgreen')\n",
    "ax[1][0].legend()\n",
    "ax[1][0].set_title(r\"Commision (in value) vs Claim\")\n",
    "\n",
    "ax[1][1].hist(data[data[\"Claim\"]==0][\"Age\"], bins = 25, label ='0', alpha = .50,edgecolor= 'black',color ='grey')\n",
    "ax[1][1].hist(data[data[\"Claim\"]==1][\"Age\"], bins = 25, label ='1', alpha = .50,edgecolor= 'black',color ='lightgreen')\n",
    "ax[1][1].legend()\n",
    "ax[1][1].set_title(\"Age vs Claim\")\n",
    "\n",
    "plt.show()"
   ]
  },
  {
   "cell_type": "markdown",
   "metadata": {},
   "source": [
    "## Scatter plot for numeric data"
   ]
  },
  {
   "cell_type": "code",
   "execution_count": 288,
   "metadata": {},
   "outputs": [
    {
     "data": {
      "text/plain": [
       "<matplotlib.axes._subplots.AxesSubplot at 0x2926e6233c8>"
      ]
     },
     "execution_count": 288,
     "metadata": {},
     "output_type": "execute_result"
    },
    {
     "data": {
      "image/png": "[encoded data removed]",
      "text/plain": [
       "<Figure size 1440x720 with 4 Axes>"
      ]
     },
     "metadata": {
      "needs_background": "light"
     },
     "output_type": "display_data"
    }
   ],
   "source": [
    "fig, ax = plt.subplots(2, 2, figsize=[20,10])\n",
    "\n",
    "sns.scatterplot(data[\"Net Sales\"], data[\"Duration\"], ax=ax[0][0], color=\"red\")\n",
    "\n",
    "sns.scatterplot(data[\"Age\"], data[\"Net Sales\"], ax=ax[0][1], color=\"green\")\n",
    "\n",
    "sns.scatterplot(data[\"Net Sales\"], data[\"Commision (in value)\"], ax=ax[1][0], color=\"purple\")\n",
    "\n",
    "sns.scatterplot(data[\"Commision (in value)\"], data[\"Age\"], ax=ax[1][1], color=\"blue\")"
   ]
  },
  {
   "cell_type": "code",
   "execution_count": 287,
   "metadata": {},
   "outputs": [
    {
     "data": {
      "text/html": [
       "<div>\n",
       "<style scoped>\n",
       "    .dataframe tbody tr th:only-of-type {\n",
       "        vertical-align: middle;\n",
       "    }\n",
       "\n",
       "    .dataframe tbody tr th {\n",
       "        vertical-align: top;\n",
       "    }\n",
       "\n",
       "    .dataframe thead th {\n",
       "        text-align: right;\n",
       "    }\n",
       "</style>\n",
       "<table border=\"1\" class=\"dataframe\">\n",
       "  <thead>\n",
       "    <tr style=\"text-align: right;\">\n",
       "      <th></th>\n",
       "      <th>Agency</th>\n",
       "      <th>Agency Type</th>\n",
       "      <th>Distribution Channel</th>\n",
       "      <th>Product Name</th>\n",
       "      <th>Duration</th>\n",
       "      <th>Destination</th>\n",
       "      <th>Net Sales</th>\n",
       "      <th>Commision (in value)</th>\n",
       "      <th>Age</th>\n",
       "      <th>Claim</th>\n",
       "    </tr>\n",
       "  </thead>\n",
       "  <tbody>\n",
       "    <tr>\n",
       "      <th>0</th>\n",
       "      <td>EPX</td>\n",
       "      <td>Travel Agency</td>\n",
       "      <td>Online</td>\n",
       "      <td>Cancellation Plan</td>\n",
       "      <td>61</td>\n",
       "      <td>PHILIPPINES</td>\n",
       "      <td>12.0</td>\n",
       "      <td>0.00</td>\n",
       "      <td>41</td>\n",
       "      <td>0</td>\n",
       "    </tr>\n",
       "    <tr>\n",
       "      <th>1</th>\n",
       "      <td>EPX</td>\n",
       "      <td>Travel Agency</td>\n",
       "      <td>Online</td>\n",
       "      <td>Cancellation Plan</td>\n",
       "      <td>4</td>\n",
       "      <td>MALAYSIA</td>\n",
       "      <td>17.0</td>\n",
       "      <td>0.00</td>\n",
       "      <td>35</td>\n",
       "      <td>0</td>\n",
       "    </tr>\n",
       "    <tr>\n",
       "      <th>2</th>\n",
       "      <td>CWT</td>\n",
       "      <td>Travel Agency</td>\n",
       "      <td>Online</td>\n",
       "      <td>Rental Vehicle Excess Insurance</td>\n",
       "      <td>26</td>\n",
       "      <td>THAILAND</td>\n",
       "      <td>19.8</td>\n",
       "      <td>11.88</td>\n",
       "      <td>47</td>\n",
       "      <td>0</td>\n",
       "    </tr>\n",
       "    <tr>\n",
       "      <th>3</th>\n",
       "      <td>EPX</td>\n",
       "      <td>Travel Agency</td>\n",
       "      <td>Online</td>\n",
       "      <td>2 way Comprehensive Plan</td>\n",
       "      <td>15</td>\n",
       "      <td>HONG KONG</td>\n",
       "      <td>27.0</td>\n",
       "      <td>0.00</td>\n",
       "      <td>48</td>\n",
       "      <td>0</td>\n",
       "    </tr>\n",
       "    <tr>\n",
       "      <th>4</th>\n",
       "      <td>EPX</td>\n",
       "      <td>Travel Agency</td>\n",
       "      <td>Online</td>\n",
       "      <td>2 way Comprehensive Plan</td>\n",
       "      <td>15</td>\n",
       "      <td>MALAYSIA</td>\n",
       "      <td>37.0</td>\n",
       "      <td>0.00</td>\n",
       "      <td>36</td>\n",
       "      <td>0</td>\n",
       "    </tr>\n",
       "  </tbody>\n",
       "</table>\n",
       "</div>"
      ],
      "text/plain": [
       "  Agency    Agency Type Distribution Channel                     Product Name  \\\n",
       "0    EPX  Travel Agency               Online                Cancellation Plan   \n",
       "1    EPX  Travel Agency               Online                Cancellation Plan   \n",
       "2    CWT  Travel Agency               Online  Rental Vehicle Excess Insurance   \n",
       "3    EPX  Travel Agency               Online         2 way Comprehensive Plan   \n",
       "4    EPX  Travel Agency               Online         2 way Comprehensive Plan   \n",
       "\n",
       "   Duration  Destination  Net Sales  Commision (in value)  Age  Claim  \n",
       "0        61  PHILIPPINES       12.0                  0.00   41      0  \n",
       "1         4     MALAYSIA       17.0                  0.00   35      0  \n",
       "2        26     THAILAND       19.8                 11.88   47      0  \n",
       "3        15    HONG KONG       27.0                  0.00   48      0  \n",
       "4        15     MALAYSIA       37.0                  0.00   36      0  "
      ]
     },
     "execution_count": 287,
     "metadata": {},
     "output_type": "execute_result"
    }
   ],
   "source": []
  },
  {
   "cell_type": "markdown",
   "metadata": {},
   "source": [
    "## One Hot Coding"
   ]
  },
  {
   "cell_type": "code",
   "execution_count": 286,
   "metadata": {},
   "outputs": [
    {
     "data": {
      "text/plain": [
       "(52310, 147)"
      ]
     },
     "execution_count": 286,
     "metadata": {},
     "output_type": "execute_result"
    }
   ],
   "source": [
    "newdata = data.join(pd.get_dummies(data[\"Agency\"])).join(pd.get_dummies(data[\"Agency Type\"])).join(pd.get_dummies(data[\"Distribution Channel\"])).join(pd.get_dummies(data[\"Product Name\"])).join(pd.get_dummies(data[\"Destination\"])).drop(columns=[\"Agency\", \"Agency Type\", \"Distribution Channel\", \"Product Name\", \"Destination\"])\n",
    "newdata.shape"
   ]
  },
  {
   "cell_type": "markdown",
   "metadata": {},
   "source": [
    "## Making prediction"
   ]
  },
  {
   "cell_type": "code",
   "execution_count": 185,
   "metadata": {},
   "outputs": [
    {
     "data": {
      "text/plain": [
       "LogisticRegression(C=1.0, class_weight=None, dual=False, fit_intercept=True,\n",
       "                   intercept_scaling=1, l1_ratio=None, max_iter=100,\n",
       "                   multi_class='warn', n_jobs=None, penalty='l2',\n",
       "                   random_state=None, solver='warn', tol=0.0001, verbose=0,\n",
       "                   warm_start=False)"
      ]
     },
     "execution_count": 185,
     "metadata": {},
     "output_type": "execute_result"
    }
   ],
   "source": [
    "lr = LogisticRegression()\n",
    "lr.fit(X_train, y_train)"
   ]
  },
  {
   "cell_type": "code",
   "execution_count": 186,
   "metadata": {},
   "outputs": [],
   "source": [
    "y_pred = lr.predict(X_test)"
   ]
  },
  {
   "cell_type": "code",
   "execution_count": 187,
   "metadata": {},
   "outputs": [
    {
     "name": "stdout",
     "output_type": "stream",
     "text": [
      "Confusion Matrix\n",
      "[[12621   447]\n",
      " [ 1810   799]]\n",
      "\n",
      "Classification report\n",
      "              precision    recall  f1-score   support\n",
      "\n",
      "           0       0.87      0.97      0.92     13068\n",
      "           1       0.64      0.31      0.41      2609\n",
      "\n",
      "    accuracy                           0.86     15677\n",
      "   macro avg       0.76      0.64      0.67     15677\n",
      "weighted avg       0.84      0.86      0.83     15677\n",
      "\n",
      "\n",
      "Accuracy score :  85.6 %\n"
     ]
    }
   ],
   "source": [
    "cm = confusion_matrix(y_test, y_pred)\n",
    "print(\"Confusion Matrix\")\n",
    "print(cm)\n",
    "\n",
    "cr = classification_report(y_test, y_pred)\n",
    "print()\n",
    "print(\"Classification report\")\n",
    "print(cr)\n",
    "\n",
    "accuracy = accuracy_score(y_test, y_pred)\n",
    "print()\n",
    "print(\"Accuracy score : \", round(accuracy*100,2), \"%\")"
   ]
  },
  {
   "cell_type": "markdown",
   "metadata": {},
   "source": [
    "## Label encoding"
   ]
  },
  {
   "cell_type": "code",
   "execution_count": 14,
   "metadata": {},
   "outputs": [],
   "source": [
    "le = LabelEncoder()\n",
    "newdata2=data\n",
    "newdata2[\"Agency\"] = le.fit_transform(newdata2[\"Agency\"])\n",
    "newdata2[\"Agency Type\"] = le.fit_transform(newdata2[\"Agency Type\"])\n",
    "newdata2[\"Distribution Channel\"] = le.fit_transform(newdata2[\"Distribution Channel\"])\n",
    "newdata2[\"Product Name\"] = le.fit_transform(newdata2[\"Product Name\"])\n",
    "newdata2[\"Destination\"] = le.fit_transform(newdata2[\"Destination\"])"
   ]
  },
  {
   "cell_type": "markdown",
   "metadata": {},
   "source": [
    "## Spliting data then Making prediction"
   ]
  },
  {
   "cell_type": "code",
   "execution_count": 15,
   "metadata": {},
   "outputs": [],
   "source": [
    "X_train, X_test, y_train, y_test = train_test_split(newdata2.drop(columns=[\"Claim\"]), newdata2[\"Claim\"], test_size=0.3, random_state=6)"
   ]
  },
  {
   "cell_type": "code",
   "execution_count": 16,
   "metadata": {},
   "outputs": [],
   "source": [
    "lr = LogisticRegression()\n",
    "lr.fit(X_train, y_train)\n",
    "y_pred = lr.predict(X_test)"
   ]
  },
  {
   "cell_type": "code",
   "execution_count": 17,
   "metadata": {},
   "outputs": [
    {
     "name": "stdout",
     "output_type": "stream",
     "text": [
      "Confusion Matrix\n",
      "[[12728   406]\n",
      " [ 1993   566]]\n",
      "\n",
      "Classification report\n",
      "              precision    recall  f1-score   support\n",
      "\n",
      "           0       0.86      0.97      0.91     13134\n",
      "           1       0.58      0.22      0.32      2559\n",
      "\n",
      "    accuracy                           0.85     15693\n",
      "   macro avg       0.72      0.60      0.62     15693\n",
      "weighted avg       0.82      0.85      0.82     15693\n",
      "\n",
      "\n",
      "Accuracy score :  84.71 %\n"
     ]
    }
   ],
   "source": [
    "cm = confusion_matrix(y_test, y_pred)\n",
    "print(\"Confusion Matrix\")\n",
    "print(cm)\n",
    "\n",
    "cr = classification_report(y_test, y_pred)\n",
    "print()\n",
    "print(\"Classification report\")\n",
    "print(cr)\n",
    "\n",
    "accuracy = accuracy_score(y_test, y_pred)\n",
    "print()\n",
    "print(\"Accuracy score : \", round(accuracy*100,2), \"%\")"
   ]
  },
  {
   "cell_type": "markdown",
   "metadata": {},
   "source": [
    "## Label Encoder then Random Forest Prediction"
   ]
  },
  {
   "cell_type": "code",
   "execution_count": 18,
   "metadata": {},
   "outputs": [],
   "source": [
    "rfc = RandomForestClassifier(n_estimators=200)\n",
    "rfc.fit(X_train, y_train)\n",
    "y_pred = rfc.predict(X_test)"
   ]
  },
  {
   "cell_type": "code",
   "execution_count": 19,
   "metadata": {},
   "outputs": [
    {
     "name": "stdout",
     "output_type": "stream",
     "text": [
      "Confusion Matrix\n",
      "[[12705   429]\n",
      " [  551  2008]]\n",
      "\n",
      "Classification report\n",
      "              precision    recall  f1-score   support\n",
      "\n",
      "           0       0.96      0.97      0.96     13134\n",
      "           1       0.82      0.78      0.80      2559\n",
      "\n",
      "    accuracy                           0.94     15693\n",
      "   macro avg       0.89      0.88      0.88     15693\n",
      "weighted avg       0.94      0.94      0.94     15693\n",
      "\n",
      "\n",
      "Accuracy score :  93.76 %\n"
     ]
    }
   ],
   "source": [
    "cm = confusion_matrix(y_test, y_pred)\n",
    "print(\"Confusion Matrix\")\n",
    "print(cm)\n",
    "\n",
    "cr = classification_report(y_test, y_pred)\n",
    "print()\n",
    "print(\"Classification report\")\n",
    "print(cr)\n",
    "\n",
    "accuracy = accuracy_score(y_test, y_pred)\n",
    "print()\n",
    "print(\"Accuracy score : \", round(accuracy*100,2), \"%\")"
   ]
  },
  {
   "cell_type": "markdown",
   "metadata": {},
   "source": [
    "## Making prediction using DecisionTreeClassifier"
   ]
  },
  {
   "cell_type": "code",
   "execution_count": 25,
   "metadata": {},
   "outputs": [
    {
     "data": {
      "text/plain": [
       "(52310, 147)"
      ]
     },
     "execution_count": 25,
     "metadata": {},
     "output_type": "execute_result"
    }
   ],
   "source": [
    "newdata = data.join(pd.get_dummies(data[\"Agency\"])).join(pd.get_dummies(data[\"Agency Type\"])).join(pd.get_dummies(data[\"Distribution Channel\"])).join(pd.get_dummies(data[\"Product Name\"])).join(pd.get_dummies(data[\"Destination\"])).drop(columns=[\"Agency\", \"Agency Type\", \"Distribution Channel\", \"Product Name\", \"Destination\"])\n",
    "newdata.shape"
   ]
  },
  {
   "cell_type": "code",
   "execution_count": 26,
   "metadata": {},
   "outputs": [],
   "source": [
    "X_train, X_test, y_train, y_test = train_test_split(newdata.drop(columns=[\"Claim\"]), newdata[\"Claim\"], test_size=0.3, random_state=6)"
   ]
  },
  {
   "cell_type": "code",
   "execution_count": 202,
   "metadata": {},
   "outputs": [],
   "source": [
    "dt = DecisionTreeClassifier(max_depth=3)\n",
    "dt.fit(X_train, y_train)\n",
    "y_pred = dt.predict(X_test)"
   ]
  },
  {
   "cell_type": "code",
   "execution_count": 203,
   "metadata": {},
   "outputs": [
    {
     "name": "stdout",
     "output_type": "stream",
     "text": [
      "Confusion Matrix\n",
      "[[12352   782]\n",
      " [ 1502  1057]]\n",
      "\n",
      "Classification report\n",
      "              precision    recall  f1-score   support\n",
      "\n",
      "           0       0.89      0.94      0.92     13134\n",
      "           1       0.57      0.41      0.48      2559\n",
      "\n",
      "    accuracy                           0.85     15693\n",
      "   macro avg       0.73      0.68      0.70     15693\n",
      "weighted avg       0.84      0.85      0.84     15693\n",
      "\n",
      "\n",
      "Accuracy score :  85.45 %\n"
     ]
    }
   ],
   "source": [
    "cm = confusion_matrix(y_test, y_pred)\n",
    "print(\"Confusion Matrix\")\n",
    "print(cm)\n",
    "\n",
    "cr = classification_report(y_test, y_pred)\n",
    "print()\n",
    "print(\"Classification report\")\n",
    "print(cr)\n",
    "\n",
    "accuracy = accuracy_score(y_test, y_pred)\n",
    "print()\n",
    "print(\"Accuracy score : \", round(accuracy*100,2), \"%\")"
   ]
  },
  {
   "cell_type": "markdown",
   "metadata": {},
   "source": [
    "## Making prediction using RandomForestClassifier"
   ]
  },
  {
   "cell_type": "code",
   "execution_count": 27,
   "metadata": {},
   "outputs": [],
   "source": [
    "rfc = RandomForestClassifier(n_estimators=200)\n",
    "rfc.fit(X_train, y_train)\n",
    "y_pred = rfc.predict(X_test)"
   ]
  },
  {
   "cell_type": "code",
   "execution_count": 28,
   "metadata": {},
   "outputs": [
    {
     "name": "stdout",
     "output_type": "stream",
     "text": [
      "Confusion Matrix\n",
      "[[12672   462]\n",
      " [  542  2017]]\n",
      "\n",
      "Classification report\n",
      "              precision    recall  f1-score   support\n",
      "\n",
      "           0       0.96      0.96      0.96     13134\n",
      "           1       0.81      0.79      0.80      2559\n",
      "\n",
      "    accuracy                           0.94     15693\n",
      "   macro avg       0.89      0.88      0.88     15693\n",
      "weighted avg       0.94      0.94      0.94     15693\n",
      "\n",
      "\n",
      "Accuracy score :  93.6 %\n"
     ]
    }
   ],
   "source": [
    "cm = confusion_matrix(y_test, y_pred)\n",
    "print(\"Confusion Matrix\")\n",
    "print(cm)\n",
    "\n",
    "cr = classification_report(y_test, y_pred)\n",
    "print()\n",
    "print(\"Classification report\")\n",
    "print(cr)\n",
    "\n",
    "accuracy = accuracy_score(y_test, y_pred)\n",
    "print()\n",
    "print(\"Accuracy score : \", round(accuracy*100,2), \"%\")"
   ]
  },
  {
   "cell_type": "code",
   "execution_count": 361,
   "metadata": {},
   "outputs": [
    {
     "data": {
      "image/png": "[encoded data removed]",
      "text/plain": [
       "<Figure size 1440x720 with 1 Axes>"
      ]
     },
     "metadata": {
      "needs_background": "light"
     },
     "output_type": "display_data"
    }
   ],
   "source": [
    "feature_imp = sorted(list(zip(newdata.columns,rfc.feature_importances_)), key= lambda x:x[1])[-1:-20:-1][-1::-1]\n",
    "feature_imp = pd.DataFrame(feature_imp)\n",
    "feature_imp.index = feature_imp.iloc[:,0]\n",
    "feature_imp = feature_imp.drop(columns=[0])\n",
    "plt.figure(figsize=(20,10))\n",
    "plt.barh(feature_imp.index, feature_imp[1])\n",
    "plt.show()"
   ]
  },
  {
   "cell_type": "markdown",
   "metadata": {},
   "source": [
    "## Ramdom search with grid search"
   ]
  },
  {
   "cell_type": "code",
   "execution_count": 220,
   "metadata": {},
   "outputs": [],
   "source": [
    "rfc=RandomForestClassifier()"
   ]
  },
  {
   "cell_type": "code",
   "execution_count": 221,
   "metadata": {},
   "outputs": [],
   "source": [
    "param_grid = { \n",
    "    'n_estimators': [200, 300, 400, 500],\n",
    "    'max_features': ['auto', 'sqrt', 'log2'],\n",
    "    'max_depth' : [None,4,5,6,7,8],\n",
    "    'criterion' :['gini', 'entropy']\n",
    "}"
   ]
  },
  {
   "cell_type": "code",
   "execution_count": 222,
   "metadata": {},
   "outputs": [],
   "source": [
    "cv_rfc = GridSearchCV(estimator=rfc, param_grid=param_grid, cv=5)\n",
    "cv_rfc.fit(X_train, y_train)\n",
    "y_pred = cv_rfc.predict(X_test)"
   ]
  },
  {
   "cell_type": "code",
   "execution_count": 223,
   "metadata": {},
   "outputs": [
    {
     "name": "stdout",
     "output_type": "stream",
     "text": [
      "Confusion Matrix\n",
      "[[12662   472]\n",
      " [  534  2025]]\n",
      "\n",
      "Classification report\n",
      "              precision    recall  f1-score   support\n",
      "\n",
      "           0       0.96      0.96      0.96     13134\n",
      "           1       0.81      0.79      0.80      2559\n",
      "\n",
      "    accuracy                           0.94     15693\n",
      "   macro avg       0.89      0.88      0.88     15693\n",
      "weighted avg       0.94      0.94      0.94     15693\n",
      "\n",
      "\n",
      "Accuracy score :  93.59 %\n"
     ]
    }
   ],
   "source": [
    "cm = confusion_matrix(y_test, y_pred)\n",
    "print(\"Confusion Matrix\")\n",
    "print(cm)\n",
    "\n",
    "cr = classification_report(y_test, y_pred)\n",
    "print()\n",
    "print(\"Classification report\")\n",
    "print(cr)\n",
    "\n",
    "accuracy = accuracy_score(y_test, y_pred)\n",
    "print()\n",
    "print(\"Accuracy score : \", round(accuracy*100,2), \"%\")"
   ]
  },
  {
   "cell_type": "code",
   "execution_count": 224,
   "metadata": {},
   "outputs": [
    {
     "data": {
      "text/plain": [
       "RandomForestClassifier(bootstrap=True, class_weight=None, criterion='entropy',\n",
       "                       max_depth=None, max_features='sqrt', max_leaf_nodes=None,\n",
       "                       min_impurity_decrease=0.0, min_impurity_split=None,\n",
       "                       min_samples_leaf=1, min_samples_split=2,\n",
       "                       min_weight_fraction_leaf=0.0, n_estimators=300,\n",
       "                       n_jobs=None, oob_score=False, random_state=None,\n",
       "                       verbose=0, warm_start=False)"
      ]
     },
     "execution_count": 224,
     "metadata": {},
     "output_type": "execute_result"
    }
   ],
   "source": [
    "cv_rfc.best_estimator_"
   ]
  },
  {
   "cell_type": "markdown",
   "metadata": {},
   "source": [
    "## Binary Encoding and Prediction using Binary Encoder"
   ]
  },
  {
   "cell_type": "code",
   "execution_count": 7,
   "metadata": {},
   "outputs": [],
   "source": [
    "be = ce.BinaryEncoder(cols=[\"Agency\", \"Agency Type\", \"Distribution Channel\", \"Product Name\", \"Duration\", \"Destination\"])\n",
    "data_binary = be.fit_transform(data)"
   ]
  },
  {
   "cell_type": "code",
   "execution_count": 11,
   "metadata": {},
   "outputs": [],
   "source": [
    "X_train, X_test, y_train, y_test = train_test_split(data_binary.drop(columns=[\"Claim\"]), data_binary[\"Claim\"], test_size=0.3, random_state=6)"
   ]
  },
  {
   "cell_type": "code",
   "execution_count": 12,
   "metadata": {},
   "outputs": [],
   "source": [
    "rfc = RandomForestClassifier(n_estimators=200)\n",
    "rfc.fit(X_train, y_train)\n",
    "y_pred = rfc.predict(X_test)"
   ]
  },
  {
   "cell_type": "code",
   "execution_count": 13,
   "metadata": {},
   "outputs": [
    {
     "name": "stdout",
     "output_type": "stream",
     "text": [
      "Confusion Matrix\n",
      "[[12596   538]\n",
      " [  862  1697]]\n",
      "\n",
      "Classification report\n",
      "              precision    recall  f1-score   support\n",
      "\n",
      "           0       0.94      0.96      0.95     13134\n",
      "           1       0.76      0.66      0.71      2559\n",
      "\n",
      "    accuracy                           0.91     15693\n",
      "   macro avg       0.85      0.81      0.83     15693\n",
      "weighted avg       0.91      0.91      0.91     15693\n",
      "\n",
      "\n",
      "Accuracy score :  91.08 %\n"
     ]
    }
   ],
   "source": [
    "cm = confusion_matrix(y_test, y_pred)\n",
    "print(\"Confusion Matrix\")\n",
    "print(cm)\n",
    "\n",
    "cr = classification_report(y_test, y_pred)\n",
    "print()\n",
    "print(\"Classification report\")\n",
    "print(cr)\n",
    "\n",
    "accuracy = accuracy_score(y_test, y_pred)\n",
    "print()\n",
    "print(\"Accuracy score : \", round(accuracy*100,2), \"%\")"
   ]
  },
  {
   "cell_type": "markdown",
   "metadata": {},
   "source": [
    "## Random forest with outlier handling and normalization"
   ]
  },
  {
   "cell_type": "code",
   "execution_count": 44,
   "metadata": {},
   "outputs": [],
   "source": [
    "newdata = df.drop(columns=\"Agency\")"
   ]
  },
  {
   "cell_type": "markdown",
   "metadata": {},
   "source": [
    "### This method of handling outlier is giving 93.58% accuracy"
   ]
  },
  {
   "cell_type": "code",
   "execution_count": 45,
   "metadata": {},
   "outputs": [],
   "source": [
    "newdata[\"Duration\"] = newdata[\"Duration\"].apply(lambda x: np.NaN if (x>1000) | (x<0) else x)\n",
    "newdata.fillna(newdata[\"Duration\"].mean(),inplace=True)"
   ]
  },
  {
   "cell_type": "markdown",
   "metadata": {},
   "source": [
    "### This method of handling outlier is giving 93.76% accuracy"
   ]
  },
  {
   "cell_type": "code",
   "execution_count": 325,
   "metadata": {},
   "outputs": [],
   "source": [
    "newdata = newdata[(newdata[\"Duration\"]<1000) & (newdata[\"Duration\"]>0)]"
   ]
  },
  {
   "cell_type": "markdown",
   "metadata": {},
   "source": [
    "### One-Hot Encoding"
   ]
  },
  {
   "cell_type": "code",
   "execution_count": 8,
   "metadata": {},
   "outputs": [
    {
     "data": {
      "text/plain": [
       "(52310, 131)"
      ]
     },
     "execution_count": 8,
     "metadata": {},
     "output_type": "execute_result"
    }
   ],
   "source": [
    "newdata = newdata.join(pd.get_dummies(newdata[\"Agency Type\"])).join(pd.get_dummies(newdata[\"Distribution Channel\"])).join(pd.get_dummies(newdata[\"Product Name\"])).join(pd.get_dummies(newdata[\"Destination\"])).drop(columns=[\"Agency Type\", \"Distribution Channel\", \"Product Name\", \"Destination\"])\n",
    "newdata.shape"
   ]
  },
  {
   "cell_type": "code",
   "execution_count": 46,
   "metadata": {},
   "outputs": [
    {
     "data": {
      "text/plain": [
       "(52310, 147)"
      ]
     },
     "execution_count": 46,
     "metadata": {},
     "output_type": "execute_result"
    }
   ],
   "source": [
    "newdata = newdata.join(pd.get_dummies(newdata[\"Agency\"])).join(pd.get_dummies(newdata[\"Agency Type\"])).join(pd.get_dummies(newdata[\"Distribution Channel\"])).join(pd.get_dummies(newdata[\"Product Name\"])).join(pd.get_dummies(newdata[\"Destination\"])).drop(columns=[\"Agency\", \"Agency Type\", \"Distribution Channel\", \"Product Name\", \"Destination\"])\n",
    "newdata.shape"
   ]
  },
  {
   "cell_type": "markdown",
   "metadata": {},
   "source": [
    "### Normalization is able to achive 89.31% accuracy with rfc"
   ]
  },
  {
   "cell_type": "code",
   "execution_count": 343,
   "metadata": {},
   "outputs": [],
   "source": [
    "newdata[[\"Duration\", \"Net Sales\", \"Commision (in value)\", \"Age\"]] = pd.DataFrame(normalize(newdata.iloc[:,:4]))"
   ]
  },
  {
   "cell_type": "markdown",
   "metadata": {},
   "source": [
    "### Scalling is able to achive 93.65% accuracy with rfc"
   ]
  },
  {
   "cell_type": "code",
   "execution_count": 12,
   "metadata": {},
   "outputs": [],
   "source": [
    "newdata[[\"Duration\", \"Net Sales\", \"Commision (in value)\", \"Age\"]] = pd.DataFrame(scale(newdata.iloc[:,:4]))\n",
    "for col in [\"Duration\", \"Net Sales\", \"Commision (in value)\", \"Age\"]:\n",
    "    newdata[col] = newdata[col].fillna(newdata[col].mean())"
   ]
  },
  {
   "cell_type": "code",
   "execution_count": 14,
   "metadata": {},
   "outputs": [],
   "source": [
    "X_train, X_test, y_train, y_test = train_test_split(newdata.drop(columns=[\"Claim\"]), newdata[\"Claim\"], test_size=0.3, random_state=6)"
   ]
  },
  {
   "cell_type": "code",
   "execution_count": 15,
   "metadata": {},
   "outputs": [],
   "source": [
    "rfc = RandomForestClassifier(n_estimators=750)\n",
    "rfc.fit(X_train, y_train)\n",
    "y_pred = rfc.predict(X_test)"
   ]
  },
  {
   "cell_type": "code",
   "execution_count": 16,
   "metadata": {},
   "outputs": [
    {
     "name": "stdout",
     "output_type": "stream",
     "text": [
      "Confusion Matrix\n",
      "[[12683   451]\n",
      " [  540  2019]]\n",
      "\n",
      "Classification report\n",
      "              precision    recall  f1-score   support\n",
      "\n",
      "           0       0.96      0.97      0.96     13134\n",
      "           1       0.82      0.79      0.80      2559\n",
      "\n",
      "    accuracy                           0.94     15693\n",
      "   macro avg       0.89      0.88      0.88     15693\n",
      "weighted avg       0.94      0.94      0.94     15693\n",
      "\n",
      "\n",
      "Accuracy score :  93.69 %\n"
     ]
    }
   ],
   "source": [
    "cm = confusion_matrix(y_test, y_pred)\n",
    "print(\"Confusion Matrix\")\n",
    "print(cm)\n",
    "\n",
    "cr = classification_report(y_test, y_pred)\n",
    "print()\n",
    "print(\"Classification report\")\n",
    "print(cr)\n",
    "\n",
    "accuracy = accuracy_score(y_test, y_pred)\n",
    "print()\n",
    "print(\"Accuracy score : \", round(accuracy*100,2), \"%\")"
   ]
  },
  {
   "cell_type": "code",
   "execution_count": 377,
   "metadata": {},
   "outputs": [
    {
     "data": {
      "text/plain": [
       "1"
      ]
     },
     "execution_count": 377,
     "metadata": {},
     "output_type": "execute_result"
    }
   ],
   "source": [
    "rfc."
   ]
  },
  {
   "cell_type": "code",
   "execution_count": 376,
   "metadata": {},
   "outputs": [
    {
     "data": {
      "text/plain": [
       "(36617, 146)"
      ]
     },
     "execution_count": 376,
     "metadata": {},
     "output_type": "execute_result"
    }
   ],
   "source": [
    "X_train.shape"
   ]
  },
  {
   "cell_type": "markdown",
   "metadata": {},
   "source": [
    "## Balancing Data set"
   ]
  },
  {
   "cell_type": "code",
   "execution_count": 23,
   "metadata": {},
   "outputs": [
    {
     "data": {
      "text/plain": [
       "<matplotlib.axes._subplots.AxesSubplot at 0x252df101710>"
      ]
     },
     "execution_count": 23,
     "metadata": {},
     "output_type": "execute_result"
    },
    {
     "data": {
      "image/png": "[encoded data removed]",
      "text/plain": [
       "<Figure size 432x288 with 1 Axes>"
      ]
     },
     "metadata": {
      "needs_background": "light"
     },
     "output_type": "display_data"
    }
   ],
   "source": [
    "data[\"Claim\"].value_counts().plot(kind=\"bar\")"
   ]
  },
  {
   "cell_type": "code",
   "execution_count": 28,
   "metadata": {},
   "outputs": [
    {
     "data": {
      "text/plain": [
       "<matplotlib.axes._subplots.AxesSubplot at 0x252df522e48>"
      ]
     },
     "execution_count": 28,
     "metadata": {},
     "output_type": "execute_result"
    },
    {
     "data": {
      "image/png": "[encoded data removed]",
      "text/plain": [
       "<Figure size 432x288 with 1 Axes>"
      ]
     },
     "metadata": {
      "needs_background": "light"
     },
     "output_type": "display_data"
    }
   ],
   "source": [
    "sns.countplot(\"Claim\", data = data)"
   ]
  },
  {
   "cell_type": "code",
   "execution_count": 116,
   "metadata": {},
   "outputs": [],
   "source": [
    "newdata = df.drop(columns=\"Agency\")\n",
    "newdata[\"Agency Type\"] = newdata[\"Agency Type\"].replace({\"Travel Agency\" : 0, \"Airlines\" : 1})\n",
    "newdata[\"Distribution Channel\"] = newdata[\"Distribution Channel\"].replace({\"Online\" : 0, \"Offline\" : 1})\n",
    "newdata = newdata.join(pd.get_dummies(newdata[\"Product Name\"])).join(pd.get_dummies(newdata[\"Destination\"])).drop(columns=[\"Product Name\", \"Destination\"])\n",
    "data=newdata"
   ]
  },
  {
   "cell_type": "code",
   "execution_count": 117,
   "metadata": {},
   "outputs": [],
   "source": [
    "X_sample, X_test, y_sample, y_test = train_test_split(data.drop(columns=[\"Claim\"]), data[\"Claim\"], test_size=0.3, random_state=6)"
   ]
  },
  {
   "cell_type": "code",
   "execution_count": 118,
   "metadata": {},
   "outputs": [],
   "source": [
    "X_sample = X_sample[(X_sample[\"Duration\"]<1000) & (X_sample[\"Duration\"]>0)]\n",
    "X_sample = X_sample[X_sample[\"Age\"]<=90]\n",
    "X_sample = X_sample[X_sample[\"Net Sales\"]>0]\n",
    "y_sample = y_sample.loc[X_sample.index]"
   ]
  },
  {
   "cell_type": "code",
   "execution_count": 119,
   "metadata": {},
   "outputs": [],
   "source": [
    "ros = imblearn.over_sampling.SMOTE()\n",
    "X_resampled, y_resampled = ros.fit_resample(X_sample, y_sample)"
   ]
  },
  {
   "cell_type": "code",
   "execution_count": 120,
   "metadata": {},
   "outputs": [
    {
     "data": {
      "text/plain": [
       "<matplotlib.axes._subplots.AxesSubplot at 0x1927e53ca58>"
      ]
     },
     "execution_count": 120,
     "metadata": {},
     "output_type": "execute_result"
    },
    {
     "data": {
      "image/png": "[encoded data removed]",
      "text/plain": [
       "<Figure size 432x288 with 1 Axes>"
      ]
     },
     "metadata": {
      "needs_background": "light"
     },
     "output_type": "display_data"
    }
   ],
   "source": [
    "pd.DataFrame(data = Counter(y_resampled), index=[0]).plot(kind=\"bar\")"
   ]
  },
  {
   "cell_type": "code",
   "execution_count": 121,
   "metadata": {},
   "outputs": [
    {
     "data": {
      "text/plain": [
       "<matplotlib.axes._subplots.AxesSubplot at 0x1927a0f3978>"
      ]
     },
     "execution_count": 121,
     "metadata": {},
     "output_type": "execute_result"
    },
    {
     "data": {
      "image/png": "[encoded data removed]",
      "text/plain": [
       "<Figure size 432x288 with 1 Axes>"
      ]
     },
     "metadata": {
      "needs_background": "light"
     },
     "output_type": "display_data"
    }
   ],
   "source": [
    "sns.countplot(y_resampled)"
   ]
  },
  {
   "cell_type": "code",
   "execution_count": 122,
   "metadata": {},
   "outputs": [],
   "source": [
    "newdata = pd.DataFrame(X_resampled, columns=X_sample.columns)"
   ]
  },
  {
   "cell_type": "code",
   "execution_count": 123,
   "metadata": {},
   "outputs": [],
   "source": [
    "y_resampled = pd.Series(y_resampled, name=\"Claim\")"
   ]
  },
  {
   "cell_type": "code",
   "execution_count": 124,
   "metadata": {},
   "outputs": [],
   "source": [
    "X_train, X_validate, y_train, y_validate = train_test_split(newdata, y_resampled, test_size=0.1, random_state=6)"
   ]
  },
  {
   "cell_type": "code",
   "execution_count": 125,
   "metadata": {},
   "outputs": [],
   "source": [
    "rfc = RandomForestClassifier(n_estimators=750)\n",
    "rfc.fit(X_train, y_train)\n",
    "y_validate_pred = rfc.predict(X_validate)"
   ]
  },
  {
   "cell_type": "code",
   "execution_count": 126,
   "metadata": {},
   "outputs": [
    {
     "name": "stdout",
     "output_type": "stream",
     "text": [
      "Confusion Matrix\n",
      "[[2712  128]\n",
      " [  64 2838]]\n",
      "\n",
      "Classification report\n",
      "              precision    recall  f1-score   support\n",
      "\n",
      "           0       0.98      0.95      0.97      2840\n",
      "           1       0.96      0.98      0.97      2902\n",
      "\n",
      "    accuracy                           0.97      5742\n",
      "   macro avg       0.97      0.97      0.97      5742\n",
      "weighted avg       0.97      0.97      0.97      5742\n",
      "\n",
      "\n",
      "Accuracy score :  96.66 %\n"
     ]
    }
   ],
   "source": [
    "cm = confusion_matrix(y_validate, y_validate_pred)\n",
    "print(\"Confusion Matrix\")\n",
    "print(cm)\n",
    "\n",
    "cr = classification_report(y_validate, y_validate_pred)\n",
    "print()\n",
    "print(\"Classification report\")\n",
    "print(cr)\n",
    "\n",
    "accuracy = accuracy_score(y_validate, y_validate_pred)\n",
    "print()\n",
    "print(\"Accuracy score : \", round(accuracy*100,2), \"%\")"
   ]
  },
  {
   "cell_type": "code",
   "execution_count": 127,
   "metadata": {},
   "outputs": [],
   "source": [
    "y_test_pred = rfc.predict(X_test)"
   ]
  },
  {
   "cell_type": "code",
   "execution_count": 128,
   "metadata": {},
   "outputs": [
    {
     "name": "stdout",
     "output_type": "stream",
     "text": [
      "Confusion Matrix\n",
      "[[12549   585]\n",
      " [  429  2130]]\n",
      "\n",
      "Classification report\n",
      "              precision    recall  f1-score   support\n",
      "\n",
      "           0       0.97      0.96      0.96     13134\n",
      "           1       0.78      0.83      0.81      2559\n",
      "\n",
      "    accuracy                           0.94     15693\n",
      "   macro avg       0.88      0.89      0.88     15693\n",
      "weighted avg       0.94      0.94      0.94     15693\n",
      "\n",
      "\n",
      "Accuracy score :  93.54 %\n"
     ]
    }
   ],
   "source": [
    "cm = confusion_matrix(y_test, y_test_pred)\n",
    "print(\"Confusion Matrix\")\n",
    "print(cm)\n",
    "\n",
    "cr = classification_report(y_test, y_test_pred)\n",
    "print()\n",
    "print(\"Classification report\")\n",
    "print(cr)\n",
    "\n",
    "accuracy = accuracy_score(y_test, y_test_pred)\n",
    "print()\n",
    "print(\"Accuracy score : \", round(accuracy*100,2), \"%\")"
   ]
  },
  {
   "cell_type": "markdown",
   "metadata": {},
   "source": [
    "## new way"
   ]
  },
  {
   "cell_type": "code",
   "execution_count": 74,
   "metadata": {},
   "outputs": [
    {
     "data": {
      "text/html": [
       "<div>\n",
       "<style scoped>\n",
       "    .dataframe tbody tr th:only-of-type {\n",
       "        vertical-align: middle;\n",
       "    }\n",
       "\n",
       "    .dataframe tbody tr th {\n",
       "        vertical-align: top;\n",
       "    }\n",
       "\n",
       "    .dataframe thead th {\n",
       "        text-align: right;\n",
       "    }\n",
       "</style>\n",
       "<table border=\"1\" class=\"dataframe\">\n",
       "  <thead>\n",
       "    <tr style=\"text-align: right;\">\n",
       "      <th></th>\n",
       "      <th>Agency</th>\n",
       "      <th>Agency Type</th>\n",
       "      <th>Distribution Channel</th>\n",
       "      <th>Product Name</th>\n",
       "      <th>Duration</th>\n",
       "      <th>Destination</th>\n",
       "      <th>Net Sales</th>\n",
       "      <th>Commision (in value)</th>\n",
       "      <th>Age</th>\n",
       "      <th>Claim</th>\n",
       "    </tr>\n",
       "  </thead>\n",
       "  <tbody>\n",
       "    <tr>\n",
       "      <th>0</th>\n",
       "      <td>EPX</td>\n",
       "      <td>0</td>\n",
       "      <td>0</td>\n",
       "      <td>Cancellation Plan</td>\n",
       "      <td>61</td>\n",
       "      <td>PHILIPPINES</td>\n",
       "      <td>12.0</td>\n",
       "      <td>0.00</td>\n",
       "      <td>41</td>\n",
       "      <td>0</td>\n",
       "    </tr>\n",
       "    <tr>\n",
       "      <th>1</th>\n",
       "      <td>EPX</td>\n",
       "      <td>0</td>\n",
       "      <td>0</td>\n",
       "      <td>Cancellation Plan</td>\n",
       "      <td>4</td>\n",
       "      <td>MALAYSIA</td>\n",
       "      <td>17.0</td>\n",
       "      <td>0.00</td>\n",
       "      <td>35</td>\n",
       "      <td>0</td>\n",
       "    </tr>\n",
       "    <tr>\n",
       "      <th>2</th>\n",
       "      <td>CWT</td>\n",
       "      <td>0</td>\n",
       "      <td>0</td>\n",
       "      <td>Rental Vehicle Excess Insurance</td>\n",
       "      <td>26</td>\n",
       "      <td>THAILAND</td>\n",
       "      <td>19.8</td>\n",
       "      <td>11.88</td>\n",
       "      <td>47</td>\n",
       "      <td>0</td>\n",
       "    </tr>\n",
       "    <tr>\n",
       "      <th>3</th>\n",
       "      <td>EPX</td>\n",
       "      <td>0</td>\n",
       "      <td>0</td>\n",
       "      <td>2 way Comprehensive Plan</td>\n",
       "      <td>15</td>\n",
       "      <td>HONG KONG</td>\n",
       "      <td>27.0</td>\n",
       "      <td>0.00</td>\n",
       "      <td>48</td>\n",
       "      <td>0</td>\n",
       "    </tr>\n",
       "    <tr>\n",
       "      <th>4</th>\n",
       "      <td>EPX</td>\n",
       "      <td>0</td>\n",
       "      <td>0</td>\n",
       "      <td>2 way Comprehensive Plan</td>\n",
       "      <td>15</td>\n",
       "      <td>MALAYSIA</td>\n",
       "      <td>37.0</td>\n",
       "      <td>0.00</td>\n",
       "      <td>36</td>\n",
       "      <td>0</td>\n",
       "    </tr>\n",
       "  </tbody>\n",
       "</table>\n",
       "</div>"
      ],
      "text/plain": [
       "  Agency  Agency Type  Distribution Channel                     Product Name  \\\n",
       "0    EPX            0                     0                Cancellation Plan   \n",
       "1    EPX            0                     0                Cancellation Plan   \n",
       "2    CWT            0                     0  Rental Vehicle Excess Insurance   \n",
       "3    EPX            0                     0         2 way Comprehensive Plan   \n",
       "4    EPX            0                     0         2 way Comprehensive Plan   \n",
       "\n",
       "   Duration  Destination  Net Sales  Commision (in value)  Age  Claim  \n",
       "0        61  PHILIPPINES       12.0                  0.00   41      0  \n",
       "1         4     MALAYSIA       17.0                  0.00   35      0  \n",
       "2        26     THAILAND       19.8                 11.88   47      0  \n",
       "3        15    HONG KONG       27.0                  0.00   48      0  \n",
       "4        15     MALAYSIA       37.0                  0.00   36      0  "
      ]
     },
     "execution_count": 74,
     "metadata": {},
     "output_type": "execute_result"
    }
   ],
   "source": [
    "df.head()"
   ]
  },
  {
   "cell_type": "code",
   "execution_count": 78,
   "metadata": {},
   "outputs": [
    {
     "data": {
      "text/html": [
       "<div>\n",
       "<style scoped>\n",
       "    .dataframe tbody tr th:only-of-type {\n",
       "        vertical-align: middle;\n",
       "    }\n",
       "\n",
       "    .dataframe tbody tr th {\n",
       "        vertical-align: top;\n",
       "    }\n",
       "\n",
       "    .dataframe thead th {\n",
       "        text-align: right;\n",
       "    }\n",
       "</style>\n",
       "<table border=\"1\" class=\"dataframe\">\n",
       "  <thead>\n",
       "    <tr style=\"text-align: right;\">\n",
       "      <th></th>\n",
       "      <th>Agency Type</th>\n",
       "      <th>Distribution Channel</th>\n",
       "      <th>Duration</th>\n",
       "      <th>Net Sales</th>\n",
       "      <th>Commision (in value)</th>\n",
       "      <th>Age</th>\n",
       "      <th>Claim</th>\n",
       "      <th>ADM</th>\n",
       "      <th>ART</th>\n",
       "      <th>C2B</th>\n",
       "      <th>...</th>\n",
       "      <th>TURKMENISTAN</th>\n",
       "      <th>UKRAINE</th>\n",
       "      <th>UNITED ARAB EMIRATES</th>\n",
       "      <th>UNITED KINGDOM</th>\n",
       "      <th>UNITED STATES</th>\n",
       "      <th>UZBEKISTAN</th>\n",
       "      <th>VANUATU</th>\n",
       "      <th>VENEZUELA</th>\n",
       "      <th>VIET NAM</th>\n",
       "      <th>ZAMBIA</th>\n",
       "    </tr>\n",
       "  </thead>\n",
       "  <tbody>\n",
       "    <tr>\n",
       "      <th>0</th>\n",
       "      <td>0</td>\n",
       "      <td>0</td>\n",
       "      <td>61</td>\n",
       "      <td>12.0</td>\n",
       "      <td>0.00</td>\n",
       "      <td>41</td>\n",
       "      <td>0</td>\n",
       "      <td>0</td>\n",
       "      <td>0</td>\n",
       "      <td>0</td>\n",
       "      <td>...</td>\n",
       "      <td>0</td>\n",
       "      <td>0</td>\n",
       "      <td>0</td>\n",
       "      <td>0</td>\n",
       "      <td>0</td>\n",
       "      <td>0</td>\n",
       "      <td>0</td>\n",
       "      <td>0</td>\n",
       "      <td>0</td>\n",
       "      <td>0</td>\n",
       "    </tr>\n",
       "    <tr>\n",
       "      <th>1</th>\n",
       "      <td>0</td>\n",
       "      <td>0</td>\n",
       "      <td>4</td>\n",
       "      <td>17.0</td>\n",
       "      <td>0.00</td>\n",
       "      <td>35</td>\n",
       "      <td>0</td>\n",
       "      <td>0</td>\n",
       "      <td>0</td>\n",
       "      <td>0</td>\n",
       "      <td>...</td>\n",
       "      <td>0</td>\n",
       "      <td>0</td>\n",
       "      <td>0</td>\n",
       "      <td>0</td>\n",
       "      <td>0</td>\n",
       "      <td>0</td>\n",
       "      <td>0</td>\n",
       "      <td>0</td>\n",
       "      <td>0</td>\n",
       "      <td>0</td>\n",
       "    </tr>\n",
       "    <tr>\n",
       "      <th>2</th>\n",
       "      <td>0</td>\n",
       "      <td>0</td>\n",
       "      <td>26</td>\n",
       "      <td>19.8</td>\n",
       "      <td>11.88</td>\n",
       "      <td>47</td>\n",
       "      <td>0</td>\n",
       "      <td>0</td>\n",
       "      <td>0</td>\n",
       "      <td>0</td>\n",
       "      <td>...</td>\n",
       "      <td>0</td>\n",
       "      <td>0</td>\n",
       "      <td>0</td>\n",
       "      <td>0</td>\n",
       "      <td>0</td>\n",
       "      <td>0</td>\n",
       "      <td>0</td>\n",
       "      <td>0</td>\n",
       "      <td>0</td>\n",
       "      <td>0</td>\n",
       "    </tr>\n",
       "    <tr>\n",
       "      <th>3</th>\n",
       "      <td>0</td>\n",
       "      <td>0</td>\n",
       "      <td>15</td>\n",
       "      <td>27.0</td>\n",
       "      <td>0.00</td>\n",
       "      <td>48</td>\n",
       "      <td>0</td>\n",
       "      <td>0</td>\n",
       "      <td>0</td>\n",
       "      <td>0</td>\n",
       "      <td>...</td>\n",
       "      <td>0</td>\n",
       "      <td>0</td>\n",
       "      <td>0</td>\n",
       "      <td>0</td>\n",
       "      <td>0</td>\n",
       "      <td>0</td>\n",
       "      <td>0</td>\n",
       "      <td>0</td>\n",
       "      <td>0</td>\n",
       "      <td>0</td>\n",
       "    </tr>\n",
       "    <tr>\n",
       "      <th>4</th>\n",
       "      <td>0</td>\n",
       "      <td>0</td>\n",
       "      <td>15</td>\n",
       "      <td>37.0</td>\n",
       "      <td>0.00</td>\n",
       "      <td>36</td>\n",
       "      <td>0</td>\n",
       "      <td>0</td>\n",
       "      <td>0</td>\n",
       "      <td>0</td>\n",
       "      <td>...</td>\n",
       "      <td>0</td>\n",
       "      <td>0</td>\n",
       "      <td>0</td>\n",
       "      <td>0</td>\n",
       "      <td>0</td>\n",
       "      <td>0</td>\n",
       "      <td>0</td>\n",
       "      <td>0</td>\n",
       "      <td>0</td>\n",
       "      <td>0</td>\n",
       "    </tr>\n",
       "  </tbody>\n",
       "</table>\n",
       "<p>5 rows × 145 columns</p>\n",
       "</div>"
      ],
      "text/plain": [
       "   Agency Type  Distribution Channel  Duration  Net Sales  \\\n",
       "0            0                     0        61       12.0   \n",
       "1            0                     0         4       17.0   \n",
       "2            0                     0        26       19.8   \n",
       "3            0                     0        15       27.0   \n",
       "4            0                     0        15       37.0   \n",
       "\n",
       "   Commision (in value)  Age  Claim  ADM  ART  C2B  ...  TURKMENISTAN  \\\n",
       "0                  0.00   41      0    0    0    0  ...             0   \n",
       "1                  0.00   35      0    0    0    0  ...             0   \n",
       "2                 11.88   47      0    0    0    0  ...             0   \n",
       "3                  0.00   48      0    0    0    0  ...             0   \n",
       "4                  0.00   36      0    0    0    0  ...             0   \n",
       "\n",
       "   UKRAINE  UNITED ARAB EMIRATES  UNITED KINGDOM  UNITED STATES  UZBEKISTAN  \\\n",
       "0        0                     0               0              0           0   \n",
       "1        0                     0               0              0           0   \n",
       "2        0                     0               0              0           0   \n",
       "3        0                     0               0              0           0   \n",
       "4        0                     0               0              0           0   \n",
       "\n",
       "   VANUATU  VENEZUELA  VIET NAM  ZAMBIA  \n",
       "0        0          0         0       0  \n",
       "1        0          0         0       0  \n",
       "2        0          0         0       0  \n",
       "3        0          0         0       0  \n",
       "4        0          0         0       0  \n",
       "\n",
       "[5 rows x 145 columns]"
      ]
     },
     "execution_count": 78,
     "metadata": {},
     "output_type": "execute_result"
    }
   ],
   "source": [
    "# newdata = df.drop(columns=[\"Agency\"])\n",
    "newdata = df\n",
    "newdata[\"Agency Type\"] = newdata[\"Agency Type\"].replace({\"Travel Agency\" : 0, \"Airlines\" : 1})\n",
    "newdata[\"Distribution Channel\"] = newdata[\"Distribution Channel\"].replace({\"Online\" : 0, \"Offline\" : 1})\n",
    "# newdata = newdata.join(pd.get_dummies(newdata[\"Product Name\"])).join(pd.get_dummies(newdata[\"Destination\"])).drop(columns=[\"Product Name\", \"Destination\"])\n",
    "newdata = newdata.join(pd.get_dummies(newdata[\"Agency\"])).join(pd.get_dummies(newdata[\"Product Name\"])).join(pd.get_dummies(newdata[\"Destination\"])).drop(columns=[\"Agency\", \"Product Name\", \"Destination\"])\n",
    "newdata.head()"
   ]
  },
  {
   "cell_type": "code",
   "execution_count": 60,
   "metadata": {},
   "outputs": [],
   "source": [
    "min_age = newdata[\"Age\"].quantile(0.05)\n",
    "max_age = newdata[\"Age\"].quantile(0.95)\n",
    "min_duration = newdata[\"Duration\"].quantile(0.05)\n",
    "max_duration = newdata[\"Duration\"].quantile(0.95)\n",
    "min_netSales = newdata[\"Net Sales\"].quantile(0.05)\n",
    "max_netSales = newdata[\"Net Sales\"].quantile(0.95)\n",
    "min_commision = newdata[\"Commision (in value)\"].quantile(0.05)\n",
    "max_commision = newdata[\"Commision (in value)\"].quantile(0.95)\n",
    "mean_duration = newdata[(newdata[\"Duration\"]>min_duration) & (newdata[\"Duration\"]<max_duration)][\"Duration\"].mean()\n",
    "mean_age = newdata[(newdata[\"Age\"]>min_age) & (newdata[\"Age\"]<max_age)][\"Age\"].mean()\n",
    "mean_netSales = newdata[(newdata[\"Net Sales\"]>min_netSales) & (newdata[\"Net Sales\"]<max_netSales)][\"Duration\"].mean()\n",
    "mean_commision = newdata[(newdata[\"Commision (in value)\"]>min_commision) & (newdata[\"Commision (in value)\"]<max_commision)][\"Commision (in value)\"].mean()"
   ]
  },
  {
   "cell_type": "code",
   "execution_count": 44,
   "metadata": {},
   "outputs": [],
   "source": [
    "newdata[\"Duration\"] = newdata[\"Duration\"].apply(lambda x: mean_duration if (x<=min_duration) | (x>=max_duration) else x)\n",
    "newdata[\"Age\"] = newdata[\"Age\"].apply(lambda x: mean_age if (x<=min_age) | (x>=max_age) else x)\n",
    "newdata[\"Net Sales\"] = newdata[\"Net Sales\"].apply(lambda x: mean_netSales if (x<=min_netSales) | (x>=max_netSales) else x)\n",
    "newdata[\"Commision (in value)\"] = newdata[\"Commision (in value)\"].apply(lambda x: mean_commision if (x<=min_commision) | (x>=max_commision) else x)"
   ]
  },
  {
   "cell_type": "code",
   "execution_count": 49,
   "metadata": {},
   "outputs": [],
   "source": [
    "newdata[[\"Duration\", \"Net Sales\", \"Commision (in value)\", \"Age\"]] = pd.DataFrame(scale(newdata.iloc[:,:4]))\n",
    "for col in [\"Duration\", \"Net Sales\", \"Commision (in value)\", \"Age\"]:\n",
    "    newdata[col] = newdata[col].fillna(newdata[col].mean())"
   ]
  },
  {
   "cell_type": "code",
   "execution_count": 79,
   "metadata": {},
   "outputs": [],
   "source": [
    "X_train, X_test, y_train, y_test = train_test_split(newdata.drop(columns=[\"Claim\"]), newdata[\"Claim\"], test_size=0.3, random_state=6)"
   ]
  },
  {
   "cell_type": "code",
   "execution_count": 80,
   "metadata": {},
   "outputs": [],
   "source": [
    "X_train = X_train[(X_train[\"Duration\"]<1000) & (X_train[\"Duration\"]>0)]\n",
    "X_train = X_train[X_train[\"Age\"]<=90]\n",
    "X_train = X_train[X_train[\"Net Sales\"]>0]\n",
    "y_train = y_train.loc[X_train.index]"
   ]
  },
  {
   "cell_type": "code",
   "execution_count": 62,
   "metadata": {},
   "outputs": [],
   "source": [
    "X_train = X_train[(X_train[\"Duration\"]>min_duration) & (X_train[\"Duration\"]<max_duration)]\n",
    "X_train = X_train[(X_train[\"Age\"]>min_age) & (X_train[\"Age\"]<max_age)]\n",
    "X_train = X_train[(X_train[\"Net Sales\"]>min_netSales) & (X_train[\"Net Sales\"]<max_netSales)]\n",
    "y_train = y_train.loc[X_train.index]"
   ]
  },
  {
   "cell_type": "code",
   "execution_count": 81,
   "metadata": {},
   "outputs": [],
   "source": [
    "rfc = RandomForestClassifier(n_estimators=300)\n",
    "rfc.fit(X_train, y_train)\n",
    "y_pred = rfc.predict(X_test)"
   ]
  },
  {
   "cell_type": "code",
   "execution_count": 82,
   "metadata": {},
   "outputs": [
    {
     "name": "stdout",
     "output_type": "stream",
     "text": [
      "Confusion Matrix\n",
      "[[12675   459]\n",
      " [  563  1996]]\n",
      "\n",
      "Classification report\n",
      "              precision    recall  f1-score   support\n",
      "\n",
      "           0       0.96      0.97      0.96     13134\n",
      "           1       0.81      0.78      0.80      2559\n",
      "\n",
      "    accuracy                           0.93     15693\n",
      "   macro avg       0.89      0.87      0.88     15693\n",
      "weighted avg       0.93      0.93      0.93     15693\n",
      "\n",
      "\n",
      "Accuracy score :  93.49 %\n"
     ]
    }
   ],
   "source": [
    "cm = confusion_matrix(y_test, y_pred)\n",
    "print(\"Confusion Matrix\")\n",
    "print(cm)\n",
    "\n",
    "cr = classification_report(y_test, y_pred)\n",
    "print()\n",
    "print(\"Classification report\")\n",
    "print(cr)\n",
    "\n",
    "accuracy = accuracy_score(y_test, y_pred)\n",
    "print()\n",
    "print(\"Accuracy score : \", round(accuracy*100,2), \"%\")"
   ]
  },
  {
   "cell_type": "markdown",
   "metadata": {},
   "source": [
    "## KNN"
   ]
  },
  {
   "cell_type": "code",
   "execution_count": 159,
   "metadata": {},
   "outputs": [],
   "source": [
    "knn = KNeighborsClassifier()\n",
    "knn.fit(X_train, y_train)\n",
    "y_pred = knn.predict(X_test)"
   ]
  },
  {
   "cell_type": "code",
   "execution_count": 160,
   "metadata": {},
   "outputs": [
    {
     "name": "stdout",
     "output_type": "stream",
     "text": [
      "Confusion Matrix\n",
      "[[12176   958]\n",
      " [  816  1743]]\n",
      "\n",
      "Classification report\n",
      "              precision    recall  f1-score   support\n",
      "\n",
      "           0       0.94      0.93      0.93     13134\n",
      "           1       0.65      0.68      0.66      2559\n",
      "\n",
      "    accuracy                           0.89     15693\n",
      "   macro avg       0.79      0.80      0.80     15693\n",
      "weighted avg       0.89      0.89      0.89     15693\n",
      "\n",
      "\n",
      "Accuracy score :  88.7 %\n"
     ]
    }
   ],
   "source": [
    "cm = confusion_matrix(y_test, y_pred)\n",
    "print(\"Confusion Matrix\")\n",
    "print(cm)\n",
    "\n",
    "cr = classification_report(y_test, y_pred)\n",
    "print()\n",
    "print(\"Classification report\")\n",
    "print(cr)\n",
    "\n",
    "accuracy = accuracy_score(y_test, y_pred)\n",
    "print()\n",
    "print(\"Accuracy score : \", round(accuracy*100,2), \"%\")"
   ]
  },
  {
   "cell_type": "markdown",
   "metadata": {},
   "source": [
    "## SVM"
   ]
  },
  {
   "cell_type": "code",
   "execution_count": 8,
   "metadata": {},
   "outputs": [],
   "source": [
    "clf = SVC(kernel='linear')\n",
    "clf.fit(X_train,y_train)\n",
    "y_pred = clf.predict(X_test)"
   ]
  },
  {
   "cell_type": "code",
   "execution_count": 9,
   "metadata": {},
   "outputs": [
    {
     "name": "stdout",
     "output_type": "stream",
     "text": [
      "Confusion Matrix\n",
      "[[12753   381]\n",
      " [ 1980   579]]\n",
      "\n",
      "Classification report\n",
      "              precision    recall  f1-score   support\n",
      "\n",
      "           0       0.87      0.97      0.92     13134\n",
      "           1       0.60      0.23      0.33      2559\n",
      "\n",
      "    accuracy                           0.85     15693\n",
      "   macro avg       0.73      0.60      0.62     15693\n",
      "weighted avg       0.82      0.85      0.82     15693\n",
      "\n",
      "\n",
      "Accuracy score :  84.96 %\n"
     ]
    }
   ],
   "source": [
    "cm = confusion_matrix(y_test, y_pred)\n",
    "print(\"Confusion Matrix\")\n",
    "print(cm)\n",
    "\n",
    "cr = classification_report(y_test, y_pred)\n",
    "print()\n",
    "print(\"Classification report\")\n",
    "print(cr)\n",
    "\n",
    "accuracy = accuracy_score(y_test, y_pred)\n",
    "print()\n",
    "print(\"Accuracy score : \", round(accuracy*100,2), \"%\")"
   ]
  },
  {
   "cell_type": "code",
   "execution_count": 144,
   "metadata": {},
   "outputs": [
    {
     "data": {
      "image/png": "[encoded data removed]",
      "text/plain": [
       "<Figure size 1440x720 with 1 Axes>"
      ]
     },
     "metadata": {
      "needs_background": "light"
     },
     "output_type": "display_data"
    }
   ],
   "source": [
    "feature_imp = sorted(list(zip(newdata.columns,rfc.feature_importances_)), key= lambda x:x[1])[-1:-20:-1][-1::-1]\n",
    "feature_imp = pd.DataFrame(feature_imp)\n",
    "feature_imp.index = feature_imp.iloc[:,0]\n",
    "feature_imp = feature_imp.drop(columns=[0])\n",
    "plt.figure(figsize=(20,10))\n",
    "plt.barh(feature_imp.index, feature_imp[1])\n",
    "plt.show()"
   ]
  },
  {
   "cell_type": "markdown",
   "metadata": {},
   "source": [
    "# Exploring Test data"
   ]
  },
  {
   "cell_type": "code",
   "execution_count": 92,
   "metadata": {},
   "outputs": [],
   "source": [
    "submission = pd.read_csv(r\"C:\\Users\\eakhumb\\Downloads\\file\\test.csv\")"
   ]
  },
  {
   "cell_type": "code",
   "execution_count": 93,
   "metadata": {},
   "outputs": [
    {
     "data": {
      "image/png": "[encoded data removed]",
      "text/plain": [
       "<Figure size 1440x1080 with 8 Axes>"
      ]
     },
     "metadata": {
      "needs_background": "light"
     },
     "output_type": "display_data"
    }
   ],
   "source": [
    "data = submission\n",
    "fig, ax = plt.subplots(4, 2, figsize=[20,15])\n",
    "fig.subplots_adjust(hspace = .30)\n",
    "\n",
    "ax[0][0].bar(list(data[\"Agency\"].value_counts().index), data[\"Agency\"].value_counts(), alpha = .50,edgecolor= 'black',color ='lightgreen')\n",
    "ax[0][0].tick_params(axis = 'x', labelrotation=90)\n",
    "ax[0][0].set_title(\"Agency Count\")\n",
    "\n",
    "ax[1][0].bar(list(data[\"Agency Type\"].value_counts().index), data[\"Agency Type\"].value_counts(), alpha = .50,edgecolor= 'black',color ='lightgreen')\n",
    "ax[1][0].set_title(\"Agency Type Count\")\n",
    "\n",
    "ax[2][0].bar(list(data[\"Distribution Channel\"].value_counts().index), data[\"Distribution Channel\"].value_counts(), alpha = .50,edgecolor= 'black',color ='lightgreen')\n",
    "ax[2][0].set_title(\"Distribution Channel Count\")\n",
    "\n",
    "ax[3][0].bar(list(data[\"Product Name\"].value_counts().index), data[\"Product Name\"].value_counts(), alpha = .50,edgecolor= 'black',color ='lightgreen')\n",
    "ax[3][0].tick_params(axis = 'x', labelrotation=90)\n",
    "ax[3][0].set_title(\"Product Name Count\")\n",
    "\n",
    "ax[0][1].hist(data[\"Duration\"], bins=20, alpha = .50,edgecolor= 'black',color ='lightgreen')\n",
    "ax[0][1].set_title(\"Duration\")\n",
    "\n",
    "ax[1][1].hist(data[\"Net Sales\"], bins=20, alpha = .50,edgecolor= 'black',color ='lightgreen')\n",
    "ax[1][1].set_title(\"Net Sales\")\n",
    "\n",
    "ax[2][1].hist(data[r\"Commision (in value)\"], bins=20, alpha = .50,edgecolor= 'black',color ='lightgreen')\n",
    "ax[2][1].set_title(r\"Commision (in value)\")\n",
    "\n",
    "ax[3][1].hist(data[\"Age\"], bins=20, alpha = .50,edgecolor= 'black',color ='lightgreen')\n",
    "ax[3][1].set_title(\"Age\")\n",
    "\n",
    "plt.show()"
   ]
  },
  {
   "cell_type": "markdown",
   "metadata": {},
   "source": [
    "# Creating Submission file using best method"
   ]
  },
  {
   "cell_type": "code",
   "execution_count": 83,
   "metadata": {},
   "outputs": [],
   "source": [
    "path = r\"C:\\Users\\eakhumb\\Downloads\\file\\train.csv\""
   ]
  },
  {
   "cell_type": "code",
   "execution_count": 84,
   "metadata": {},
   "outputs": [],
   "source": [
    "df = pd.read_csv(path)\n",
    "df = df.drop(columns=[\"ID\"])"
   ]
  },
  {
   "cell_type": "code",
   "execution_count": 85,
   "metadata": {},
   "outputs": [],
   "source": [
    "newdata = df.drop(columns=[\"Agency\"])\n",
    "newdata[\"Agency Type\"] = newdata[\"Agency Type\"].replace({\"Travel Agency\" : 0, \"Airlines\" : 1})\n",
    "newdata[\"Distribution Channel\"] = newdata[\"Distribution Channel\"].replace({\"Online\" : 0, \"Offline\" : 1})\n",
    "newdata = newdata.join(pd.get_dummies(newdata[\"Product Name\"])).join(pd.get_dummies(newdata[\"Destination\"])).drop(columns=[\"Product Name\", \"Destination\"])"
   ]
  },
  {
   "cell_type": "code",
   "execution_count": 86,
   "metadata": {},
   "outputs": [],
   "source": [
    "newdata = newdata[(newdata[\"Duration\"]<1000) & (newdata[\"Duration\"]>0)]\n",
    "newdata = newdata[newdata[\"Age\"]<=90]\n",
    "newdata = newdata[newdata[\"Net Sales\"]>0]"
   ]
  },
  {
   "cell_type": "code",
   "execution_count": 87,
   "metadata": {},
   "outputs": [
    {
     "data": {
      "text/plain": [
       "RandomForestClassifier(bootstrap=True, class_weight=None, criterion='gini',\n",
       "                       max_depth=None, max_features='auto', max_leaf_nodes=None,\n",
       "                       min_impurity_decrease=0.0, min_impurity_split=None,\n",
       "                       min_samples_leaf=1, min_samples_split=2,\n",
       "                       min_weight_fraction_leaf=0.0, n_estimators=300,\n",
       "                       n_jobs=None, oob_score=False, random_state=None,\n",
       "                       verbose=0, warm_start=False)"
      ]
     },
     "execution_count": 87,
     "metadata": {},
     "output_type": "execute_result"
    }
   ],
   "source": [
    "rfc = RandomForestClassifier(n_estimators=300)\n",
    "rfc.fit(newdata.drop(columns=\"Claim\"), newdata[\"Claim\"])"
   ]
  },
  {
   "cell_type": "code",
   "execution_count": 90,
   "metadata": {},
   "outputs": [],
   "source": [
    "submission = pd.read_csv(r\"C:\\Users\\eakhumb\\Downloads\\file\\test.csv\")"
   ]
  },
  {
   "cell_type": "code",
   "execution_count": 94,
   "metadata": {},
   "outputs": [
    {
     "data": {
      "text/plain": [
       "0    17631\n",
       "1    15064\n",
       "2    14139\n",
       "3    19754\n",
       "4    16439\n",
       "Name: ID, dtype: int64"
      ]
     },
     "execution_count": 94,
     "metadata": {},
     "output_type": "execute_result"
    }
   ],
   "source": [
    "submission_id = submission[\"ID\"]\n",
    "submission.drop(columns=[\"ID\"], inplace=True)\n",
    "submission_id.head()"
   ]
  },
  {
   "cell_type": "code",
   "execution_count": 95,
   "metadata": {},
   "outputs": [],
   "source": [
    "newdata = submission.drop(columns=[\"Agency\"])\n",
    "newdata[\"Agency Type\"] = newdata[\"Agency Type\"].replace({\"Travel Agency\" : 0, \"Airlines\" : 1})\n",
    "newdata[\"Distribution Channel\"] = newdata[\"Distribution Channel\"].replace({\"Online\" : 0, \"Offline\" : 1})\n",
    "newdata = newdata.join(pd.get_dummies(newdata[\"Product Name\"])).join(pd.get_dummies(newdata[\"Destination\"])).drop(columns=[\"Product Name\", \"Destination\"])"
   ]
  },
  {
   "cell_type": "code",
   "execution_count": 96,
   "metadata": {},
   "outputs": [],
   "source": [
    "submission_pred = rfc.predict(newdata)"
   ]
  },
  {
   "cell_type": "code",
   "execution_count": 97,
   "metadata": {},
   "outputs": [
    {
     "data": {
      "text/plain": [
       "((22421,), (22421,))"
      ]
     },
     "execution_count": 97,
     "metadata": {},
     "output_type": "execute_result"
    }
   ],
   "source": [
    "submission_id.shape, submission_pred.shape"
   ]
  },
  {
   "cell_type": "code",
   "execution_count": 99,
   "metadata": {},
   "outputs": [
    {
     "data": {
      "text/html": [
       "<div>\n",
       "<style scoped>\n",
       "    .dataframe tbody tr th:only-of-type {\n",
       "        vertical-align: middle;\n",
       "    }\n",
       "\n",
       "    .dataframe tbody tr th {\n",
       "        vertical-align: top;\n",
       "    }\n",
       "\n",
       "    .dataframe thead th {\n",
       "        text-align: right;\n",
       "    }\n",
       "</style>\n",
       "<table border=\"1\" class=\"dataframe\">\n",
       "  <thead>\n",
       "    <tr style=\"text-align: right;\">\n",
       "      <th></th>\n",
       "      <th>ID</th>\n",
       "      <th>Claim</th>\n",
       "    </tr>\n",
       "  </thead>\n",
       "  <tbody>\n",
       "    <tr>\n",
       "      <th>0</th>\n",
       "      <td>17631</td>\n",
       "      <td>1</td>\n",
       "    </tr>\n",
       "    <tr>\n",
       "      <th>1</th>\n",
       "      <td>15064</td>\n",
       "      <td>1</td>\n",
       "    </tr>\n",
       "    <tr>\n",
       "      <th>2</th>\n",
       "      <td>14139</td>\n",
       "      <td>1</td>\n",
       "    </tr>\n",
       "    <tr>\n",
       "      <th>3</th>\n",
       "      <td>19754</td>\n",
       "      <td>1</td>\n",
       "    </tr>\n",
       "    <tr>\n",
       "      <th>4</th>\n",
       "      <td>16439</td>\n",
       "      <td>1</td>\n",
       "    </tr>\n",
       "  </tbody>\n",
       "</table>\n",
       "</div>"
      ],
      "text/plain": [
       "      ID  Claim\n",
       "0  17631      1\n",
       "1  15064      1\n",
       "2  14139      1\n",
       "3  19754      1\n",
       "4  16439      1"
      ]
     },
     "execution_count": 99,
     "metadata": {},
     "output_type": "execute_result"
    }
   ],
   "source": [
    "submission_template = pd.read_csv(r\"C:\\Users\\eakhumb\\Downloads\\file\\sample_submission.csv\")\n",
    "submission_template.head()"
   ]
  },
  {
   "cell_type": "code",
   "execution_count": 102,
   "metadata": {},
   "outputs": [],
   "source": [
    "submission_final = pd.DataFrame({\"ID\" : submission_id, \"Claim\" : submission_pred})"
   ]
  },
  {
   "cell_type": "code",
   "execution_count": 105,
   "metadata": {},
   "outputs": [],
   "source": [
    "submission_final.to_csv(r\"C:\\Users\\eakhumb\\Downloads\\file\\Submission.csv\", index=False)"
   ]
  }
 ],
 "metadata": {
  "kernelspec": {
   "display_name": "Python 3",
   "language": "python",
   "name": "python3"
  },
  "language_info": {
   "codemirror_mode": {
    "name": "ipython",
    "version": 3
   },
   "file_extension": ".py",
   "mimetype": "text/x-python",
   "name": "python",
   "nbconvert_exporter": "python",
   "pygments_lexer": "ipython3",
   "version": "3.7.3"
  }
 },
 "nbformat": 4,
 "nbformat_minor": 4
}
