{
 "cells": [
  {
   "cell_type": "code",
   "execution_count": 12,
   "metadata": {},
   "outputs": [],
   "source": [
    "def palindrome(num):\n",
    "    num+=1\n",
    "    while str(num)!=str(num)[-1::-1]:\n",
    "        num+=1\n",
    "    return num"
   ]
  },
  {
   "cell_type": "code",
   "execution_count": 14,
   "metadata": {},
   "outputs": [
    {
     "data": {
      "text/plain": [
       "1441"
      ]
     },
     "execution_count": 14,
     "metadata": {},
     "output_type": "execute_result"
    }
   ],
   "source": [
    "palindrome(1331)"
   ]
  },
  {
   "cell_type": "code",
   "execution_count": 73,
   "metadata": {},
   "outputs": [],
   "source": [
    "def a_scramble(str_1, str_2):\n",
    "    res = False\n",
    "    str_1 = each_char_count(str_1)\n",
    "    str_2 = each_char_count(str_2)\n",
    "    for key, value in str_2.items():\n",
    "        if key in str_1.keys() and str_1[key]>=value:\n",
    "            res = True\n",
    "        else:\n",
    "            res = False\n",
    "            return res\n",
    "    return res"
   ]
  },
  {
   "cell_type": "code",
   "execution_count": 71,
   "metadata": {},
   "outputs": [],
   "source": [
    "def each_char_count(str_1):\n",
    "    count = {}\n",
    "    for item in str_1.lower():\n",
    "        if item in count.keys():\n",
    "            count[item] += 1\n",
    "        else:\n",
    "            count[item] = 1\n",
    "    return count"
   ]
  },
  {
   "cell_type": "code",
   "execution_count": 78,
   "metadata": {},
   "outputs": [
    {
     "data": {
      "text/plain": [
       "True"
      ]
     },
     "execution_count": 78,
     "metadata": {},
     "output_type": "execute_result"
    }
   ],
   "source": [
    "a_scramble(\"Tom Marvolo Riddle\",\"Voldemort\")"
   ]
  },
  {
   "cell_type": "code",
   "execution_count": 85,
   "metadata": {},
   "outputs": [],
   "source": [
    "def check_fib(num):\n",
    "    res = -1\n",
    "    s1 = 0\n",
    "    s2 = 1\n",
    "    while res<num:\n",
    "        res = s1 + s2\n",
    "        if res==num:\n",
    "            return True\n",
    "        elif res>num:\n",
    "            return False\n",
    "        s1 = s2\n",
    "        s2 = res"
   ]
  },
  {
   "cell_type": "code",
   "execution_count": 108,
   "metadata": {},
   "outputs": [],
   "source": [
    "def compress(word):\n",
    "    word = word.lower()\n",
    "    res = \"\"\n",
    "    ch = word[0]\n",
    "    num = 1\n",
    "    index = 0\n",
    "    while index<len(word)-1:\n",
    "        if ch==word[index+1]:\n",
    "            num += 1\n",
    "            index += 1\n",
    "        else:\n",
    "            res += ch+str(num)\n",
    "            index += 1\n",
    "            ch = word[index]\n",
    "            num = 1\n",
    "    res += ch+str(num)\n",
    "    return res"
   ]
  },
  {
   "cell_type": "code",
   "execution_count": 112,
   "metadata": {},
   "outputs": [
    {
     "data": {
      "text/plain": [
       "7"
      ]
     },
     "execution_count": 112,
     "metadata": {},
     "output_type": "execute_result"
    }
   ],
   "source": [
    "def k_distinct(string,k):\n",
    "    return len(set(string.lower()))==k"
   ]
  }
 ],
 "metadata": {
  "kernelspec": {
   "display_name": "Python 3",
   "language": "python",
   "name": "python3"
  },
  "language_info": {
   "codemirror_mode": {
    "name": "ipython",
    "version": 3
   },
   "file_extension": ".py",
   "mimetype": "text/x-python",
   "name": "python",
   "nbconvert_exporter": "python",
   "pygments_lexer": "ipython3",
   "version": "3.7.3"
  }
 },
 "nbformat": 4,
 "nbformat_minor": 2
}
