{
 "cells": [
  {
   "cell_type": "code",
   "execution_count": 6,
   "metadata": {},
   "outputs": [
    {
     "name": "stderr",
     "output_type": "stream",
     "text": [
      "C:\\Users\\eakhumb\\AppData\\Local\\Continuum\\anaconda3\\lib\\site-packages\\ipykernel_launcher.py:3: DeprecationWarning: Using or importing the ABCs from 'collections' instead of from 'collections.abc' is deprecated, and in 3.8 it will stop working\n",
      "  This is separate from the ipykernel package so we can avoid doing imports until\n"
     ]
    }
   ],
   "source": [
    "import pandas as pd\n",
    "import pyodbc\n",
    "import pymssql"
   ]
  },
  {
   "cell_type": "code",
   "execution_count": 72,
   "metadata": {},
   "outputs": [],
   "source": [
    "DB = {'servername': 'mw-pa-logs.database.windows.net',\n",
    "      'database': 'NetworkUsage'}\n",
    "username='mwadmin'\n",
    "passwd='Pa55word_'\n",
    "conn = pyodbc.connect('DRIVER={SQL Server};SERVER=' + DB['servername'] + ';DATABASE=' + DB['database'] + ';UID='+username+';PWD='+passwd)"
   ]
  },
  {
   "cell_type": "code",
   "execution_count": 9,
   "metadata": {},
   "outputs": [],
   "source": [
    "# conn = pymssql.connect(server=DB['servername'], user=username, password=passwd, database=DB['database'])"
   ]
  },
  {
   "cell_type": "code",
   "execution_count": 70,
   "metadata": {},
   "outputs": [],
   "source": [
    "cursor = conn.cursor()\n",
    "# rows = cursor.execute(\"SELECT table_name FROM information_schema.tables WHERE table_type = 'base table';\")\n",
    "rows = cursor.execute(\"SELECT table_name FROM information_schema.tables WHERE table_name LIKE('%URL%');\")\n",
    "res = rows.fetchall()\n",
    "cursor.close()\n",
    "conn.close()"
   ]
  },
  {
   "cell_type": "code",
   "execution_count": 71,
   "metadata": {},
   "outputs": [
    {
     "data": {
      "text/plain": [
       "[('Check_URL', ),\n",
       " ('Stage_URLLogRaw', ),\n",
       " ('test_url', ),\n",
       " ('URL', ),\n",
       " ('url_dump', ),\n",
       " ('UrlCategory', ),\n",
       " ('V_GetURL', )]"
      ]
     },
     "execution_count": 71,
     "metadata": {},
     "output_type": "execute_result"
    }
   ],
   "source": [
    "res"
   ]
  },
  {
   "cell_type": "code",
   "execution_count": 73,
   "metadata": {},
   "outputs": [
    {
     "data": {
      "text/html": [
       "<div>\n",
       "<style scoped>\n",
       "    .dataframe tbody tr th:only-of-type {\n",
       "        vertical-align: middle;\n",
       "    }\n",
       "\n",
       "    .dataframe tbody tr th {\n",
       "        vertical-align: top;\n",
       "    }\n",
       "\n",
       "    .dataframe thead th {\n",
       "        text-align: right;\n",
       "    }\n",
       "</style>\n",
       "<table border=\"1\" class=\"dataframe\">\n",
       "  <thead>\n",
       "    <tr style=\"text-align: right;\">\n",
       "      <th></th>\n",
       "      <th>Domain</th>\n",
       "      <th>ReceiveTime</th>\n",
       "      <th>Serial#</th>\n",
       "      <th>Type</th>\n",
       "      <th>Threat_ContentType</th>\n",
       "      <th>ConfigVersion</th>\n",
       "      <th>GenerateTime</th>\n",
       "      <th>Sourceaddress</th>\n",
       "      <th>Destinationaddress</th>\n",
       "      <th>NATSourceIP</th>\n",
       "      <th>...</th>\n",
       "      <th>MonitorTag_IMEI</th>\n",
       "      <th>ParentSessionID</th>\n",
       "      <th>ParentSessionStartTime</th>\n",
       "      <th>Tunnel</th>\n",
       "      <th>Thr_Category</th>\n",
       "      <th>Contentver</th>\n",
       "      <th>SigFlags</th>\n",
       "      <th>SCTPAssociationID</th>\n",
       "      <th>PayloadProtocolID</th>\n",
       "      <th>HttpHeaders</th>\n",
       "    </tr>\n",
       "  </thead>\n",
       "  <tbody>\n",
       "    <tr>\n",
       "      <td>0</td>\n",
       "      <td>1</td>\n",
       "      <td>2020/02/05 13:54:44</td>\n",
       "      <td>012801052998</td>\n",
       "      <td>THREAT</td>\n",
       "      <td>url</td>\n",
       "      <td>2049</td>\n",
       "      <td>2020/02/05 13:54:44</td>\n",
       "      <td>192.168.1.138</td>\n",
       "      <td>13.107.6.163</td>\n",
       "      <td>123.201.117.242</td>\n",
       "      <td>...</td>\n",
       "      <td></td>\n",
       "      <td>0</td>\n",
       "      <td></td>\n",
       "      <td>N/A</td>\n",
       "      <td>unknown</td>\n",
       "      <td>AppThreat-0-0</td>\n",
       "      <td>0x0</td>\n",
       "      <td>0</td>\n",
       "      <td>4294967295</td>\n",
       "      <td></td>\n",
       "    </tr>\n",
       "    <tr>\n",
       "      <td>1</td>\n",
       "      <td>1</td>\n",
       "      <td>2020/02/05 13:54:44</td>\n",
       "      <td>012801052998</td>\n",
       "      <td>THREAT</td>\n",
       "      <td>url</td>\n",
       "      <td>2049</td>\n",
       "      <td>2020/02/05 13:54:44</td>\n",
       "      <td>192.168.1.122</td>\n",
       "      <td>40.100.140.130</td>\n",
       "      <td>123.201.117.242</td>\n",
       "      <td>...</td>\n",
       "      <td></td>\n",
       "      <td>0</td>\n",
       "      <td></td>\n",
       "      <td>N/A</td>\n",
       "      <td>unknown</td>\n",
       "      <td>AppThreat-0-0</td>\n",
       "      <td>0x0</td>\n",
       "      <td>0</td>\n",
       "      <td>4294967295</td>\n",
       "      <td></td>\n",
       "    </tr>\n",
       "    <tr>\n",
       "      <td>2</td>\n",
       "      <td>1</td>\n",
       "      <td>2020/02/05 13:54:44</td>\n",
       "      <td>012801052998</td>\n",
       "      <td>THREAT</td>\n",
       "      <td>url</td>\n",
       "      <td>2049</td>\n",
       "      <td>2020/02/05 13:54:44</td>\n",
       "      <td>192.168.0.73</td>\n",
       "      <td>52.113.194.132</td>\n",
       "      <td>123.201.117.242</td>\n",
       "      <td>...</td>\n",
       "      <td></td>\n",
       "      <td>0</td>\n",
       "      <td></td>\n",
       "      <td>N/A</td>\n",
       "      <td>unknown</td>\n",
       "      <td>AppThreat-0-0</td>\n",
       "      <td>0x0</td>\n",
       "      <td>0</td>\n",
       "      <td>4294967295</td>\n",
       "      <td></td>\n",
       "    </tr>\n",
       "    <tr>\n",
       "      <td>3</td>\n",
       "      <td>1</td>\n",
       "      <td>2020/02/05 13:54:44</td>\n",
       "      <td>012801052998</td>\n",
       "      <td>THREAT</td>\n",
       "      <td>url</td>\n",
       "      <td>2049</td>\n",
       "      <td>2020/02/05 13:54:44</td>\n",
       "      <td>192.168.0.43</td>\n",
       "      <td>17.253.83.203</td>\n",
       "      <td>123.201.117.242</td>\n",
       "      <td>...</td>\n",
       "      <td></td>\n",
       "      <td>0</td>\n",
       "      <td></td>\n",
       "      <td>N/A</td>\n",
       "      <td>unknown</td>\n",
       "      <td>AppThreat-0-0</td>\n",
       "      <td>0x0</td>\n",
       "      <td>0</td>\n",
       "      <td>4294967295</td>\n",
       "      <td></td>\n",
       "    </tr>\n",
       "    <tr>\n",
       "      <td>4</td>\n",
       "      <td>1</td>\n",
       "      <td>2020/02/05 13:54:44</td>\n",
       "      <td>012801052998</td>\n",
       "      <td>THREAT</td>\n",
       "      <td>url</td>\n",
       "      <td>2049</td>\n",
       "      <td>2020/02/05 13:54:44</td>\n",
       "      <td>192.168.0.84</td>\n",
       "      <td>20.189.72.203</td>\n",
       "      <td>123.201.117.242</td>\n",
       "      <td>...</td>\n",
       "      <td></td>\n",
       "      <td>0</td>\n",
       "      <td></td>\n",
       "      <td>N/A</td>\n",
       "      <td>unknown</td>\n",
       "      <td>AppThreat-0-0</td>\n",
       "      <td>0x0</td>\n",
       "      <td>0</td>\n",
       "      <td>4294967295</td>\n",
       "      <td></td>\n",
       "    </tr>\n",
       "  </tbody>\n",
       "</table>\n",
       "<p>5 rows × 75 columns</p>\n",
       "</div>"
      ],
      "text/plain": [
       "  Domain          ReceiveTime       Serial#    Type Threat_ContentType  \\\n",
       "0      1  2020/02/05 13:54:44  012801052998  THREAT                url   \n",
       "1      1  2020/02/05 13:54:44  012801052998  THREAT                url   \n",
       "2      1  2020/02/05 13:54:44  012801052998  THREAT                url   \n",
       "3      1  2020/02/05 13:54:44  012801052998  THREAT                url   \n",
       "4      1  2020/02/05 13:54:44  012801052998  THREAT                url   \n",
       "\n",
       "  ConfigVersion         GenerateTime  Sourceaddress Destinationaddress  \\\n",
       "0          2049  2020/02/05 13:54:44  192.168.1.138       13.107.6.163   \n",
       "1          2049  2020/02/05 13:54:44  192.168.1.122     40.100.140.130   \n",
       "2          2049  2020/02/05 13:54:44   192.168.0.73     52.113.194.132   \n",
       "3          2049  2020/02/05 13:54:44   192.168.0.43      17.253.83.203   \n",
       "4          2049  2020/02/05 13:54:44   192.168.0.84      20.189.72.203   \n",
       "\n",
       "       NATSourceIP  ... MonitorTag_IMEI ParentSessionID  \\\n",
       "0  123.201.117.242  ...                               0   \n",
       "1  123.201.117.242  ...                               0   \n",
       "2  123.201.117.242  ...                               0   \n",
       "3  123.201.117.242  ...                               0   \n",
       "4  123.201.117.242  ...                               0   \n",
       "\n",
       "  ParentSessionStartTime Tunnel Thr_Category     Contentver SigFlags  \\\n",
       "0                           N/A      unknown  AppThreat-0-0      0x0   \n",
       "1                           N/A      unknown  AppThreat-0-0      0x0   \n",
       "2                           N/A      unknown  AppThreat-0-0      0x0   \n",
       "3                           N/A      unknown  AppThreat-0-0      0x0   \n",
       "4                           N/A      unknown  AppThreat-0-0      0x0   \n",
       "\n",
       "  SCTPAssociationID PayloadProtocolID HttpHeaders  \n",
       "0                 0        4294967295              \n",
       "1                 0        4294967295              \n",
       "2                 0        4294967295              \n",
       "3                 0        4294967295              \n",
       "4                 0        4294967295              \n",
       "\n",
       "[5 rows x 75 columns]"
      ]
     },
     "execution_count": 73,
     "metadata": {},
     "output_type": "execute_result"
    }
   ],
   "source": [
    "sql=\"Select * from [Stage_URLLogRaw]\"\n",
    "df = pd.read_sql(sql, conn)\n",
    "df.head()\n",
    "conn.close()"
   ]
  },
  {
   "cell_type": "code",
   "execution_count": 79,
   "metadata": {},
   "outputs": [
    {
     "data": {
      "text/plain": [
       "Domain                                  1\n",
       "ReceiveTime           2020/02/05 13:54:44\n",
       "Serial#                      012801052998\n",
       "Type                               THREAT\n",
       "Threat_ContentType                    url\n",
       "                             ...         \n",
       "Contentver                  AppThreat-0-0\n",
       "SigFlags                              0x0\n",
       "SCTPAssociationID                       0\n",
       "PayloadProtocolID              4294967295\n",
       "HttpHeaders                              \n",
       "Name: 0, Length: 75, dtype: object"
      ]
     },
     "execution_count": 79,
     "metadata": {},
     "output_type": "execute_result"
    }
   ],
   "source": [
    "df.iloc[0,:]"
   ]
  }
 ],
 "metadata": {
  "kernelspec": {
   "display_name": "Python 3",
   "language": "python",
   "name": "python3"
  },
  "language_info": {
   "codemirror_mode": {
    "name": "ipython",
    "version": 3
   },
   "file_extension": ".py",
   "mimetype": "text/x-python",
   "name": "python",
   "nbconvert_exporter": "python",
   "pygments_lexer": "ipython3",
   "version": "3.7.4"
  }
 },
 "nbformat": 4,
 "nbformat_minor": 4
}
