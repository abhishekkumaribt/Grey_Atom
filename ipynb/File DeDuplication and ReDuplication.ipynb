{
 "cells": [
  {
   "cell_type": "code",
   "execution_count": 22,
   "metadata": {},
   "outputs": [],
   "source": [
    "import math"
   ]
  },
  {
   "cell_type": "code",
   "execution_count": 27,
   "metadata": {},
   "outputs": [],
   "source": [
    "s = \"abcdexyzvwabcde\"\n",
    "c = 5"
   ]
  },
  {
   "cell_type": "code",
   "execution_count": 28,
   "metadata": {},
   "outputs": [
    {
     "name": "stdout",
     "output_type": "stream",
     "text": [
      "abcde-0-2,xyzvw-1\n"
     ]
    }
   ],
   "source": [
    "i=0\n",
    "index = 0\n",
    "output = \"\"\n",
    "while i<len(s):\n",
    "    ck = s[i:i+c]\n",
    "    i = i+c\n",
    "    if ck + \"-\" in output:\n",
    "        temp = output[output.index(ck):].index(\",\")\n",
    "        output = output[:temp] + \"-\" + str(index) + output[temp:]\n",
    "    else:\n",
    "        output += ck + \"-\" + str(index) + \",\"\n",
    "    index += 1\n",
    "if len(output)>0:\n",
    "    output = output[:-1];\n",
    "print(output)"
   ]
  },
  {
   "cell_type": "code",
   "execution_count": 46,
   "metadata": {},
   "outputs": [
    {
     "name": "stdout",
     "output_type": "stream",
     "text": [
      "0\n",
      "10\n",
      "0\n",
      "abcdexyzvwabcde\n"
     ]
    }
   ],
   "source": [
    "res = \"\"\n",
    "for i in range (math.ceil(len(s)/c)):\n",
    "    start = output.rfind(\",\", 0, output.index(\"-\" + str(i)))\n",
    "    if start==-1:\n",
    "        start=0\n",
    "    else:\n",
    "        start += 1\n",
    "    print(start)\n",
    "    temp = output[start:]\n",
    "    res += temp[:temp.index(\"-\")]\n",
    "print(res)"
   ]
  },
  {
   "cell_type": "code",
   "execution_count": 44,
   "metadata": {},
   "outputs": [
    {
     "data": {
      "text/plain": [
       "5"
      ]
     },
     "execution_count": 44,
     "metadata": {},
     "output_type": "execute_result"
    }
   ],
   "source": [
    "start = 10\n",
    "output[start:].index(\"-\")"
   ]
  }
 ],
 "metadata": {
  "kernelspec": {
   "display_name": "Python 3",
   "language": "python",
   "name": "python3"
  },
  "language_info": {
   "codemirror_mode": {
    "name": "ipython",
    "version": 3
   },
   "file_extension": ".py",
   "mimetype": "text/x-python",
   "name": "python",
   "nbconvert_exporter": "python",
   "pygments_lexer": "ipython3",
   "version": "3.7.3"
  }
 },
 "nbformat": 4,
 "nbformat_minor": 2
}
