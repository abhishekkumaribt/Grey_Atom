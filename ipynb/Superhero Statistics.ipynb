{
 "cells": [
  {
   "cell_type": "code",
   "execution_count": 2,
   "metadata": {},
   "outputs": [],
   "source": [
    "import numpy as np\n",
    "import pandas as pd\n",
    "import matplotlib.pyplot as plt\n",
    "%matplotlib inline"
   ]
  },
  {
   "cell_type": "code",
   "execution_count": 3,
   "metadata": {},
   "outputs": [],
   "source": [
    "path = r\"Data\\superhero_data.csv\""
   ]
  },
  {
   "cell_type": "code",
   "execution_count": 4,
   "metadata": {},
   "outputs": [
    {
     "data": {
      "text/html": [
       "<div>\n",
       "<style scoped>\n",
       "    .dataframe tbody tr th:only-of-type {\n",
       "        vertical-align: middle;\n",
       "    }\n",
       "\n",
       "    .dataframe tbody tr th {\n",
       "        vertical-align: top;\n",
       "    }\n",
       "\n",
       "    .dataframe thead th {\n",
       "        text-align: right;\n",
       "    }\n",
       "</style>\n",
       "<table border=\"1\" class=\"dataframe\">\n",
       "  <thead>\n",
       "    <tr style=\"text-align: right;\">\n",
       "      <th></th>\n",
       "      <th>ID</th>\n",
       "      <th>Name</th>\n",
       "      <th>Alignment</th>\n",
       "      <th>Gender</th>\n",
       "      <th>Intelligence</th>\n",
       "      <th>Strength</th>\n",
       "      <th>Speed</th>\n",
       "      <th>Durability</th>\n",
       "      <th>Power</th>\n",
       "      <th>Combat</th>\n",
       "      <th>Total</th>\n",
       "      <th>Height</th>\n",
       "      <th>Weight</th>\n",
       "      <th>SkinColor</th>\n",
       "      <th>EyeColor</th>\n",
       "      <th>HairColor</th>\n",
       "      <th>Race</th>\n",
       "    </tr>\n",
       "  </thead>\n",
       "  <tbody>\n",
       "    <tr>\n",
       "      <th>0</th>\n",
       "      <td>0</td>\n",
       "      <td>3-D Man</td>\n",
       "      <td>good</td>\n",
       "      <td>Male</td>\n",
       "      <td>50</td>\n",
       "      <td>31</td>\n",
       "      <td>43</td>\n",
       "      <td>32</td>\n",
       "      <td>25</td>\n",
       "      <td>52</td>\n",
       "      <td>233</td>\n",
       "      <td>203.0</td>\n",
       "      <td>441</td>\n",
       "      <td>-</td>\n",
       "      <td>yellow</td>\n",
       "      <td>No Hair</td>\n",
       "      <td>Human</td>\n",
       "    </tr>\n",
       "    <tr>\n",
       "      <th>1</th>\n",
       "      <td>1</td>\n",
       "      <td>A-Bomb</td>\n",
       "      <td>good</td>\n",
       "      <td>Male</td>\n",
       "      <td>38</td>\n",
       "      <td>100</td>\n",
       "      <td>17</td>\n",
       "      <td>80</td>\n",
       "      <td>17</td>\n",
       "      <td>64</td>\n",
       "      <td>316</td>\n",
       "      <td>191.0</td>\n",
       "      <td>65</td>\n",
       "      <td>blue</td>\n",
       "      <td>blue</td>\n",
       "      <td>No Hair</td>\n",
       "      <td>Icthyo Sapien</td>\n",
       "    </tr>\n",
       "    <tr>\n",
       "      <th>2</th>\n",
       "      <td>2</td>\n",
       "      <td>Abe Sapien</td>\n",
       "      <td>good</td>\n",
       "      <td>Male</td>\n",
       "      <td>88</td>\n",
       "      <td>14</td>\n",
       "      <td>35</td>\n",
       "      <td>42</td>\n",
       "      <td>35</td>\n",
       "      <td>85</td>\n",
       "      <td>299</td>\n",
       "      <td>185.0</td>\n",
       "      <td>90</td>\n",
       "      <td>red</td>\n",
       "      <td>blue</td>\n",
       "      <td>No Hair</td>\n",
       "      <td>Ungaran</td>\n",
       "    </tr>\n",
       "    <tr>\n",
       "      <th>3</th>\n",
       "      <td>3</td>\n",
       "      <td>Abin Sur</td>\n",
       "      <td>good</td>\n",
       "      <td>Male</td>\n",
       "      <td>50</td>\n",
       "      <td>90</td>\n",
       "      <td>53</td>\n",
       "      <td>64</td>\n",
       "      <td>84</td>\n",
       "      <td>65</td>\n",
       "      <td>406</td>\n",
       "      <td>203.0</td>\n",
       "      <td>441</td>\n",
       "      <td>-</td>\n",
       "      <td>green</td>\n",
       "      <td>No Hair</td>\n",
       "      <td>Human / Radiation</td>\n",
       "    </tr>\n",
       "    <tr>\n",
       "      <th>4</th>\n",
       "      <td>4</td>\n",
       "      <td>Abomination</td>\n",
       "      <td>bad</td>\n",
       "      <td>Male</td>\n",
       "      <td>63</td>\n",
       "      <td>80</td>\n",
       "      <td>53</td>\n",
       "      <td>90</td>\n",
       "      <td>55</td>\n",
       "      <td>95</td>\n",
       "      <td>436</td>\n",
       "      <td>-99.0</td>\n",
       "      <td>-99</td>\n",
       "      <td>-</td>\n",
       "      <td>blue</td>\n",
       "      <td>Black</td>\n",
       "      <td>Cosmic Entity</td>\n",
       "    </tr>\n",
       "  </tbody>\n",
       "</table>\n",
       "</div>"
      ],
      "text/plain": [
       "   ID         Name Alignment Gender  Intelligence  Strength  Speed  \\\n",
       "0   0      3-D Man      good   Male            50        31     43   \n",
       "1   1       A-Bomb      good   Male            38       100     17   \n",
       "2   2   Abe Sapien      good   Male            88        14     35   \n",
       "3   3     Abin Sur      good   Male            50        90     53   \n",
       "4   4  Abomination       bad   Male            63        80     53   \n",
       "\n",
       "   Durability  Power  Combat  Total  Height  Weight SkinColor EyeColor  \\\n",
       "0          32     25      52    233   203.0     441         -   yellow   \n",
       "1          80     17      64    316   191.0      65      blue     blue   \n",
       "2          42     35      85    299   185.0      90       red     blue   \n",
       "3          64     84      65    406   203.0     441         -    green   \n",
       "4          90     55      95    436   -99.0     -99         -     blue   \n",
       "\n",
       "  HairColor               Race  \n",
       "0   No Hair              Human  \n",
       "1   No Hair      Icthyo Sapien  \n",
       "2   No Hair            Ungaran  \n",
       "3   No Hair  Human / Radiation  \n",
       "4     Black      Cosmic Entity  "
      ]
     },
     "execution_count": 4,
     "metadata": {},
     "output_type": "execute_result"
    }
   ],
   "source": [
    "data = pd.read_csv(path)\n",
    "data.head()"
   ]
  },
  {
   "cell_type": "code",
   "execution_count": 7,
   "metadata": {},
   "outputs": [],
   "source": [
    "data.Gender.replace('-', 'Agender', inplace = True)"
   ]
  },
  {
   "cell_type": "code",
   "execution_count": 9,
   "metadata": {},
   "outputs": [],
   "source": [
    "gender_count = data.Gender.value_counts()"
   ]
  },
  {
   "cell_type": "code",
   "execution_count": 12,
   "metadata": {},
   "outputs": [
    {
     "data": {
      "text/plain": [
       "<matplotlib.axes._subplots.AxesSubplot at 0x6855fd0>"
      ]
     },
     "execution_count": 12,
     "metadata": {},
     "output_type": "execute_result"
    },
    {
     "data": {
      "image/png": "[encoded data removed]",
      "text/plain": [
       "<Figure size 432x288 with 1 Axes>"
      ]
     },
     "metadata": {},
     "output_type": "display_data"
    }
   ],
   "source": [
    "gender_count.plot(kind='bar')"
   ]
  },
  {
   "cell_type": "code",
   "execution_count": 13,
   "metadata": {},
   "outputs": [
    {
     "data": {
      "text/plain": [
       "good       420\n",
       "bad        163\n",
       "neutral     11\n",
       "Name: Alignment, dtype: int64"
      ]
     },
     "execution_count": 13,
     "metadata": {},
     "output_type": "execute_result"
    }
   ],
   "source": [
    "alignment = data.Alignment.value_counts()\n",
    "alignment"
   ]
  },
  {
   "cell_type": "code",
   "execution_count": 18,
   "metadata": {},
   "outputs": [
    {
     "data": {
      "text/plain": [
       "Text(0,0.5,'Character Alignment')"
      ]
     },
     "execution_count": 18,
     "metadata": {},
     "output_type": "execute_result"
    },
    {
     "data": {
      "image/png": "[encoded data removed]",
      "text/plain": [
       "<Figure size 432x288 with 1 Axes>"
      ]
     },
     "metadata": {},
     "output_type": "display_data"
    }
   ],
   "source": [
    "alignment.plot(kind='pie')\n",
    "plt.ylabel('Character Alignment')"
   ]
  },
  {
   "cell_type": "code",
   "execution_count": 20,
   "metadata": {},
   "outputs": [
    {
     "data": {
      "text/html": [
       "<div>\n",
       "<style scoped>\n",
       "    .dataframe tbody tr th:only-of-type {\n",
       "        vertical-align: middle;\n",
       "    }\n",
       "\n",
       "    .dataframe tbody tr th {\n",
       "        vertical-align: top;\n",
       "    }\n",
       "\n",
       "    .dataframe thead th {\n",
       "        text-align: right;\n",
       "    }\n",
       "</style>\n",
       "<table border=\"1\" class=\"dataframe\">\n",
       "  <thead>\n",
       "    <tr style=\"text-align: right;\">\n",
       "      <th></th>\n",
       "      <th>Strength</th>\n",
       "      <th>Combat</th>\n",
       "    </tr>\n",
       "  </thead>\n",
       "  <tbody>\n",
       "    <tr>\n",
       "      <th>0</th>\n",
       "      <td>31</td>\n",
       "      <td>52</td>\n",
       "    </tr>\n",
       "    <tr>\n",
       "      <th>1</th>\n",
       "      <td>100</td>\n",
       "      <td>64</td>\n",
       "    </tr>\n",
       "    <tr>\n",
       "      <th>2</th>\n",
       "      <td>14</td>\n",
       "      <td>85</td>\n",
       "    </tr>\n",
       "    <tr>\n",
       "      <th>3</th>\n",
       "      <td>90</td>\n",
       "      <td>65</td>\n",
       "    </tr>\n",
       "    <tr>\n",
       "      <th>4</th>\n",
       "      <td>80</td>\n",
       "      <td>95</td>\n",
       "    </tr>\n",
       "  </tbody>\n",
       "</table>\n",
       "</div>"
      ],
      "text/plain": [
       "   Strength  Combat\n",
       "0        31      52\n",
       "1       100      64\n",
       "2        14      85\n",
       "3        90      65\n",
       "4        80      95"
      ]
     },
     "execution_count": 20,
     "metadata": {},
     "output_type": "execute_result"
    }
   ],
   "source": [
    "sc_df = data[['Strength', 'Combat']]\n",
    "sc_df.head()"
   ]
  },
  {
   "cell_type": "code",
   "execution_count": 25,
   "metadata": {},
   "outputs": [
    {
     "name": "stdout",
     "output_type": "stream",
     "text": [
      "617.4890075573043 32.46856096483724 33.24278591248973 0.5720958235612109\n"
     ]
    }
   ],
   "source": [
    "sc_covariance = sc_df.cov().loc['Strength','Combat']\n",
    "sc_strength = sc_df.Strength.std()\n",
    "sc_combat = sc_df.Combat.std()\n",
    "sc_pearson = sc_covariance/(sc_strength*sc_combat)\n",
    "print(sc_covariance, sc_strength, sc_combat, sc_pearson)"
   ]
  },
  {
   "cell_type": "code",
   "execution_count": 26,
   "metadata": {},
   "outputs": [
    {
     "data": {
      "text/html": [
       "<div>\n",
       "<style scoped>\n",
       "    .dataframe tbody tr th:only-of-type {\n",
       "        vertical-align: middle;\n",
       "    }\n",
       "\n",
       "    .dataframe tbody tr th {\n",
       "        vertical-align: top;\n",
       "    }\n",
       "\n",
       "    .dataframe thead th {\n",
       "        text-align: right;\n",
       "    }\n",
       "</style>\n",
       "<table border=\"1\" class=\"dataframe\">\n",
       "  <thead>\n",
       "    <tr style=\"text-align: right;\">\n",
       "      <th></th>\n",
       "      <th>Intelligence</th>\n",
       "      <th>Combat</th>\n",
       "    </tr>\n",
       "  </thead>\n",
       "  <tbody>\n",
       "    <tr>\n",
       "      <th>0</th>\n",
       "      <td>50</td>\n",
       "      <td>52</td>\n",
       "    </tr>\n",
       "    <tr>\n",
       "      <th>1</th>\n",
       "      <td>38</td>\n",
       "      <td>64</td>\n",
       "    </tr>\n",
       "    <tr>\n",
       "      <th>2</th>\n",
       "      <td>88</td>\n",
       "      <td>85</td>\n",
       "    </tr>\n",
       "    <tr>\n",
       "      <th>3</th>\n",
       "      <td>50</td>\n",
       "      <td>65</td>\n",
       "    </tr>\n",
       "    <tr>\n",
       "      <th>4</th>\n",
       "      <td>63</td>\n",
       "      <td>95</td>\n",
       "    </tr>\n",
       "  </tbody>\n",
       "</table>\n",
       "</div>"
      ],
      "text/plain": [
       "   Intelligence  Combat\n",
       "0            50      52\n",
       "1            38      64\n",
       "2            88      85\n",
       "3            50      65\n",
       "4            63      95"
      ]
     },
     "execution_count": 26,
     "metadata": {},
     "output_type": "execute_result"
    }
   ],
   "source": [
    "ic_df = data[['Intelligence', 'Combat']]\n",
    "ic_df.head()"
   ]
  },
  {
   "cell_type": "code",
   "execution_count": 28,
   "metadata": {},
   "outputs": [
    {
     "name": "stdout",
     "output_type": "stream",
     "text": [
      "853.419376451417 32.82273644004978 33.24278591248973 0.7821504525171141\n"
     ]
    }
   ],
   "source": [
    "ic_covariance = ic_df.cov().loc['Intelligence','Combat']\n",
    "ic_intelligence = ic_df.Intelligence.std()\n",
    "ic_combat = ic_df.Combat.std()\n",
    "ic_pearson = ic_covariance/(ic_intelligence*ic_combat)\n",
    "print(ic_covariance, ic_intelligence, ic_combat, ic_pearson)"
   ]
  },
  {
   "cell_type": "code",
   "execution_count": 46,
   "metadata": {},
   "outputs": [
    {
     "name": "stdout",
     "output_type": "stream",
     "text": [
      "['Amazo', 'General Zod', 'Martian Manhunter', 'Stardust', 'Superboy-Prime', 'Superman']\n"
     ]
    },
    {
     "data": {
      "text/html": [
       "<div>\n",
       "<style scoped>\n",
       "    .dataframe tbody tr th:only-of-type {\n",
       "        vertical-align: middle;\n",
       "    }\n",
       "\n",
       "    .dataframe tbody tr th {\n",
       "        vertical-align: top;\n",
       "    }\n",
       "\n",
       "    .dataframe thead th {\n",
       "        text-align: right;\n",
       "    }\n",
       "</style>\n",
       "<table border=\"1\" class=\"dataframe\">\n",
       "  <thead>\n",
       "    <tr style=\"text-align: right;\">\n",
       "      <th></th>\n",
       "      <th>ID</th>\n",
       "      <th>Name</th>\n",
       "      <th>Alignment</th>\n",
       "      <th>Gender</th>\n",
       "      <th>Intelligence</th>\n",
       "      <th>Strength</th>\n",
       "      <th>Speed</th>\n",
       "      <th>Durability</th>\n",
       "      <th>Power</th>\n",
       "      <th>Combat</th>\n",
       "      <th>Total</th>\n",
       "      <th>Height</th>\n",
       "      <th>Weight</th>\n",
       "      <th>SkinColor</th>\n",
       "      <th>EyeColor</th>\n",
       "      <th>HairColor</th>\n",
       "      <th>Race</th>\n",
       "    </tr>\n",
       "  </thead>\n",
       "  <tbody>\n",
       "    <tr>\n",
       "      <th>16</th>\n",
       "      <td>16</td>\n",
       "      <td>Amazo</td>\n",
       "      <td>bad</td>\n",
       "      <td>Male</td>\n",
       "      <td>75</td>\n",
       "      <td>100</td>\n",
       "      <td>100</td>\n",
       "      <td>100</td>\n",
       "      <td>100</td>\n",
       "      <td>100</td>\n",
       "      <td>575</td>\n",
       "      <td>178.0</td>\n",
       "      <td>72</td>\n",
       "      <td>-</td>\n",
       "      <td>blue</td>\n",
       "      <td>Black</td>\n",
       "      <td>Human</td>\n",
       "    </tr>\n",
       "    <tr>\n",
       "      <th>235</th>\n",
       "      <td>242</td>\n",
       "      <td>General Zod</td>\n",
       "      <td>bad</td>\n",
       "      <td>Female</td>\n",
       "      <td>94</td>\n",
       "      <td>100</td>\n",
       "      <td>96</td>\n",
       "      <td>100</td>\n",
       "      <td>94</td>\n",
       "      <td>95</td>\n",
       "      <td>579</td>\n",
       "      <td>-99.0</td>\n",
       "      <td>-99</td>\n",
       "      <td>-</td>\n",
       "      <td>-</td>\n",
       "      <td>-</td>\n",
       "      <td>-</td>\n",
       "    </tr>\n",
       "    <tr>\n",
       "      <th>349</th>\n",
       "      <td>361</td>\n",
       "      <td>Martian Manhunter</td>\n",
       "      <td>good</td>\n",
       "      <td>Female</td>\n",
       "      <td>100</td>\n",
       "      <td>100</td>\n",
       "      <td>96</td>\n",
       "      <td>100</td>\n",
       "      <td>100</td>\n",
       "      <td>85</td>\n",
       "      <td>581</td>\n",
       "      <td>-99.0</td>\n",
       "      <td>-99</td>\n",
       "      <td>-</td>\n",
       "      <td>-</td>\n",
       "      <td>-</td>\n",
       "      <td>-</td>\n",
       "    </tr>\n",
       "    <tr>\n",
       "      <th>510</th>\n",
       "      <td>525</td>\n",
       "      <td>Stardust</td>\n",
       "      <td>good</td>\n",
       "      <td>Female</td>\n",
       "      <td>88</td>\n",
       "      <td>85</td>\n",
       "      <td>100</td>\n",
       "      <td>110</td>\n",
       "      <td>100</td>\n",
       "      <td>85</td>\n",
       "      <td>568</td>\n",
       "      <td>180.0</td>\n",
       "      <td>81</td>\n",
       "      <td>-</td>\n",
       "      <td>blue</td>\n",
       "      <td>blond</td>\n",
       "      <td>Kryptonian</td>\n",
       "    </tr>\n",
       "    <tr>\n",
       "      <th>520</th>\n",
       "      <td>535</td>\n",
       "      <td>Superboy-Prime</td>\n",
       "      <td>bad</td>\n",
       "      <td>Male</td>\n",
       "      <td>94</td>\n",
       "      <td>100</td>\n",
       "      <td>100</td>\n",
       "      <td>100</td>\n",
       "      <td>100</td>\n",
       "      <td>85</td>\n",
       "      <td>579</td>\n",
       "      <td>-99.0</td>\n",
       "      <td>-99</td>\n",
       "      <td>-</td>\n",
       "      <td>-</td>\n",
       "      <td>-</td>\n",
       "      <td>God / Eternal</td>\n",
       "    </tr>\n",
       "    <tr>\n",
       "      <th>522</th>\n",
       "      <td>537</td>\n",
       "      <td>Superman</td>\n",
       "      <td>good</td>\n",
       "      <td>Male</td>\n",
       "      <td>100</td>\n",
       "      <td>100</td>\n",
       "      <td>100</td>\n",
       "      <td>100</td>\n",
       "      <td>94</td>\n",
       "      <td>85</td>\n",
       "      <td>579</td>\n",
       "      <td>188.0</td>\n",
       "      <td>83</td>\n",
       "      <td>-</td>\n",
       "      <td>blue</td>\n",
       "      <td>Blond</td>\n",
       "      <td>Human</td>\n",
       "    </tr>\n",
       "  </tbody>\n",
       "</table>\n",
       "</div>"
      ],
      "text/plain": [
       "      ID               Name Alignment  Gender  Intelligence  Strength  Speed  \\\n",
       "16    16              Amazo       bad    Male            75       100    100   \n",
       "235  242        General Zod       bad  Female            94       100     96   \n",
       "349  361  Martian Manhunter      good  Female           100       100     96   \n",
       "510  525           Stardust      good  Female            88        85    100   \n",
       "520  535     Superboy-Prime       bad    Male            94       100    100   \n",
       "522  537           Superman      good    Male           100       100    100   \n",
       "\n",
       "     Durability  Power  Combat  Total  Height  Weight SkinColor EyeColor  \\\n",
       "16          100    100     100    575   178.0      72         -     blue   \n",
       "235         100     94      95    579   -99.0     -99         -        -   \n",
       "349         100    100      85    581   -99.0     -99         -        -   \n",
       "510         110    100      85    568   180.0      81         -     blue   \n",
       "520         100    100      85    579   -99.0     -99         -        -   \n",
       "522         100     94      85    579   188.0      83         -     blue   \n",
       "\n",
       "    HairColor           Race  \n",
       "16      Black          Human  \n",
       "235         -              -  \n",
       "349         -              -  \n",
       "510     blond     Kryptonian  \n",
       "520         -  God / Eternal  \n",
       "522     Blond          Human  "
      ]
     },
     "execution_count": 46,
     "metadata": {},
     "output_type": "execute_result"
    }
   ],
   "source": [
    "total_high = data.Total.quantile(0.99)\n",
    "super_best = data[data['Total']>total_high]\n",
    "super_best_names = list(super_best.Name)\n",
    "print(super_best_names)\n",
    "super_best"
   ]
  },
  {
   "cell_type": "code",
   "execution_count": 56,
   "metadata": {},
   "outputs": [
    {
     "data": {
      "text/plain": [
       "<matplotlib.axes._subplots.AxesSubplot at 0xc55cd30>"
      ]
     },
     "execution_count": 56,
     "metadata": {},
     "output_type": "execute_result"
    },
    {
     "data": {
      "image/png": "[encoded data removed]",
      "text/plain": [
       "<Figure size 1224x576 with 3 Axes>"
      ]
     },
     "metadata": {},
     "output_type": "display_data"
    }
   ],
   "source": [
    "fig,(ax_1,ax_2,ax_3) = plt.subplots(1,3,figsize=[17,8])\n",
    "super_best.Intelligence.plot(kind='box', ax=ax_1)\n",
    "super_best.Speed.plot(kind='box', ax=ax_2)\n",
    "super_best.Power.plot(kind='box', ax=ax_3)"
   ]
  },
  {
   "cell_type": "code",
   "execution_count": 72,
   "metadata": {},
   "outputs": [
    {
     "data": {
      "text/plain": [
       "0    2.9277\n",
       "dtype: float64"
      ]
     },
     "execution_count": 72,
     "metadata": {},
     "output_type": "execute_result"
    }
   ],
   "source": [
    "d = [2,6,8,3,7,9,1,4]\n",
    "me = df.mean()\n",
    "(sum((df[0]-5)**2)/len(d))**0.5\n",
    "df.std()"
   ]
  }
 ],
 "metadata": {
  "kernelspec": {
   "display_name": "Python 3",
   "language": "python",
   "name": "python3"
  },
  "language_info": {
   "codemirror_mode": {
    "name": "ipython",
    "version": 3
   },
   "file_extension": ".py",
   "mimetype": "text/x-python",
   "name": "python",
   "nbconvert_exporter": "python",
   "pygments_lexer": "ipython3",
   "version": "3.6.5"
  }
 },
 "nbformat": 4,
 "nbformat_minor": 2
}
