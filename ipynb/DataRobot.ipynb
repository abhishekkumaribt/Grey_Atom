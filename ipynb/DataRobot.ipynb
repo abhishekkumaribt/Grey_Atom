{
 "cells": [
  {
   "cell_type": "code",
   "execution_count": 5,
   "metadata": {},
   "outputs": [],
   "source": [
    "import pandas as pd\n",
    "import numpy as np\n",
    "import seaborn as sns"
   ]
  },
  {
   "cell_type": "code",
   "execution_count": 2,
   "metadata": {},
   "outputs": [],
   "source": [
    "path = r\"C:\\Users\\eakhumb\\Downloads\\bluebook-for-bulldozers\\Train\\Train.csv\""
   ]
  },
  {
   "cell_type": "code",
   "execution_count": 4,
   "metadata": {},
   "outputs": [
    {
     "data": {
      "text/plain": [
       "(401125, 53)"
      ]
     },
     "execution_count": 4,
     "metadata": {},
     "output_type": "execute_result"
    }
   ],
   "source": [
    "df = pd.read_csv(path)\n",
    "df.shape"
   ]
  },
  {
   "cell_type": "code",
   "execution_count": 20,
   "metadata": {},
   "outputs": [],
   "source": [
    "x = (df.isnull().sum()/df.shape[0])*100\n",
    "x = x[x>0]"
   ]
  },
  {
   "cell_type": "code",
   "execution_count": 21,
   "metadata": {},
   "outputs": [],
   "source": [
    "path = r\"C:\\Users\\eakhumb\\Downloads\\lending-club-loan-data\\loan.csv\""
   ]
  },
  {
   "cell_type": "code",
   "execution_count": 22,
   "metadata": {},
   "outputs": [
    {
     "name": "stderr",
     "output_type": "stream",
     "text": [
      "C:\\Users\\eakhumb\\AppData\\Local\\Continuum\\anaconda3\\lib\\site-packages\\IPython\\core\\interactiveshell.py:3057: DtypeWarning: Columns (19,47,55,112,123,124,125,128,129,130,133,139,140,141) have mixed types. Specify dtype option on import or set low_memory=False.\n",
      "  interactivity=interactivity, compiler=compiler, result=result)\n"
     ]
    }
   ],
   "source": [
    "df = pd.read_csv(path)"
   ]
  },
  {
   "cell_type": "code",
   "execution_count": 83,
   "metadata": {},
   "outputs": [],
   "source": [
    "x = df.sample(3000, random_state=6)\n",
    "\n",
    "df.loan_status.value_counts()\n",
    "\n",
    "# x[\"loan_is_bad\"] = x.apply(lambda x: True if ((x[\"loan_status\"]==\"Fully Paid\") | (x[\"loan_status\"]==\"Current\")) else false)\n",
    "\n",
    "x[\"loan_is_bad\"] = np.where((x.loan_status==\"Fully Paid\") | (x.loan_status==\"Current\"), False, True)\n",
    "\n",
    "x.loan_status.value_counts()\n",
    "\n",
    "x.loan_is_bad.value_counts()\n",
    "\n",
    "x = x.drop(columns=[\"loan_status\",\"collection_recovery_fee\"])\n",
    "\n",
    "x.to_csv(r\"C:\\Users\\eakhumb\\Downloads\\lending-club-loan-data\\loan_sample.csv\")"
   ]
  },
  {
   "cell_type": "code",
   "execution_count": 86,
   "metadata": {},
   "outputs": [],
   "source": [
    "x = df.sample(3000, random_state=6)\n",
    "x[\"loan_is_bad\"] = np.where((x.loan_status==\"Fully Paid\") | (x.loan_status==\"Current\"), False, True)\n",
    "# x[[\"loan_status\", \"hardship_loan_status\", \"loan_is_bad\"]]"
   ]
  }
 ],
 "metadata": {
  "kernelspec": {
   "display_name": "Python 3",
   "language": "python",
   "name": "python3"
  },
  "language_info": {
   "codemirror_mode": {
    "name": "ipython",
    "version": 3
   },
   "file_extension": ".py",
   "mimetype": "text/x-python",
   "name": "python",
   "nbconvert_exporter": "python",
   "pygments_lexer": "ipython3",
   "version": "3.7.3"
  }
 },
 "nbformat": 4,
 "nbformat_minor": 4
}
