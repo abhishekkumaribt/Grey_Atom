{
 "cells": [
  {
   "cell_type": "code",
   "execution_count": 4,
   "metadata": {},
   "outputs": [],
   "source": [
    "import numpy as np\n",
    "import pandas as pd\n",
    "from selenium import webdriver"
   ]
  },
  {
   "cell_type": "code",
   "execution_count": 5,
   "metadata": {},
   "outputs": [],
   "source": [
    "browser = webdriver.Chrome(r\"C:\\Users\\eakhumb\\Downloads\\chromedriver_win32\\chromedriver.exe\")\n",
    "browser.get(\"https://stats.nba.com/players/traditional\")\n",
    "browser.maximize_window()\n",
    "pages = browser.find_element_by_xpath(\"//select[@class='stats-table-pagination__select ng-pristine ng-untouched ng-valid ng-not-empty']\").text[-1]\n",
    "data = pd.DataFrame()\n",
    "pages = int(pages)-1\n",
    "while(pages):\n",
    "    div_table = browser.find_element_by_class_name(\"nba-stat-table__overflow\")\n",
    "    table = div_table.find_element_by_tag_name(\"table\")\n",
    "    temp = data\n",
    "    data = pd.read_html(table.get_attribute('outerHTML'))[0]\n",
    "    data = data.append(temp)\n",
    "    pages = pages-1\n",
    "    browser.find_element_by_xpath(\"//div[@class='stats-table-pagination__inner stats-table-pagination__inner--bottom']\").find_element_by_class_name(\"stats-table-pagination__next\").click()\n",
    "browser.close()"
   ]
  },
  {
   "cell_type": "code",
   "execution_count": 6,
   "metadata": {},
   "outputs": [],
   "source": [
    "fulldata = data"
   ]
  },
  {
   "cell_type": "code",
   "execution_count": 8,
   "metadata": {},
   "outputs": [],
   "source": [
    "data = data[data[\"GP\"]>=data[\"GP\"].max()//2]\n",
    "data = data.iloc[:,1:list(data.columns).index(\"+/-\")+1]"
   ]
  },
  {
   "cell_type": "code",
   "execution_count": 9,
   "metadata": {},
   "outputs": [],
   "source": [
    "MIN_multi = 100/data[\"MIN\"].mean()\n",
    "PTS_multi = 100/data[\"PTS\"].mean()\n",
    "OREB_multi = 100/data[\"OREB\"].mean()\n",
    "DREB_multi = 100/data[\"DREB\"].mean()\n",
    "REB_multi = 100/data[\"REB\"].mean()\n",
    "AST_multi = 100/data[\"AST\"].mean()\n",
    "TOV_multi = 100/data[\"TOV\"].mean()\n",
    "STL_multi = 100/data[\"STL\"].mean()\n",
    "BLK_multi = 100/data[\"BLK\"].mean()\n",
    "DD2_multi = 100/data[\"DD2\"].mean()\n",
    "TD3_multi = 100/data[\"TD3\"].mean()\n",
    "box_multi = 100/data[\"+/-\"].mean()"
   ]
  },
  {
   "cell_type": "code",
   "execution_count": 10,
   "metadata": {},
   "outputs": [],
   "source": [
    "def score_all(data):\n",
    "    return ((data[\"PTS\"]*PTS_multi)+(data[\"REB\"]*REB_multi)+(data[\"AST\"]*AST_multi)-(data[\"TOV\"]*TOV_multi)+(data[\"STL\"]*STL_multi)+(data[\"BLK\"]*BLK_multi))\n",
    "def best_def(data):\n",
    "    return ((data[\"STL\"]*STL_multi)+(data[\"BLK\"]*BLK_multi))\n",
    "def best_off(data):\n",
    "    return ((data[\"PTS\"]*PTS_multi)+(data[\"REB\"]*REB_multi)+(data[\"AST\"]*AST_multi)-(data[\"TOV\"]*TOV_multi))"
   ]
  },
  {
   "cell_type": "code",
   "execution_count": 11,
   "metadata": {},
   "outputs": [],
   "source": [
    "newdata = data"
   ]
  },
  {
   "cell_type": "code",
   "execution_count": 12,
   "metadata": {},
   "outputs": [],
   "source": [
    "newdata[\"score\"] = newdata.apply(lambda x:score_all(x), axis=1)\n",
    "newdata = newdata.sort_values(\"score\", ascending=False)\n",
    "newdata[\"score_rank\"] = (newdata.reset_index().drop(columns=\"index\").index)+1\n",
    "newdata[\"def_score\"] = newdata.apply(lambda x:best_def(x), axis=1)\n",
    "newdata = newdata.sort_values(\"def_score\", ascending=False)\n",
    "newdata[\"def_rank\"] = (newdata.reset_index().drop(columns=\"index\").index)+1\n",
    "newdata[\"off_score\"] = newdata.apply(lambda x:best_off(x), axis=1)\n",
    "newdata = newdata.sort_values(\"off_score\", ascending=False)\n",
    "newdata[\"off_rank\"] = (newdata.reset_index().drop(columns=\"index\").index)+1"
   ]
  },
  {
   "cell_type": "code",
   "execution_count": 13,
   "metadata": {},
   "outputs": [],
   "source": [
    "def over_rank(data):\n",
    "    return ((data[\"score_rank\"]+data[\"def_rank\"]+data[\"off_rank\"])/3)\n",
    "def offdef_rank(data):\n",
    "    return ((data[\"def_rank\"]+data[\"off_rank\"])/2)"
   ]
  },
  {
   "cell_type": "code",
   "execution_count": 15,
   "metadata": {},
   "outputs": [],
   "source": [
    "newdata[\"over_rank\"] = newdata.apply(lambda x:over_rank(x), axis=1)\n",
    "newdata[\"offdef_rank\"] = newdata.apply(lambda x:offdef_rank(x), axis=1)\n",
    "newdata = newdata.sort_values(\"score\", ascending=False)"
   ]
  },
  {
   "cell_type": "code",
   "execution_count": 16,
   "metadata": {},
   "outputs": [],
   "source": [
    "newdata.to_excel(r\"C:\\Users\\eakhumb\\Downloads\\NBA.xlsx\", index=False)"
   ]
  }
 ],
 "metadata": {
  "kernelspec": {
   "display_name": "Python 3",
   "language": "python",
   "name": "python3"
  },
  "language_info": {
   "codemirror_mode": {
    "name": "ipython",
    "version": 3
   },
   "file_extension": ".py",
   "mimetype": "text/x-python",
   "name": "python",
   "nbconvert_exporter": "python",
   "pygments_lexer": "ipython3",
   "version": "3.7.3"
  }
 },
 "nbformat": 4,
 "nbformat_minor": 4
}
