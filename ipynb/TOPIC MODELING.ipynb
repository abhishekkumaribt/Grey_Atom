{
 "cells": [
  {
   "cell_type": "code",
   "execution_count": 91,
   "metadata": {},
   "outputs": [],
   "source": [
    "import pandas as pd\n",
    "import nltk\n",
    "from nltk.corpus import stopwords\n",
    "from nltk.stem import WordNetLemmatizer\n",
    "from string import punctuation\n",
    "from nltk.tokenize import word_tokenize\n",
    "from collections import Counter\n",
    "import operator\n",
    "from collections import Counter\n",
    "import operator\n",
    "import numpy as np\n",
    "import nltk\n",
    "from textblob import TextBlob"
   ]
  },
  {
   "cell_type": "code",
   "execution_count": 35,
   "metadata": {},
   "outputs": [],
   "source": [
    "path = r\"Data\\consumer_complaint_full.csv\""
   ]
  },
  {
   "cell_type": "code",
   "execution_count": 37,
   "metadata": {},
   "outputs": [
    {
     "name": "stderr",
     "output_type": "stream",
     "text": [
      "C:\\Users\\eakhumb\\AppData\\Local\\Continuum\\anaconda3\\lib\\site-packages\\ipykernel_launcher.py:3: SettingWithCopyWarning: \n",
      "A value is trying to be set on a copy of a slice from a DataFrame\n",
      "\n",
      "See the caveats in the documentation: http://pandas.pydata.org/pandas-docs/stable/indexing.html#indexing-view-versus-copy\n",
      "  This is separate from the ipykernel package so we can avoid doing imports until\n"
     ]
    },
    {
     "data": {
      "text/plain": [
       "'When my loan was switched over to Navient i was never told that i had a deliquint balance because with XXXX i did not. When going to purchase a vehicle i discovered my credit score had been dropped from the XXXX into the XXXX. I have been faithful at paying my student loan. I was told that Navient was the company i had delinquency with. I contacted Navient to resolve this issue you and kept being told to just contact the credit bureaus and expalin the situation and maybe they could help me. I was so angry that i just hurried and paid the balance off and then after tried to dispute the delinquency with the credit bureaus. I have had so much trouble bringing my credit score back up.'"
      ]
     },
     "execution_count": 37,
     "metadata": {},
     "output_type": "execute_result"
    }
   ],
   "source": [
    "full_data = pd.read_csv(path)\n",
    "data = full_data[[\"Consumer complaint narrative\", \"Product\"]]\n",
    "data.dropna(inplace=True)\n",
    "data.columns = [\"X\", \"y\"]\n",
    "data[\"X\"][1]"
   ]
  },
  {
   "cell_type": "code",
   "execution_count": 38,
   "metadata": {},
   "outputs": [],
   "source": [
    "stopwords_set = set(stopwords.words('english'))\n",
    "stopwords_set.add('xxxx')\n",
    "custom = list(stopwords_set)+list(punctuation)+['``', \"'s\", \"...\", \"n't\"]"
   ]
  },
  {
   "cell_type": "code",
   "execution_count": 79,
   "metadata": {},
   "outputs": [],
   "source": [
    "first_five_complaints = data.iloc[0:5][\"X\"]\n",
    "BoW = first_five_complaints.str.lower()\n",
    "BoW = [word_tokenize(item) for item in BoW]\n",
    "BoW = [item for sublist in BoW for item in sublist]\n",
    "BoW = [item for item in BoW if item not in custom]"
   ]
  },
  {
   "cell_type": "code",
   "execution_count": 80,
   "metadata": {},
   "outputs": [
    {
     "name": "stderr",
     "output_type": "stream",
     "text": [
      "[nltk_data] Downloading package wordnet to\n",
      "[nltk_data]     C:\\Users\\eakhumb\\AppData\\Roaming\\nltk_data...\n",
      "[nltk_data]   Package wordnet is already up-to-date!\n"
     ]
    },
    {
     "data": {
      "text/plain": [
       "True"
      ]
     },
     "execution_count": 80,
     "metadata": {},
     "output_type": "execute_result"
    }
   ],
   "source": [
    "nltk.download('wordnet')"
   ]
  },
  {
   "cell_type": "code",
   "execution_count": 81,
   "metadata": {},
   "outputs": [],
   "source": [
    "lemmatizer = WordNetLemmatizer()\n",
    "BoW = [lemmatizer.lemmatize(item) for item in BoW]"
   ]
  },
  {
   "cell_type": "code",
   "execution_count": 82,
   "metadata": {},
   "outputs": [],
   "source": [
    "BoW_dict = Counter(BoW)"
   ]
  },
  {
   "cell_type": "code",
   "execution_count": 83,
   "metadata": {},
   "outputs": [],
   "source": [
    "sorted_d = sorted(BoW_dict.items(), key=operator.itemgetter(1), reverse=True)"
   ]
  },
  {
   "cell_type": "code",
   "execution_count": 84,
   "metadata": {},
   "outputs": [
    {
     "data": {
      "text/plain": [
       "True"
      ]
     },
     "execution_count": 84,
     "metadata": {},
     "output_type": "execute_result"
    }
   ],
   "source": [
    "sorted(BoW_dict.items(), key=operator.itemgetter(1), reverse=True) == BoW_dict.most_common()"
   ]
  },
  {
   "cell_type": "code",
   "execution_count": 85,
   "metadata": {},
   "outputs": [],
   "source": [
    "sorted_d = BoW_dict.most_common()"
   ]
  },
  {
   "cell_type": "code",
   "execution_count": 86,
   "metadata": {},
   "outputs": [
    {
     "data": {
      "text/plain": [
       "322"
      ]
     },
     "execution_count": 86,
     "metadata": {},
     "output_type": "execute_result"
    }
   ],
   "source": [
    "len(sorted_d)"
   ]
  },
  {
   "cell_type": "code",
   "execution_count": 89,
   "metadata": {},
   "outputs": [],
   "source": [
    "#Extracting the top 10 words with their count\n",
    "top_10 = sorted_d[:10]\n",
    "\n",
    "#Storing only the top 10 words\n",
    "top_words=[]\n",
    "for x in top_10:\n",
    "    top_words.append(x[0])"
   ]
  },
  {
   "cell_type": "code",
   "execution_count": 93,
   "metadata": {},
   "outputs": [
    {
     "name": "stderr",
     "output_type": "stream",
     "text": [
      "[nltk_data] Downloading package averaged_perceptron_tagger to\n",
      "[nltk_data]     C:\\Users\\eakhumb\\AppData\\Roaming\\nltk_data...\n",
      "[nltk_data]   Unzipping taggers\\averaged_perceptron_tagger.zip.\n"
     ]
    },
    {
     "data": {
      "text/plain": [
       "True"
      ]
     },
     "execution_count": 93,
     "metadata": {},
     "output_type": "execute_result"
    }
   ],
   "source": [
    "nltk.download('averaged_perceptron_tagger')"
   ]
  },
  {
   "cell_type": "code",
   "execution_count": 111,
   "metadata": {},
   "outputs": [],
   "source": [
    "BoW_joined = \" \".join(BoW)\n",
    "blob = TextBlob(BoW_joined)\n",
    "tags = blob.tags\n",
    "nouns = [item[0] for item in tags if item[1]==\"NN\"]\n",
    "top_nouns = [item for item in top_words if item in nouns]"
   ]
  },
  {
   "cell_type": "code",
   "execution_count": 113,
   "metadata": {},
   "outputs": [],
   "source": [
    "from nltk.corpus import stopwords\n",
    "from nltk.stem.wordnet import WordNetLemmatizer\n",
    "import string\n",
    "import gensim\n",
    "from gensim.models.lsimodel import LsiModel\n",
    "from gensim import corpora\n",
    "from pprint import pprint"
   ]
  },
  {
   "cell_type": "code",
   "execution_count": 120,
   "metadata": {},
   "outputs": [
    {
     "name": "stdout",
     "output_type": "stream",
     "text": [
      "[['loan', 'switched', 'navient', 'never', 'told', 'deliquint', 'balance', 'not', 'going', 'purchase', 'vehicle', 'discovered', 'credit', 'score', 'dropped', 'xxxx', 'faithful', 'paying', 'student', 'loan', 'told', 'navient', 'company', 'delinquency', 'with', 'contacted', 'navient', 'resolve', 'issue', 'kept', 'told', 'contact', 'credit', 'bureau', 'expalin', 'situation', 'maybe', 'could', 'help', 'me', 'angry', 'hurried', 'paid', 'balance', 'tried', 'dispute', 'delinquency', 'credit', 'bureau', 'much', 'trouble', 'bringing', 'credit', 'score', 'back', 'up'], ['tried', 'sign', 'spending', 'monitoring', 'program', 'capital', 'one', 'let', 'access', 'account']]\n"
     ]
    }
   ],
   "source": [
    "stop = stopwords_set\n",
    "exclude = set(string.punctuation)\n",
    "lemma = WordNetLemmatizer()\n",
    "\n",
    "# Function to lemmatize and remove the stopwords\n",
    "def clean(doc):\n",
    "    stop_free = \" \".join([i for i in doc.lower().split() if i not in stop])\n",
    "    punc_free = \"\".join(ch for ch in stop_free if ch not in exclude)\n",
    "    normalized = \" \".join(lemma.lemmatize(word) for word in punc_free.split())\n",
    "    return normalized\n",
    "\n",
    "# Creating a list of documents from the complaints column\n",
    "list_of_docs = data[\"X\"].tolist()\n",
    "\n",
    "# Implementing the function for all the complaints of list_of_docs\n",
    "doc_clean = [clean(doc).split() for doc in list_of_docs]\n",
    "print(doc_clean[:2])"
   ]
  },
  {
   "cell_type": "code",
   "execution_count": 143,
   "metadata": {},
   "outputs": [
    {
     "data": {
      "text/plain": [
       "[(0,\n",
       "  '0.351*\"xxxxxxxx\" + 0.311*\"credit\" + 0.308*\"xxxx\" + 0.293*\"account\" + 0.193*\"payment\" + 0.142*\"report\" + 0.139*\"bank\" + 0.132*\"would\" + 0.132*\"card\" + 0.116*\"information\"'),\n",
       " (1,\n",
       "  '-0.455*\"credit\" + 0.345*\"xxxxxxxx\" + -0.298*\"consumer\" + -0.240*\"debt\" + -0.234*\"report\" + -0.225*\"agency\" + -0.209*\"information\" + -0.204*\"reporting\" + -0.160*\"collection\" + 0.137*\"bank\"'),\n",
       " (2,\n",
       "  '-0.355*\"consumer\" + 0.350*\"credit\" + 0.277*\"card\" + -0.203*\"law\" + -0.186*\"criminal\" + -0.178*\"property\" + -0.170*\"information\" + -0.165*\"mortgage\" + -0.164*\"agency\" + -0.149*\"court\"'),\n",
       " (3,\n",
       "  '0.709*\"xxxxxxxx\" + -0.391*\"payment\" + -0.252*\"loan\" + -0.133*\"would\" + -0.107*\"told\" + 0.101*\"usaa\" + 0.101*\"inquiry\" + -0.088*\"pay\" + -0.080*\"nt\" + 0.077*\"report\"'),\n",
       " (4,\n",
       "  '0.377*\"consumer\" + -0.290*\"credit\" + 0.258*\"information\" + 0.206*\"payment\" + -0.180*\"criminal\" + -0.163*\"law\" + -0.161*\"card\" + 0.155*\"loan\" + 0.148*\"xxxxxxxx\" + -0.148*\"property\"')]"
      ]
     },
     "execution_count": 143,
     "metadata": {},
     "output_type": "execute_result"
    }
   ],
   "source": [
    "dictionary = corpora.Dictionary(doc_clean)\n",
    "doc_term_matrix = [dictionary.doc2bow(doc) for doc in doc_clean]\n",
    "lsimodel = LsiModel(corpus=doc_term_matrix, num_topics=5, id2word=dictionary)\n",
    "lsimodel.print_topics(5)"
   ]
  },
  {
   "cell_type": "code",
   "execution_count": 142,
   "metadata": {},
   "outputs": [],
   "source": [
    "from nltk.corpus import stopwords\n",
    "from nltk.stem.wordnet import WordNetLemmatizer\n",
    "import string\n",
    "from gensim.models.ldamodel import LdaModel"
   ]
  },
  {
   "cell_type": "code",
   "execution_count": 144,
   "metadata": {},
   "outputs": [
    {
     "data": {
      "text/plain": [
       "[(0,\n",
       "  '0.024*\"credit\" + 0.018*\"xxxx\" + 0.011*\"account\" + 0.009*\"debt\" + 0.009*\"card\" + 0.008*\"report\" + 0.007*\"payment\" + 0.007*\"xxxxxxxx\" + 0.007*\"loan\" + 0.006*\"company\"'),\n",
       " (1,\n",
       "  '0.022*\"account\" + 0.017*\"credit\" + 0.017*\"xxxxxxxx\" + 0.016*\"payment\" + 0.013*\"report\" + 0.011*\"xxxx\" + 0.008*\"information\" + 0.008*\"would\" + 0.006*\"time\" + 0.006*\"received\"'),\n",
       " (2,\n",
       "  '0.022*\"xxxxxxxx\" + 0.015*\"credit\" + 0.013*\"xxxx\" + 0.011*\"loan\" + 0.008*\"company\" + 0.008*\"report\" + 0.007*\"account\" + 0.007*\"told\" + 0.007*\"payment\" + 0.006*\"called\"'),\n",
       " (3,\n",
       "  '0.014*\"account\" + 0.009*\"xxxx\" + 0.009*\"bank\" + 0.008*\"credit\" + 0.008*\"would\" + 0.007*\"loan\" + 0.007*\"time\" + 0.006*\"company\" + 0.006*\"back\" + 0.006*\"told\"'),\n",
       " (4,\n",
       "  '0.021*\"credit\" + 0.018*\"xxxx\" + 0.017*\"account\" + 0.008*\"report\" + 0.008*\"payment\" + 0.008*\"loan\" + 0.007*\"information\" + 0.007*\"debt\" + 0.006*\"letter\" + 0.006*\"xxxxxxxx\"')]"
      ]
     },
     "execution_count": 144,
     "metadata": {},
     "output_type": "execute_result"
    }
   ],
   "source": [
    "dictionary = corpora.Dictionary(doc_clean)\n",
    "doc_term_matrix = [dictionary.doc2bow(doc) for doc in doc_clean]\n",
    "ldamodel = LdaModel(corpus=doc_term_matrix, num_topics=5, id2word=dictionary)\n",
    "ldamodel.print_topics(5)"
   ]
  },
  {
   "cell_type": "code",
   "execution_count": 145,
   "metadata": {},
   "outputs": [],
   "source": [
    "from gensim.models.coherencemodel import CoherenceModel"
   ]
  },
  {
   "cell_type": "code",
   "execution_count": 146,
   "metadata": {},
   "outputs": [
    {
     "data": {
      "text/plain": [
       "0.3010307222790952"
      ]
     },
     "execution_count": 146,
     "metadata": {},
     "output_type": "execute_result"
    }
   ],
   "source": [
    "perplexity_lda = ldamodel.log_perplexity(doc_term_matrix)\n",
    "coherence_model_lda = CoherenceModel(model=ldamodel, texts=doc_clean, dictionary=dictionary, coherence='c_v')\n",
    "coherence_lda = coherence_model_lda.get_coherence()\n",
    "coherence_lda"
   ]
  },
  {
   "cell_type": "code",
   "execution_count": 148,
   "metadata": {},
   "outputs": [],
   "source": [
    "import numpy as np\n",
    "import pandas as pd\n",
    "import re"
   ]
  },
  {
   "cell_type": "code",
   "execution_count": 149,
   "metadata": {},
   "outputs": [],
   "source": [
    "path = r\"Data\\news_1.csv\""
   ]
  },
  {
   "cell_type": "code",
   "execution_count": 154,
   "metadata": {},
   "outputs": [
    {
     "data": {
      "text/html": [
       "<div>\n",
       "<style scoped>\n",
       "    .dataframe tbody tr th:only-of-type {\n",
       "        vertical-align: middle;\n",
       "    }\n",
       "\n",
       "    .dataframe tbody tr th {\n",
       "        vertical-align: top;\n",
       "    }\n",
       "\n",
       "    .dataframe thead th {\n",
       "        text-align: right;\n",
       "    }\n",
       "</style>\n",
       "<table border=\"1\" class=\"dataframe\">\n",
       "  <thead>\n",
       "    <tr style=\"text-align: right;\">\n",
       "      <th></th>\n",
       "      <th>publish_date</th>\n",
       "      <th>headline_text</th>\n",
       "    </tr>\n",
       "  </thead>\n",
       "  <tbody>\n",
       "    <tr>\n",
       "      <th>286211</th>\n",
       "      <td>2003-02-19</td>\n",
       "      <td>police defend aboriginal tent embassy raid</td>\n",
       "    </tr>\n",
       "    <tr>\n",
       "      <th>180156</th>\n",
       "      <td>2003-02-19</td>\n",
       "      <td>talk of asian nuclear arms race unhelpful downer</td>\n",
       "    </tr>\n",
       "    <tr>\n",
       "      <th>233845</th>\n",
       "      <td>2003-02-19</td>\n",
       "      <td>taipans placing future in publics hands</td>\n",
       "    </tr>\n",
       "    <tr>\n",
       "      <th>170928</th>\n",
       "      <td>2003-02-19</td>\n",
       "      <td>most highly educated live in nsw wa</td>\n",
       "    </tr>\n",
       "    <tr>\n",
       "      <th>245529</th>\n",
       "      <td>2003-02-19</td>\n",
       "      <td>six palestinians killed in gaza incursion</td>\n",
       "    </tr>\n",
       "  </tbody>\n",
       "</table>\n",
       "</div>"
      ],
      "text/plain": [
       "       publish_date                                     headline_text\n",
       "286211   2003-02-19        police defend aboriginal tent embassy raid\n",
       "180156   2003-02-19  talk of asian nuclear arms race unhelpful downer\n",
       "233845   2003-02-19           taipans placing future in publics hands\n",
       "170928   2003-02-19               most highly educated live in nsw wa\n",
       "245529   2003-02-19         six palestinians killed in gaza incursion"
      ]
     },
     "execution_count": 154,
     "metadata": {},
     "output_type": "execute_result"
    }
   ],
   "source": [
    "data = pd.read_csv(path, parse_dates=[0], infer_datetime_format=True)\n",
    "data = data.sort_values(\"publish_date\")\n",
    "data.head()"
   ]
  },
  {
   "cell_type": "code",
   "execution_count": 156,
   "metadata": {},
   "outputs": [
    {
     "data": {
      "text/plain": [
       "(331100, 2)"
      ]
     },
     "execution_count": 156,
     "metadata": {},
     "output_type": "execute_result"
    }
   ],
   "source": [
    "data[\"headline_text\"] = data[\"headline_text\"].apply(lambda x: re.sub('[^a-zA-Z]', ' ',x))\n",
    "data.shape"
   ]
  },
  {
   "cell_type": "code",
   "execution_count": 157,
   "metadata": {},
   "outputs": [],
   "source": [
    "import matplotlib.pyplot as plt\n",
    "import seaborn as sns\n",
    "import operator\n",
    "from sklearn.feature_extraction.text import CountVectorizer"
   ]
  },
  {
   "cell_type": "code",
   "execution_count": 158,
   "metadata": {},
   "outputs": [],
   "source": [
    "vectorizer = CountVectorizer(stop_words='english', max_features=30000)\n",
    "news = vectorizer.fit_transform(data[\"headline_text\"])"
   ]
  },
  {
   "cell_type": "code",
   "execution_count": 160,
   "metadata": {},
   "outputs": [],
   "source": [
    "words = {}\n",
    "i = 0"
   ]
  },
  {
   "cell_type": "code",
   "execution_count": 162,
   "metadata": {},
   "outputs": [],
   "source": [
    "sums = np.array(np.sum(news, axis=0)).flatten()"
   ]
  },
  {
   "cell_type": "code",
   "execution_count": 168,
   "metadata": {},
   "outputs": [],
   "source": [
    "for word in vectorizer.get_feature_names():\n",
    "    words[word] = sums[i]\n",
    "    i += 1"
   ]
  },
  {
   "cell_type": "code",
   "execution_count": 170,
   "metadata": {},
   "outputs": [],
   "source": [
    "top_20 = sorted(words.items(), key=operator.itemgetter(1), reverse=True)[:20]\n",
    "top_20_words = [i[0] for i in top_20]\n",
    "top_20_values = [i[1] for i in top_20]"
   ]
  },
  {
   "cell_type": "code",
   "execution_count": 174,
   "metadata": {},
   "outputs": [
    {
     "data": {
      "image/png": "[encoded data removed]",
      "text/plain": [
       "<Figure size 432x288 with 1 Axes>"
      ]
     },
     "metadata": {
      "needs_background": "light"
     },
     "output_type": "display_data"
    }
   ],
   "source": [
    "sns.barplot(top_20_words, top_20_values)\n",
    "plt.xticks(rotation=90)\n",
    "plt.show()"
   ]
  },
  {
   "cell_type": "code",
   "execution_count": 175,
   "metadata": {},
   "outputs": [],
   "source": [
    "from sklearn.decomposition import TruncatedSVD, LatentDirichletAllocation\n",
    "import pprint"
   ]
  },
  {
   "cell_type": "code",
   "execution_count": 177,
   "metadata": {},
   "outputs": [],
   "source": [
    "n_topics = 5\n",
    "lsa_model = TruncatedSVD(n_components=n_topics, random_state=2)"
   ]
  },
  {
   "cell_type": "code",
   "execution_count": 178,
   "metadata": {},
   "outputs": [],
   "source": [
    "lsa_topic_matrix = lsa_model.fit_transform(news)"
   ]
  },
  {
   "cell_type": "code",
   "execution_count": 181,
   "metadata": {},
   "outputs": [],
   "source": [
    "topic_lsa = {}"
   ]
  },
  {
   "cell_type": "code",
   "execution_count": 182,
   "metadata": {},
   "outputs": [],
   "source": [
    "for i, topic in enumerate(lsa_model.components_):\n",
    "    topic_lsa[\"Topic {}\".format(i)] = [(vectorizer.get_feature_names()[i] + '*' + str(topic[i])) for i in topic.argsort()[:-11:-1]]"
   ]
  },
  {
   "cell_type": "code",
   "execution_count": 186,
   "metadata": {},
   "outputs": [],
   "source": [
    "for key, value in topic_lsa.items():\n",
    "    topic_lsa[key] = ' + '.join(value)"
   ]
  },
  {
   "cell_type": "code",
   "execution_count": 190,
   "metadata": {},
   "outputs": [
    {
     "name": "stdout",
     "output_type": "stream",
     "text": [
      "{'Topic 0': 'police*0.8601893055234295 + man*0.37687390961080647 + '\n",
      "            'new*0.1227185188122029 + court*0.0872544186581951 + '\n",
      "            'charged*0.07895772747439257 + murder*0.07057005753940102 + '\n",
      "            'car*0.06800066168033368 + crash*0.06584004218945001 + '\n",
      "            'death*0.06572026639969192 + missing*0.06449235428724634',\n",
      " 'Topic 1': 'man*0.7879343660155153 + new*0.19216278977477838 + '\n",
      "            'court*0.18899897199945292 + charged*0.1646580164334982 + '\n",
      "            'murder*0.09487034753363109 + accused*0.06813694764641672 + '\n",
      "            'dies*0.06019737315016951 + jailed*0.0531972092346729 + '\n",
      "            'guilty*0.048466720132487824 + face*0.045142516613166025',\n",
      " 'Topic 2': 'new*0.9359950198542549 + says*0.07749707449614404 + '\n",
      "            'council*0.07207682180023704 + govt*0.07006061280055104 + '\n",
      "            'plan*0.04296865252560815 + zealand*0.04093995686187963 + '\n",
      "            'australia*0.036570064044717514 + laws*0.03483920048765268 + '\n",
      "            'wa*0.0347119714111757 + water*0.03351771268681057',\n",
      " 'Topic 3': 'says*0.7964206405018515 + govt*0.3475660937899273 + '\n",
      "            'council*0.17563972079881213 + plan*0.11494711911617116 + '\n",
      "            'nsw*0.0939493527234463 + water*0.0924052440025245 + '\n",
      "            'qld*0.09213172396303179 + wa*0.08420836644225387 + '\n",
      "            'health*0.06971247854025032 + urged*0.061689459508680794',\n",
      " 'Topic 4': 'govt*0.5228696280194928 + council*0.4047250183488443 + '\n",
      "            'court*0.2383740386667614 + plan*0.15194531896791902 + '\n",
      "            'nsw*0.1427566819326429 + health*0.11707848880147897 + '\n",
      "            'urged*0.10441379415285187 + water*0.07876063606031224 + '\n",
      "            'qld*0.07356945094004405 + accused*0.06597753143431347'}\n"
     ]
    }
   ],
   "source": [
    "pprint.pprint(topic_lsa)"
   ]
  },
  {
   "cell_type": "code",
   "execution_count": 191,
   "metadata": {},
   "outputs": [],
   "source": [
    "import nltk\n",
    "import gensim\n",
    "import gensim.corpora as corpora\n",
    "from gensim.utils import simple_preprocess\n",
    "from gensim.models import CoherenceModel\n",
    "from gensim.models.ldamodel import LdaModel\n",
    "from gensim.utils import simple_preprocess\n",
    "from nltk import word_tokenize\n",
    "from nltk.corpus import stopwords \n",
    "from nltk.stem.wordnet import WordNetLemmatizer\n",
    "import string\n",
    "import matplotlib.pyplot as plt"
   ]
  },
  {
   "cell_type": "code",
   "execution_count": 192,
   "metadata": {},
   "outputs": [],
   "source": [
    "def clean(doc):\n",
    "    stop_free = \" \".join([i for i in doc.lower().split() if i not in stop])\n",
    "    punc_free = ''.join(ch for ch in stop_free if ch not in exclude)\n",
    "    normalized = \" \".join(lemma.lemmatize(word) for word in punc_free.split())\n",
    "    return normalized"
   ]
  },
  {
   "cell_type": "code",
   "execution_count": 193,
   "metadata": {},
   "outputs": [],
   "source": [
    "lda_model= set(stopwords.words('english'))\n",
    "exclude = set(string.punctuation)\n",
    "lemma = WordNetLemmatizer()\n",
    "\n",
    "headlines = data[\"headline_text\"].tolist()"
   ]
  },
  {
   "cell_type": "code",
   "execution_count": 208,
   "metadata": {},
   "outputs": [],
   "source": [
    "clean_headlines = [clean(row).split() for row in headlines]\n",
    "dictionary = corpora.Dictionary(clean_headlines)\n",
    "doc_term_matrix = [dictionary.doc2bow(doc) for doc in clean_headlines]"
   ]
  },
  {
   "cell_type": "code",
   "execution_count": 210,
   "metadata": {},
   "outputs": [],
   "source": [
    "lda_model = LdaModel(doc_term_matrix, num_topics=5, id2word = dictionary, random_state=2, iterations=10)"
   ]
  },
  {
   "cell_type": "code",
   "execution_count": 212,
   "metadata": {},
   "outputs": [],
   "source": [
    "topics = lda_model.print_topics(5, 10)"
   ]
  },
  {
   "cell_type": "code",
   "execution_count": 213,
   "metadata": {},
   "outputs": [
    {
     "name": "stdout",
     "output_type": "stream",
     "text": [
      "[(0,\n",
      "  '0.013*\"australia\" + 0.011*\"south\" + 0.011*\"adelaide\" + 0.009*\"election\" + '\n",
      "  '0.009*\"first\" + 0.008*\"new\" + 0.008*\"council\" + 0.008*\"open\" + 0.008*\"take\" '\n",
      "  '+ 0.007*\"turnbull\"'),\n",
      " (1,\n",
      "  '0.014*\"new\" + 0.013*\"wa\" + 0.013*\"nsw\" + 0.012*\"government\" + 0.011*\"call\" '\n",
      "  '+ 0.011*\"queensland\" + 0.010*\"say\" + 0.008*\"canberra\" + 0.008*\"sa\" + '\n",
      "  '0.008*\"school\"'),\n",
      " (2,\n",
      "  '0.017*\"man\" + 0.016*\"police\" + 0.015*\"woman\" + 0.010*\"death\" + '\n",
      "  '0.010*\"world\" + 0.010*\"sydney\" + 0.008*\"perth\" + 0.008*\"day\" + 0.008*\"one\" '\n",
      "  '+ 0.008*\"year\"'),\n",
      " (3,\n",
      "  '0.017*\"trump\" + 0.015*\"u\" + 0.014*\"say\" + 0.012*\"child\" + 0.012*\"melbourne\" '\n",
      "  '+ 0.008*\"australian\" + 0.008*\"australia\" + 0.007*\"donald\" + 0.007*\"china\" + '\n",
      "  '0.007*\"interview\"'),\n",
      " (4,\n",
      "  '0.012*\"court\" + 0.009*\"murder\" + 0.009*\"sex\" + 0.008*\"market\" + '\n",
      "  '0.008*\"family\" + 0.008*\"change\" + 0.007*\"help\" + 0.007*\"australian\" + '\n",
      "  '0.006*\"job\" + 0.006*\"cut\"')]\n"
     ]
    }
   ],
   "source": [
    "pprint.pprint(topics)"
   ]
  },
  {
   "cell_type": "code",
   "execution_count": 214,
   "metadata": {},
   "outputs": [],
   "source": [
    "coherence_model_lda = CoherenceModel(model=lda_model, texts=clean_headlines, dictionary=dictionary, coherence='c_v')"
   ]
  },
  {
   "cell_type": "code",
   "execution_count": 215,
   "metadata": {},
   "outputs": [],
   "source": [
    "coherence_lda = coherence_model_lda.get_coherence()"
   ]
  },
  {
   "cell_type": "code",
   "execution_count": 216,
   "metadata": {},
   "outputs": [
    {
     "data": {
      "text/plain": [
       "0.2817006151285487"
      ]
     },
     "execution_count": 216,
     "metadata": {},
     "output_type": "execute_result"
    }
   ],
   "source": [
    "coherence_lda"
   ]
  },
  {
   "cell_type": "code",
   "execution_count": 220,
   "metadata": {},
   "outputs": [],
   "source": [
    "def compute_coherence_values(dictionary, corpus, texts, limit, start=2, step=3):\n",
    "    coherence_values = []\n",
    "    model_list = []\n",
    "    for i in range(start, limit, step):\n",
    "        model = gensim.models.ldamodel.LdaModel(doc_term_matrix, num_topics=i, random_state=2, id2word=dictionary, iterations=10)\n",
    "        model_list.append(model)\n",
    "        coherence_model = CoherenceModel(model=model, texts=texts, dictionary=dictionary, coherence='c_v')\n",
    "        coherence_values.append(coherence_model.get_coherence())\n",
    "    return model_list, coherence_values"
   ]
  },
  {
   "cell_type": "code",
   "execution_count": 221,
   "metadata": {},
   "outputs": [],
   "source": [
    "model_list, coherence_values = compute_coherence_values(dictionary=dictionary, corpus=doc_term_matrix, texts=clean_headlines, start=2, limit=50, step=6)"
   ]
  },
  {
   "cell_type": "code",
   "execution_count": 222,
   "metadata": {},
   "outputs": [],
   "source": [
    "x = [i for i in range(2, 50, 6)]"
   ]
  },
  {
   "cell_type": "code",
   "execution_count": 225,
   "metadata": {},
   "outputs": [
    {
     "data": {
      "image/png": "[encoded data removed]",
      "text/plain": [
       "<Figure size 432x288 with 1 Axes>"
      ]
     },
     "metadata": {
      "needs_background": "light"
     },
     "output_type": "display_data"
    }
   ],
   "source": [
    "plt.plot(x, coherence_values)\n",
    "plt.xlabel(\"Num Topics\")\n",
    "plt.ylabel(\"Coherence score\")\n",
    "plt.show()"
   ]
  }
 ],
 "metadata": {
  "kernelspec": {
   "display_name": "Python 3",
   "language": "python",
   "name": "python3"
  },
  "language_info": {
   "codemirror_mode": {
    "name": "ipython",
    "version": 3
   },
   "file_extension": ".py",
   "mimetype": "text/x-python",
   "name": "python",
   "nbconvert_exporter": "python",
   "pygments_lexer": "ipython3",
   "version": "3.7.3"
  }
 },
 "nbformat": 4,
 "nbformat_minor": 4
}
