{
 "cells": [
  {
   "cell_type": "code",
   "execution_count": 26,
   "metadata": {},
   "outputs": [],
   "source": [
    "import numpy as np\n",
    "from collections import Counter\n",
    "path = r\"D:\\IdeaC\\GreyAtoms\\Python\\Data\\ipl_matches_small.csv\""
   ]
  },
  {
   "cell_type": "code",
   "execution_count": 3,
   "metadata": {},
   "outputs": [
    {
     "name": "stdout",
     "output_type": "stream",
     "text": [
      "[['392203' '2009-05-01' 'East London' ... '' '' '']\n",
      " ['392203' '2009-05-01' 'East London' ... '' '' '']\n",
      " ['392203' '2009-05-01' 'East London' ... '' '' '']\n",
      " ...\n",
      " ['335987' '2008-04-21' 'Jaipur' ... '' '' '']\n",
      " ['335987' '2008-04-21' 'Jaipur' ... '' '' '']\n",
      " ['335987' '2008-04-21' 'Jaipur' ... '' '' '']]\n"
     ]
    }
   ],
   "source": [
    "data = np.genfromtxt(path, delimiter=\",\", skip_header=1, dtype=str)\n",
    "print(data)"
   ]
  },
  {
   "cell_type": "code",
   "execution_count": 8,
   "metadata": {},
   "outputs": [
    {
     "name": "stdout",
     "output_type": "stream",
     "text": [
      "6\n"
     ]
    }
   ],
   "source": [
    "uniqueNoMatches = len(np.unique(data[:, 0]))\n",
    "print(uniqueNoMatches)"
   ]
  },
  {
   "cell_type": "code",
   "execution_count": 53,
   "metadata": {},
   "outputs": [
    {
     "name": "stdout",
     "output_type": "stream",
     "text": [
      "7\n"
     ]
    }
   ],
   "source": [
    "uniqueNoTeams = len(np.unique(np.concatenate((data[:, 3],data[:, 4]))))\n",
    "print(uniqueNoTeams)"
   ]
  },
  {
   "cell_type": "code",
   "execution_count": 12,
   "metadata": {},
   "outputs": [
    {
     "name": "stdout",
     "output_type": "stream",
     "text": [
      "88\n"
     ]
    }
   ],
   "source": [
    "totalExtraRuns = data[:, -6].astype(int).sum()\n",
    "print(totalExtraRuns)"
   ]
  },
  {
   "cell_type": "code",
   "execution_count": 101,
   "metadata": {},
   "outputs": [
    {
     "name": "stdout",
     "output_type": "stream",
     "text": [
      "[('3.2', 'caught'), ('5.5', 'caught'), ('7.6', 'caught'), ('11.4', 'bowled'), ('15.6', 'caught'), ('18.6', 'caught'), ('0.4', 'bowled'), ('2.2', 'bowled'), ('14.5', 'caught'), ('17.2', 'bowled'), ('18.6', 'run out'), ('19.3', 'caught'), ('12.2', 'lbw'), ('13.5', 'caught'), ('14.4', 'caught'), ('15.1', 'run out'), ('16.6', 'caught'), ('18.5', 'caught'), ('1.7', 'caught'), ('2.7', 'caught'), ('10.2', 'bowled'), ('12.1', 'caught'), ('12.3', 'caught'), ('13.2', 'caught'), ('14.5', 'caught'), ('15.1', 'bowled'), ('15.2', 'bowled'), ('1.5', 'caught'), ('5.3', 'caught'), ('9.4', 'bowled'), ('12.6', 'bowled'), ('17.1', 'caught'), ('19.1', 'run out'), ('1.4', 'caught'), ('1.5', 'bowled'), ('8.5', 'caught'), ('14.1', 'caught'), ('15.5', 'bowled'), ('15.6', 'bowled'), ('17.1', 'caught'), ('17.3', 'stumped'), ('5.3', 'caught'), ('7.2', 'caught'), ('8.2', 'caught'), ('10.1', 'run out'), ('11.1', 'caught'), ('14.5', 'caught'), ('1.3', 'run out'), ('5.2', 'caught'), ('6.4', 'caught'), ('6.5', 'caught and bowled'), ('10.5', 'caught'), ('12.6', 'caught'), ('13.3', 'caught'), ('14.2', 'bowled'), ('18.3', 'caught'), ('19.5', 'run out'), ('9.2', 'caught'), ('9.6', 'bowled'), ('16.4', 'stumped'), ('17.2', 'caught'), ('17.5', 'caught'), ('19.6', 'caught'), ('2.4', 'bowled'), ('3.6', 'bowled'), ('4.6', 'bowled'), ('5.3', 'bowled'), ('12.6', 'caught'), ('18.3', 'caught'), ('18.5', 'run out'), ('19.1', 'run out'), ('19.2', 'caught'), ('4.5', 'bowled'), ('6.3', 'caught and bowled'), ('7.4', 'stumped'), ('8.6', 'lbw'), ('16.5', 'lbw'), ('17.2', 'bowled'), ('17.4', 'caught'), ('18.6', 'run out'), ('1.1', 'caught'), ('2.3', 'caught and bowled'), ('4.5', 'caught'), ('11.2', 'lbw')]\n"
     ]
    }
   ],
   "source": [
    "wicketDelivery = data[[len(d)>0 for d in data[:, -3]]]\n",
    "print(list(zip(wicketDelivery[:, 11], wicketDelivery[:, -2])))"
   ]
  },
  {
   "cell_type": "code",
   "execution_count": 20,
   "metadata": {},
   "outputs": [
    {
     "name": "stdout",
     "output_type": "stream",
     "text": [
      "2\n"
     ]
    }
   ],
   "source": [
    "mumbaiIndiansTossWon = len(np.unique(data[data[:, 5]=='Mumbai Indians'][:, 0]))\n",
    "print(mumbaiIndiansTossWon)"
   ]
  },
  {
   "cell_type": "code",
   "execution_count": 65,
   "metadata": {},
   "outputs": [
    {
     "name": "stdout",
     "output_type": "stream",
     "text": [
      "[['392203' '2009-05-01' 'East London' ... '' '' '']\n",
      " ['392203' '2009-05-01' 'East London' ... '' '' '']\n",
      " ['392203' '2009-05-01' 'East London' ... '' '' '']\n",
      " ...\n",
      " ['335987' '2008-04-21' 'Jaipur' ... '' '' '']\n",
      " ['335987' '2008-04-21' 'Jaipur' ... '' '' '']\n",
      " ['335987' '2008-04-21' 'Jaipur' ... '' '' '']]\n",
      "['SR Tendulkar', 'SR Watson']\n"
     ]
    }
   ],
   "source": [
    "sixDelivery = data[data[:, -7]=='6']\n",
    "# print(sixDelivery)\n",
    "sixCount = Counter(sixDelivery[:, -10])\n",
    "mostSixs = Counter.most_common(sixCount)[0][1]\n",
    "mostSixsPlayers = [key for key,value in sixCount.items() if value == mostSixs]\n",
    "print(mostSixsPlayers)"
   ]
  }
 ],
 "metadata": {
  "kernelspec": {
   "display_name": "Python 3",
   "language": "python",
   "name": "python3"
  },
  "language_info": {
   "codemirror_mode": {
    "name": "ipython",
    "version": 3
   },
   "file_extension": ".py",
   "mimetype": "text/x-python",
   "name": "python",
   "nbconvert_exporter": "python",
   "pygments_lexer": "ipython3",
   "version": "3.7.3"
  }
 },
 "nbformat": 4,
 "nbformat_minor": 2
}
