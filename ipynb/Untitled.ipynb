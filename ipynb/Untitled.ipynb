{
 "cells": [
  {
   "cell_type": "code",
   "execution_count": 3,
   "metadata": {},
   "outputs": [],
   "source": [
    "codes = \"\"\"1\tAP—Andhra Pradesh\n",
    "2\tAR—Arunachal Pradesh\n",
    "3\tBR—Bihar\n",
    "4\tCG—Chhattisgarh\n",
    "5\tCH—Chandigarh\n",
    "6\tAN-- ANDAMAN AND NICOBAR ISLANDS\n",
    "7\tDL—Delhi\n",
    "8\tDN—Dadra and Nagar Haveli\n",
    "9\tDD—Daman and Diu\n",
    "10\tGA—Goa\n",
    "11\tGJ—Gujarat\n",
    "12\tHP—Himachal Pradesh\n",
    "13\tHR—Haryana\n",
    "14\tJH—Jharkhand\n",
    "15\tJK—Jammu and Kashmir\n",
    "16\tKA - Karnataka\n",
    "17\tKL—Kerala\n",
    "18\tLD—Lakshadweep\n",
    "19\tLA—Ladakh\n",
    "20\tMH—Maharashtra\n",
    "21\tML—Meghalaya\n",
    "22\tMN—Manipur\n",
    "23\tMP—Madhya Pradesh\n",
    "24\tMZ—Mizoram\n",
    "25\tNL—Nagaland\n",
    "26\tOD/OR—Odisha\n",
    "27\tPB—Punjab\n",
    "28\tPY—Puducherry\n",
    "29\tRJ—Rajasthan\n",
    "30\tSK—Sikkim\n",
    "31\tTN—Tamil Nadu\n",
    "32\tTS—Telangana\n",
    "33\tTR—Tripura\n",
    "34\tUP—Uttar Pradesh\n",
    "35\tUK—Uttarakhand\n",
    "36\tWB—West Bengal\"\"\""
   ]
  },
  {
   "cell_type": "code",
   "execution_count": 15,
   "metadata": {},
   "outputs": [
    {
     "data": {
      "text/plain": [
       "['AP',\n",
       " 'AR',\n",
       " 'BR',\n",
       " 'CG',\n",
       " 'CH',\n",
       " 'AN-- ANDAMAN AND NICOBAR ISLANDS',\n",
       " 'DL',\n",
       " 'DN',\n",
       " 'DD',\n",
       " 'GA',\n",
       " 'GJ',\n",
       " 'HP',\n",
       " 'HR',\n",
       " 'JH',\n",
       " 'JK',\n",
       " 'KA - Karnataka',\n",
       " 'KL',\n",
       " 'LD',\n",
       " 'LA',\n",
       " 'MH',\n",
       " 'ML',\n",
       " 'MN',\n",
       " 'MP',\n",
       " 'MZ',\n",
       " 'NL',\n",
       " 'OD/OR',\n",
       " 'PB',\n",
       " 'PY',\n",
       " 'RJ',\n",
       " 'SK',\n",
       " 'TN',\n",
       " 'TS',\n",
       " 'TR',\n",
       " 'UP',\n",
       " 'UK',\n",
       " 'WB']"
      ]
     },
     "execution_count": 15,
     "metadata": {},
     "output_type": "execute_result"
    }
   ],
   "source": [
    "[j.split(\"—\")[0] for j in [i.split(\"\\t\")[1] for i in codes.split(\"\\n\")]]"
   ]
  },
  {
   "cell_type": "code",
   "execution_count": 16,
   "metadata": {},
   "outputs": [],
   "source": [
    "state_code = ['AP', 'AR', 'BR', 'CG', 'CH', 'AN', 'DL', 'DN', 'DD', 'GA', 'GJ', 'HP', 'HR', 'JH', 'JK', 'KA', 'KL', 'LD', 'LA', 'MH', 'ML', 'MN', 'MP', 'MZ', 'NL', 'OD','OR', 'PB', 'PY', 'RJ', 'SK', 'TN', 'TS', 'TR', 'UP', 'UK', 'WB']"
   ]
  }
 ],
 "metadata": {
  "kernelspec": {
   "display_name": "Python 3",
   "language": "python",
   "name": "python3"
  },
  "language_info": {
   "codemirror_mode": {
    "name": "ipython",
    "version": 3
   },
   "file_extension": ".py",
   "mimetype": "text/x-python",
   "name": "python",
   "nbconvert_exporter": "python",
   "pygments_lexer": "ipython3",
   "version": "3.7.3"
  }
 },
 "nbformat": 4,
 "nbformat_minor": 4
}
