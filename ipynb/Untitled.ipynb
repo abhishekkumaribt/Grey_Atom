{
 "cells": [
  {
   "cell_type": "code",
   "execution_count": 2,
   "metadata": {},
   "outputs": [],
   "source": [
    "import pandas as pd\n",
    "import numpy as np\n",
    "import matplotlib.pyplot as plt\n",
    "%matplotlib inline"
   ]
  },
  {
   "cell_type": "code",
   "execution_count": 2,
   "metadata": {},
   "outputs": [],
   "source": [
    "path = r\"C:\\Users\\eakhumb\\Downloads\\Queue Report - GF00004_WPA JR - 2020-02-17 08-37.csv\""
   ]
  },
  {
   "cell_type": "code",
   "execution_count": 3,
   "metadata": {},
   "outputs": [],
   "source": [
    "data = pd.read_csv(path)"
   ]
  },
  {
   "cell_type": "code",
   "execution_count": 5,
   "metadata": {},
   "outputs": [],
   "source": [
    "data[\"Loaded\"] = pd.to_datetime(data[\"Loaded\"])"
   ]
  },
  {
   "cell_type": "code",
   "execution_count": 14,
   "metadata": {},
   "outputs": [],
   "source": [
    "data[\"MMDD\"] = (data[\"Loaded\"].dt.month*100) + data[\"Loaded\"].dt.day"
   ]
  },
  {
   "cell_type": "code",
   "execution_count": 41,
   "metadata": {},
   "outputs": [],
   "source": [
    "AHT = data.groupby(\"MMDD\")[\"Worktime\"].mean().reset_index()"
   ]
  },
  {
   "cell_type": "code",
   "execution_count": 26,
   "metadata": {},
   "outputs": [],
   "source": [
    "data[\"Completed?\"] = data[\"Completed\"].apply(lambda x: 0 if pd.isnull(x) else 1)"
   ]
  },
  {
   "cell_type": "code",
   "execution_count": 42,
   "metadata": {},
   "outputs": [],
   "source": [
    "count = data.groupby([\"MMDD\", \"Completed?\"]).size().unstack()"
   ]
  },
  {
   "cell_type": "code",
   "execution_count": 43,
   "metadata": {},
   "outputs": [],
   "source": [
    "AHT = pd.merge(AHT, data.groupby([\"MMDD\", \"Completed?\"])[\"Worktime\"].mean().unstack(), on=\"MMDD\")"
   ]
  },
  {
   "cell_type": "code",
   "execution_count": 36,
   "metadata": {},
   "outputs": [
    {
     "data": {
      "text/plain": [
       "array(['System Exception : Previous Status Should be HMM.',\n",
       "       'System Exception : Unable to click filter option link',\n",
       "       \"Internal : Failed to perform step 1 in Read Stage 'Read Current Status' on page 'WPA JR_Pending GLT' - No element matched the query terms\",\n",
       "       nan,\n",
       "       'System Exception : Unable to Find Final Click Send to Approver Button on HMM',\n",
       "       \"Internal : Failed to perform step 1 in Navigate Stage 'Send to Approver' on page 'WPA JR_HMM' - Old format or invalid type library. (Exception from HRESULT: 0x80028019 (TYPE_E_UNSUPFORMAT))\"],\n",
       "      dtype=object)"
      ]
     },
     "execution_count": 36,
     "metadata": {},
     "output_type": "execute_result"
    }
   ],
   "source": [
    "data[data[\"MMDD\"]==210][\"ExceptionReason\"].unique()"
   ]
  },
  {
   "cell_type": "code",
   "execution_count": 44,
   "metadata": {},
   "outputs": [
    {
     "data": {
      "text/html": [
       "<div>\n",
       "<style scoped>\n",
       "    .dataframe tbody tr th:only-of-type {\n",
       "        vertical-align: middle;\n",
       "    }\n",
       "\n",
       "    .dataframe tbody tr th {\n",
       "        vertical-align: top;\n",
       "    }\n",
       "\n",
       "    .dataframe thead th {\n",
       "        text-align: right;\n",
       "    }\n",
       "</style>\n",
       "<table border=\"1\" class=\"dataframe\">\n",
       "  <thead>\n",
       "    <tr style=\"text-align: right;\">\n",
       "      <th></th>\n",
       "      <th>MMDD</th>\n",
       "      <th>Worktime</th>\n",
       "      <th>0_x</th>\n",
       "      <th>1_x</th>\n",
       "      <th>0_y</th>\n",
       "      <th>1_y</th>\n",
       "    </tr>\n",
       "  </thead>\n",
       "  <tbody>\n",
       "    <tr>\n",
       "      <td>0</td>\n",
       "      <td>108</td>\n",
       "      <td>156.880383</td>\n",
       "      <td>91.695652</td>\n",
       "      <td>164.940860</td>\n",
       "      <td>23</td>\n",
       "      <td>186</td>\n",
       "    </tr>\n",
       "    <tr>\n",
       "      <td>1</td>\n",
       "      <td>109</td>\n",
       "      <td>119.541353</td>\n",
       "      <td>10.444444</td>\n",
       "      <td>147.330189</td>\n",
       "      <td>27</td>\n",
       "      <td>106</td>\n",
       "    </tr>\n",
       "    <tr>\n",
       "      <td>2</td>\n",
       "      <td>110</td>\n",
       "      <td>65.076923</td>\n",
       "      <td>35.287263</td>\n",
       "      <td>153.016000</td>\n",
       "      <td>369</td>\n",
       "      <td>125</td>\n",
       "    </tr>\n",
       "    <tr>\n",
       "      <td>3</td>\n",
       "      <td>113</td>\n",
       "      <td>135.692884</td>\n",
       "      <td>86.245614</td>\n",
       "      <td>149.114286</td>\n",
       "      <td>57</td>\n",
       "      <td>210</td>\n",
       "    </tr>\n",
       "    <tr>\n",
       "      <td>4</td>\n",
       "      <td>114</td>\n",
       "      <td>138.785714</td>\n",
       "      <td>94.631579</td>\n",
       "      <td>143.525424</td>\n",
       "      <td>19</td>\n",
       "      <td>177</td>\n",
       "    </tr>\n",
       "    <tr>\n",
       "      <td>5</td>\n",
       "      <td>115</td>\n",
       "      <td>128.588832</td>\n",
       "      <td>83.878788</td>\n",
       "      <td>137.585366</td>\n",
       "      <td>33</td>\n",
       "      <td>164</td>\n",
       "    </tr>\n",
       "    <tr>\n",
       "      <td>6</td>\n",
       "      <td>116</td>\n",
       "      <td>163.849462</td>\n",
       "      <td>100.764706</td>\n",
       "      <td>170.195266</td>\n",
       "      <td>17</td>\n",
       "      <td>169</td>\n",
       "    </tr>\n",
       "    <tr>\n",
       "      <td>7</td>\n",
       "      <td>117</td>\n",
       "      <td>150.813793</td>\n",
       "      <td>85.363636</td>\n",
       "      <td>162.520325</td>\n",
       "      <td>22</td>\n",
       "      <td>123</td>\n",
       "    </tr>\n",
       "    <tr>\n",
       "      <td>8</td>\n",
       "      <td>120</td>\n",
       "      <td>187.567416</td>\n",
       "      <td>111.695652</td>\n",
       "      <td>198.825806</td>\n",
       "      <td>23</td>\n",
       "      <td>155</td>\n",
       "    </tr>\n",
       "    <tr>\n",
       "      <td>9</td>\n",
       "      <td>122</td>\n",
       "      <td>122.239316</td>\n",
       "      <td>55.074074</td>\n",
       "      <td>157.797386</td>\n",
       "      <td>81</td>\n",
       "      <td>153</td>\n",
       "    </tr>\n",
       "    <tr>\n",
       "      <td>10</td>\n",
       "      <td>123</td>\n",
       "      <td>183.259259</td>\n",
       "      <td>71.875000</td>\n",
       "      <td>195.465753</td>\n",
       "      <td>8</td>\n",
       "      <td>73</td>\n",
       "    </tr>\n",
       "    <tr>\n",
       "      <td>11</td>\n",
       "      <td>124</td>\n",
       "      <td>117.105042</td>\n",
       "      <td>77.158730</td>\n",
       "      <td>162.044643</td>\n",
       "      <td>126</td>\n",
       "      <td>112</td>\n",
       "    </tr>\n",
       "    <tr>\n",
       "      <td>12</td>\n",
       "      <td>127</td>\n",
       "      <td>154.170886</td>\n",
       "      <td>112.696203</td>\n",
       "      <td>195.645570</td>\n",
       "      <td>79</td>\n",
       "      <td>79</td>\n",
       "    </tr>\n",
       "    <tr>\n",
       "      <td>13</td>\n",
       "      <td>128</td>\n",
       "      <td>138.193443</td>\n",
       "      <td>85.566038</td>\n",
       "      <td>166.226131</td>\n",
       "      <td>106</td>\n",
       "      <td>199</td>\n",
       "    </tr>\n",
       "    <tr>\n",
       "      <td>14</td>\n",
       "      <td>129</td>\n",
       "      <td>161.162562</td>\n",
       "      <td>79.727273</td>\n",
       "      <td>171.060773</td>\n",
       "      <td>22</td>\n",
       "      <td>181</td>\n",
       "    </tr>\n",
       "    <tr>\n",
       "      <td>15</td>\n",
       "      <td>130</td>\n",
       "      <td>110.276471</td>\n",
       "      <td>35.838710</td>\n",
       "      <td>200.181818</td>\n",
       "      <td>93</td>\n",
       "      <td>77</td>\n",
       "    </tr>\n",
       "    <tr>\n",
       "      <td>16</td>\n",
       "      <td>131</td>\n",
       "      <td>205.740506</td>\n",
       "      <td>107.250000</td>\n",
       "      <td>208.298701</td>\n",
       "      <td>4</td>\n",
       "      <td>154</td>\n",
       "    </tr>\n",
       "    <tr>\n",
       "      <td>17</td>\n",
       "      <td>203</td>\n",
       "      <td>235.961538</td>\n",
       "      <td>413.947368</td>\n",
       "      <td>205.495495</td>\n",
       "      <td>19</td>\n",
       "      <td>111</td>\n",
       "    </tr>\n",
       "    <tr>\n",
       "      <td>18</td>\n",
       "      <td>204</td>\n",
       "      <td>162.330827</td>\n",
       "      <td>131.830601</td>\n",
       "      <td>229.578313</td>\n",
       "      <td>183</td>\n",
       "      <td>83</td>\n",
       "    </tr>\n",
       "    <tr>\n",
       "      <td>19</td>\n",
       "      <td>205</td>\n",
       "      <td>216.915789</td>\n",
       "      <td>210.200000</td>\n",
       "      <td>217.288889</td>\n",
       "      <td>5</td>\n",
       "      <td>90</td>\n",
       "    </tr>\n",
       "    <tr>\n",
       "      <td>20</td>\n",
       "      <td>206</td>\n",
       "      <td>354.325581</td>\n",
       "      <td>236.500000</td>\n",
       "      <td>360.073171</td>\n",
       "      <td>2</td>\n",
       "      <td>41</td>\n",
       "    </tr>\n",
       "    <tr>\n",
       "      <td>21</td>\n",
       "      <td>210</td>\n",
       "      <td>228.753731</td>\n",
       "      <td>179.769231</td>\n",
       "      <td>248.863158</td>\n",
       "      <td>39</td>\n",
       "      <td>95</td>\n",
       "    </tr>\n",
       "  </tbody>\n",
       "</table>\n",
       "</div>"
      ],
      "text/plain": [
       "    MMDD    Worktime         0_x         1_x  0_y  1_y\n",
       "0    108  156.880383   91.695652  164.940860   23  186\n",
       "1    109  119.541353   10.444444  147.330189   27  106\n",
       "2    110   65.076923   35.287263  153.016000  369  125\n",
       "3    113  135.692884   86.245614  149.114286   57  210\n",
       "4    114  138.785714   94.631579  143.525424   19  177\n",
       "5    115  128.588832   83.878788  137.585366   33  164\n",
       "6    116  163.849462  100.764706  170.195266   17  169\n",
       "7    117  150.813793   85.363636  162.520325   22  123\n",
       "8    120  187.567416  111.695652  198.825806   23  155\n",
       "9    122  122.239316   55.074074  157.797386   81  153\n",
       "10   123  183.259259   71.875000  195.465753    8   73\n",
       "11   124  117.105042   77.158730  162.044643  126  112\n",
       "12   127  154.170886  112.696203  195.645570   79   79\n",
       "13   128  138.193443   85.566038  166.226131  106  199\n",
       "14   129  161.162562   79.727273  171.060773   22  181\n",
       "15   130  110.276471   35.838710  200.181818   93   77\n",
       "16   131  205.740506  107.250000  208.298701    4  154\n",
       "17   203  235.961538  413.947368  205.495495   19  111\n",
       "18   204  162.330827  131.830601  229.578313  183   83\n",
       "19   205  216.915789  210.200000  217.288889    5   90\n",
       "20   206  354.325581  236.500000  360.073171    2   41\n",
       "21   210  228.753731  179.769231  248.863158   39   95"
      ]
     },
     "execution_count": 44,
     "metadata": {},
     "output_type": "execute_result"
    }
   ],
   "source": [
    "pd.merge(AHT, count, on=\"MMDD\")"
   ]
  },
  {
   "cell_type": "code",
   "execution_count": 7,
   "metadata": {},
   "outputs": [
    {
     "data": {
      "text/plain": [
       "array([[[1, 1, 1],\n",
       "        [1, 1, 1],\n",
       "        [1, 1, 1]],\n",
       "\n",
       "       [[1, 1, 1],\n",
       "        [1, 1, 1],\n",
       "        [1, 1, 1]],\n",
       "\n",
       "       [[1, 1, 1],\n",
       "        [1, 1, 1],\n",
       "        [1, 1, 1]]])"
      ]
     },
     "execution_count": 7,
     "metadata": {},
     "output_type": "execute_result"
    }
   ],
   "source": [
    "x = np.array([[[1, 1, 1], [1, 1, 1], [1, 1, 1]], [[1, 1, 1], [1, 1, 1], [1, 1, 1]], [[1, 1, 1], [1, 1, 1], [1, 1, 1]]])\n",
    "x"
   ]
  },
  {
   "cell_type": "code",
   "execution_count": 28,
   "metadata": {},
   "outputs": [
    {
     "data": {
      "text/plain": [
       "array([[[0, 0, 0, 0, 0],\n",
       "        [0, 1, 1, 1, 0],\n",
       "        [0, 1, 1, 1, 0],\n",
       "        [0, 1, 1, 1, 0]],\n",
       "\n",
       "       [[0, 0, 0, 0, 0],\n",
       "        [0, 1, 1, 1, 0],\n",
       "        [0, 1, 1, 1, 0],\n",
       "        [0, 1, 1, 1, 0]],\n",
       "\n",
       "       [[0, 0, 0, 0, 0],\n",
       "        [0, 1, 1, 1, 0],\n",
       "        [0, 1, 1, 1, 0],\n",
       "        [0, 1, 1, 1, 0]]])"
      ]
     },
     "execution_count": 28,
     "metadata": {},
     "output_type": "execute_result"
    }
   ],
   "source": [
    "pad=1\n",
    "np.pad(x, ((0,0), (pad,pad), (pad,pad)), mode='constant', constant_values = (0,0))"
   ]
  },
  {
   "cell_type": "code",
   "execution_count": 29,
   "metadata": {},
   "outputs": [],
   "source": [
    "a_slice_prev = np.random.randn(4, 4, 3)\n",
    "W = np.random.randn(4, 4, 3)"
   ]
  },
  {
   "cell_type": "code",
   "execution_count": 33,
   "metadata": {},
   "outputs": [
    {
     "data": {
      "text/plain": [
       "0.0095719856158902"
      ]
     },
     "execution_count": 33,
     "metadata": {},
     "output_type": "execute_result"
    }
   ],
   "source": [
    "-0.07433922 * -0.12876091"
   ]
  },
  {
   "cell_type": "code",
   "execution_count": 37,
   "metadata": {},
   "outputs": [
    {
     "data": {
      "text/plain": [
       "array([[[1, 1, 1],\n",
       "        [1, 1, 1],\n",
       "        [1, 1, 1]],\n",
       "\n",
       "       [[1, 1, 1],\n",
       "        [1, 1, 1],\n",
       "        [1, 1, 1]],\n",
       "\n",
       "       [[1, 1, 1],\n",
       "        [1, 1, 1],\n",
       "        [1, 1, 1]]])"
      ]
     },
     "execution_count": 37,
     "metadata": {},
     "output_type": "execute_result"
    }
   ],
   "source": [
    "x"
   ]
  },
  {
   "cell_type": "code",
   "execution_count": 48,
   "metadata": {},
   "outputs": [
    {
     "data": {
      "text/plain": [
       "30"
      ]
     },
     "execution_count": 48,
     "metadata": {},
     "output_type": "execute_result"
    }
   ],
   "source": [
    "x=10\n",
    "x+=20\n",
    "x"
   ]
  },
  {
   "cell_type": "code",
   "execution_count": null,
   "metadata": {},
   "outputs": [],
   "source": []
  }
 ],
 "metadata": {
  "kernelspec": {
   "display_name": "Python 3",
   "language": "python",
   "name": "python3"
  },
  "language_info": {
   "codemirror_mode": {
    "name": "ipython",
    "version": 3
   },
   "file_extension": ".py",
   "mimetype": "text/x-python",
   "name": "python",
   "nbconvert_exporter": "python",
   "pygments_lexer": "ipython3",
   "version": "3.7.4"
  }
 },
 "nbformat": 4,
 "nbformat_minor": 4
}
