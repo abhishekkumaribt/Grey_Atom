{
 "cells": [
  {
   "cell_type": "code",
   "execution_count": 1,
   "metadata": {},
   "outputs": [],
   "source": [
    "import pandas as pd\n",
    "import numpy as np\n",
    "import datetime"
   ]
  },
  {
   "cell_type": "code",
   "execution_count": 2,
   "metadata": {},
   "outputs": [],
   "source": [
    "path = r\"D:\\IdeaC\\GreyAtoms\\Python\\Data\\ipl_dataset.csv\""
   ]
  },
  {
   "cell_type": "code",
   "execution_count": 19,
   "metadata": {},
   "outputs": [],
   "source": [
    "pd.options.display.max_columns = 24"
   ]
  },
  {
   "cell_type": "code",
   "execution_count": 20,
   "metadata": {},
   "outputs": [
    {
     "data": {
      "text/html": [
       "<div>\n",
       "<style scoped>\n",
       "    .dataframe tbody tr th:only-of-type {\n",
       "        vertical-align: middle;\n",
       "    }\n",
       "\n",
       "    .dataframe tbody tr th {\n",
       "        vertical-align: top;\n",
       "    }\n",
       "\n",
       "    .dataframe thead th {\n",
       "        text-align: right;\n",
       "    }\n",
       "</style>\n",
       "<table border=\"1\" class=\"dataframe\">\n",
       "  <thead>\n",
       "    <tr style=\"text-align: right;\">\n",
       "      <th></th>\n",
       "      <th>match_code</th>\n",
       "      <th>date</th>\n",
       "      <th>city</th>\n",
       "      <th>venue</th>\n",
       "      <th>team1</th>\n",
       "      <th>team2</th>\n",
       "      <th>toss_winner</th>\n",
       "      <th>toss_decision</th>\n",
       "      <th>winner</th>\n",
       "      <th>win_type</th>\n",
       "      <th>win_margin</th>\n",
       "      <th>inning</th>\n",
       "      <th>delivery</th>\n",
       "      <th>batting_team</th>\n",
       "      <th>batsman</th>\n",
       "      <th>non_striker</th>\n",
       "      <th>bowler</th>\n",
       "      <th>runs</th>\n",
       "      <th>extras</th>\n",
       "      <th>total</th>\n",
       "      <th>extras_type</th>\n",
       "      <th>player_out</th>\n",
       "      <th>wicket_kind</th>\n",
       "      <th>wicket_fielders</th>\n",
       "    </tr>\n",
       "  </thead>\n",
       "  <tbody>\n",
       "    <tr>\n",
       "      <th>0</th>\n",
       "      <td>392203</td>\n",
       "      <td>2009-05-01</td>\n",
       "      <td>East London</td>\n",
       "      <td>Buffalo Park</td>\n",
       "      <td>Kolkata Knight Riders</td>\n",
       "      <td>Mumbai Indians</td>\n",
       "      <td>Mumbai Indians</td>\n",
       "      <td>bat</td>\n",
       "      <td>Mumbai Indians</td>\n",
       "      <td>runs</td>\n",
       "      <td>9.0</td>\n",
       "      <td>1</td>\n",
       "      <td>0.1</td>\n",
       "      <td>Mumbai Indians</td>\n",
       "      <td>ST Jayasuriya</td>\n",
       "      <td>SR Tendulkar</td>\n",
       "      <td>I Sharma</td>\n",
       "      <td>0</td>\n",
       "      <td>1</td>\n",
       "      <td>1</td>\n",
       "      <td>wides</td>\n",
       "      <td>NaN</td>\n",
       "      <td>NaN</td>\n",
       "      <td>NaN</td>\n",
       "    </tr>\n",
       "    <tr>\n",
       "      <th>1</th>\n",
       "      <td>392203</td>\n",
       "      <td>2009-05-01</td>\n",
       "      <td>East London</td>\n",
       "      <td>Buffalo Park</td>\n",
       "      <td>Kolkata Knight Riders</td>\n",
       "      <td>Mumbai Indians</td>\n",
       "      <td>Mumbai Indians</td>\n",
       "      <td>bat</td>\n",
       "      <td>Mumbai Indians</td>\n",
       "      <td>runs</td>\n",
       "      <td>9.0</td>\n",
       "      <td>1</td>\n",
       "      <td>0.2</td>\n",
       "      <td>Mumbai Indians</td>\n",
       "      <td>ST Jayasuriya</td>\n",
       "      <td>SR Tendulkar</td>\n",
       "      <td>I Sharma</td>\n",
       "      <td>1</td>\n",
       "      <td>0</td>\n",
       "      <td>1</td>\n",
       "      <td>NaN</td>\n",
       "      <td>NaN</td>\n",
       "      <td>NaN</td>\n",
       "      <td>NaN</td>\n",
       "    </tr>\n",
       "    <tr>\n",
       "      <th>2</th>\n",
       "      <td>392203</td>\n",
       "      <td>2009-05-01</td>\n",
       "      <td>East London</td>\n",
       "      <td>Buffalo Park</td>\n",
       "      <td>Kolkata Knight Riders</td>\n",
       "      <td>Mumbai Indians</td>\n",
       "      <td>Mumbai Indians</td>\n",
       "      <td>bat</td>\n",
       "      <td>Mumbai Indians</td>\n",
       "      <td>runs</td>\n",
       "      <td>9.0</td>\n",
       "      <td>1</td>\n",
       "      <td>0.3</td>\n",
       "      <td>Mumbai Indians</td>\n",
       "      <td>SR Tendulkar</td>\n",
       "      <td>ST Jayasuriya</td>\n",
       "      <td>I Sharma</td>\n",
       "      <td>0</td>\n",
       "      <td>1</td>\n",
       "      <td>1</td>\n",
       "      <td>wides</td>\n",
       "      <td>NaN</td>\n",
       "      <td>NaN</td>\n",
       "      <td>NaN</td>\n",
       "    </tr>\n",
       "    <tr>\n",
       "      <th>3</th>\n",
       "      <td>392203</td>\n",
       "      <td>2009-05-01</td>\n",
       "      <td>East London</td>\n",
       "      <td>Buffalo Park</td>\n",
       "      <td>Kolkata Knight Riders</td>\n",
       "      <td>Mumbai Indians</td>\n",
       "      <td>Mumbai Indians</td>\n",
       "      <td>bat</td>\n",
       "      <td>Mumbai Indians</td>\n",
       "      <td>runs</td>\n",
       "      <td>9.0</td>\n",
       "      <td>1</td>\n",
       "      <td>0.4</td>\n",
       "      <td>Mumbai Indians</td>\n",
       "      <td>SR Tendulkar</td>\n",
       "      <td>ST Jayasuriya</td>\n",
       "      <td>I Sharma</td>\n",
       "      <td>0</td>\n",
       "      <td>0</td>\n",
       "      <td>0</td>\n",
       "      <td>NaN</td>\n",
       "      <td>NaN</td>\n",
       "      <td>NaN</td>\n",
       "      <td>NaN</td>\n",
       "    </tr>\n",
       "    <tr>\n",
       "      <th>4</th>\n",
       "      <td>392203</td>\n",
       "      <td>2009-05-01</td>\n",
       "      <td>East London</td>\n",
       "      <td>Buffalo Park</td>\n",
       "      <td>Kolkata Knight Riders</td>\n",
       "      <td>Mumbai Indians</td>\n",
       "      <td>Mumbai Indians</td>\n",
       "      <td>bat</td>\n",
       "      <td>Mumbai Indians</td>\n",
       "      <td>runs</td>\n",
       "      <td>9.0</td>\n",
       "      <td>1</td>\n",
       "      <td>0.5</td>\n",
       "      <td>Mumbai Indians</td>\n",
       "      <td>SR Tendulkar</td>\n",
       "      <td>ST Jayasuriya</td>\n",
       "      <td>I Sharma</td>\n",
       "      <td>2</td>\n",
       "      <td>0</td>\n",
       "      <td>2</td>\n",
       "      <td>NaN</td>\n",
       "      <td>NaN</td>\n",
       "      <td>NaN</td>\n",
       "      <td>NaN</td>\n",
       "    </tr>\n",
       "  </tbody>\n",
       "</table>\n",
       "</div>"
      ],
      "text/plain": [
       "   match_code        date         city         venue                  team1  \\\n",
       "0      392203  2009-05-01  East London  Buffalo Park  Kolkata Knight Riders   \n",
       "1      392203  2009-05-01  East London  Buffalo Park  Kolkata Knight Riders   \n",
       "2      392203  2009-05-01  East London  Buffalo Park  Kolkata Knight Riders   \n",
       "3      392203  2009-05-01  East London  Buffalo Park  Kolkata Knight Riders   \n",
       "4      392203  2009-05-01  East London  Buffalo Park  Kolkata Knight Riders   \n",
       "\n",
       "            team2     toss_winner toss_decision          winner win_type  \\\n",
       "0  Mumbai Indians  Mumbai Indians           bat  Mumbai Indians     runs   \n",
       "1  Mumbai Indians  Mumbai Indians           bat  Mumbai Indians     runs   \n",
       "2  Mumbai Indians  Mumbai Indians           bat  Mumbai Indians     runs   \n",
       "3  Mumbai Indians  Mumbai Indians           bat  Mumbai Indians     runs   \n",
       "4  Mumbai Indians  Mumbai Indians           bat  Mumbai Indians     runs   \n",
       "\n",
       "   win_margin  inning  delivery    batting_team        batsman    non_striker  \\\n",
       "0         9.0       1       0.1  Mumbai Indians  ST Jayasuriya   SR Tendulkar   \n",
       "1         9.0       1       0.2  Mumbai Indians  ST Jayasuriya   SR Tendulkar   \n",
       "2         9.0       1       0.3  Mumbai Indians   SR Tendulkar  ST Jayasuriya   \n",
       "3         9.0       1       0.4  Mumbai Indians   SR Tendulkar  ST Jayasuriya   \n",
       "4         9.0       1       0.5  Mumbai Indians   SR Tendulkar  ST Jayasuriya   \n",
       "\n",
       "     bowler  runs  extras  total extras_type player_out wicket_kind  \\\n",
       "0  I Sharma     0       1      1       wides        NaN         NaN   \n",
       "1  I Sharma     1       0      1         NaN        NaN         NaN   \n",
       "2  I Sharma     0       1      1       wides        NaN         NaN   \n",
       "3  I Sharma     0       0      0         NaN        NaN         NaN   \n",
       "4  I Sharma     2       0      2         NaN        NaN         NaN   \n",
       "\n",
       "  wicket_fielders  \n",
       "0             NaN  \n",
       "1             NaN  \n",
       "2             NaN  \n",
       "3             NaN  \n",
       "4             NaN  "
      ]
     },
     "execution_count": 20,
     "metadata": {},
     "output_type": "execute_result"
    }
   ],
   "source": [
    "ipl_dataset = pd.read_csv(path, delimiter=',')\n",
    "ipl_dataset.head()"
   ]
  },
  {
   "cell_type": "code",
   "execution_count": 4,
   "metadata": {},
   "outputs": [
    {
     "data": {
      "text/plain": [
       "array(['East London', 'Port Elizabeth', 'Centurion', 'neutral_venue',\n",
       "       'Chennai', 'Jaipur', 'Kolkata', 'Delhi', 'Chandigarh', 'Hyderabad',\n",
       "       'Ranchi', 'Mumbai', 'Bangalore', 'Dharamsala', 'Pune', 'Rajkot',\n",
       "       'Durban', 'Cuttack', 'Cape Town', 'Ahmedabad', 'Johannesburg',\n",
       "       'Visakhapatnam', 'Abu Dhabi', 'Raipur', 'Kochi', 'Kimberley',\n",
       "       'Nagpur', 'Bloemfontein', 'Indore', 'Kanpur'], dtype=object)"
      ]
     },
     "execution_count": 4,
     "metadata": {},
     "output_type": "execute_result"
    }
   ],
   "source": [
    "unique_cities = pd.unique(ipl_dataset['city'])\n",
    "unique_cities"
   ]
  },
  {
   "cell_type": "code",
   "execution_count": 24,
   "metadata": {},
   "outputs": [
    {
     "data": {
      "text/plain": [
       "winner              1.0\n",
       "win_type            1.0\n",
       "win_margin          1.0\n",
       "extras_type        95.0\n",
       "player_out         95.0\n",
       "wicket_kind        95.0\n",
       "wicket_fielders    96.0\n",
       "dtype: float64"
      ]
     },
     "execution_count": 24,
     "metadata": {},
     "output_type": "execute_result"
    }
   ],
   "source": [
    "missing = round(ipl_dataset.isnull().sum()/ipl_dataset.shape[0]*100)\n",
    "missing = missing[missing>0]\n",
    "missing"
   ]
  },
  {
   "cell_type": "code",
   "execution_count": 5,
   "metadata": {},
   "outputs": [
    {
     "name": "stdout",
     "output_type": "stream",
     "text": [
      "Index(['winner', 'win_type', 'win_margin', 'extras_type', 'player_out',\n",
      "       'wicket_kind', 'wicket_fielders'],\n",
      "      dtype='object')\n"
     ]
    }
   ],
   "source": [
    "columns_null = ipl_dataset.isnull().sum()[ipl_dataset.isnull().sum()>0].index\n",
    "print(columns_null)"
   ]
  },
  {
   "cell_type": "code",
   "execution_count": 25,
   "metadata": {},
   "outputs": [
    {
     "data": {
      "text/plain": [
       "Index(['M Chinnaswamy Stadium', 'Eden Gardens', 'Feroz Shah Kotla',\n",
       "       'Wankhede Stadium', 'MA Chidambaram Stadium, Chepauk'],\n",
       "      dtype='object')"
      ]
     },
     "execution_count": 25,
     "metadata": {},
     "output_type": "execute_result"
    }
   ],
   "source": [
    "group_matches = ipl_dataset.pivot_table(index=['match_code','venue'], aggfunc='count')\n",
    "# group_matches.sort_values('venue', inplace=True, ascending=False)\n",
    "group_matches = group_matches.index.get_level_values(1).value_counts()\n",
    "group_matches_5 = group_matches.head(5).index\n",
    "group_matches_5"
   ]
  },
  {
   "cell_type": "code",
   "execution_count": 30,
   "metadata": {},
   "outputs": [
    {
     "data": {
      "text/plain": [
       "Index(['M Chinnaswamy Stadium', 'Eden Gardens', 'Feroz Shah Kotla',\n",
       "       'Wankhede Stadium', 'MA Chidambaram Stadium, Chepauk'],\n",
       "      dtype='object')"
      ]
     },
     "execution_count": 30,
     "metadata": {},
     "output_type": "execute_result"
    }
   ],
   "source": [
    "most_ven = ipl_dataset[['match_code', 'venue']].drop_duplicates()\n",
    "most_ven = most_ven['venue'].value_counts()\n",
    "most_ven.head(5).index"
   ]
  },
  {
   "cell_type": "code",
   "execution_count": 7,
   "metadata": {
    "scrolled": true
   },
   "outputs": [
    {
     "data": {
      "text/plain": [
       "runs\n",
       "0    55870\n",
       "1    50087\n",
       "2     8835\n",
       "3      473\n",
       "4    15409\n",
       "5       42\n",
       "6     5806\n",
       "Name: runs, dtype: int64"
      ]
     },
     "execution_count": 7,
     "metadata": {},
     "output_type": "execute_result"
    }
   ],
   "source": [
    "group_run = ipl_dataset.groupby('runs')['runs'].count()\n",
    "group_run"
   ]
  },
  {
   "cell_type": "code",
   "execution_count": 32,
   "metadata": {},
   "outputs": [
    {
     "name": "stdout",
     "output_type": "stream",
     "text": [
      "9\n",
      "[2009 2014 2011 2008 2015 2010 2013 2012 2016]\n"
     ]
    }
   ],
   "source": [
    "ipl_dataset['year'] = ipl_dataset['date'].apply(lambda x:datetime.datetime.strptime(x, \"%Y-%m-%d\").year)\n",
    "print(ipl_dataset['year'].nunique())\n",
    "print(ipl_dataset['year'].unique())"
   ]
  },
  {
   "cell_type": "code",
   "execution_count": 34,
   "metadata": {},
   "outputs": [
    {
     "name": "stdout",
     "output_type": "stream",
     "text": [
      "9\n",
      "[2009 2014 2011 2008 2015 2010 2013 2012 2016]\n"
     ]
    }
   ],
   "source": [
    "ipl_dataset['year2'] = ipl_dataset['date'].apply(lambda x:int(x[:4]))\n",
    "print(ipl_dataset['year2'].nunique())\n",
    "print(ipl_dataset['year2'].unique())"
   ]
  },
  {
   "cell_type": "code",
   "execution_count": 37,
   "metadata": {},
   "outputs": [
    {
     "data": {
      "text/plain": [
       "2013    76\n",
       "2012    74\n",
       "2011    73\n",
       "2016    60\n",
       "2014    60\n",
       "2010    60\n",
       "2015    59\n",
       "2008    58\n",
       "2009    57\n",
       "Name: year, dtype: int64"
      ]
     },
     "execution_count": 37,
     "metadata": {},
     "output_type": "execute_result"
    }
   ],
   "source": [
    "ipl_dataset[['match_code','year']].drop_duplicates()['year'].value_counts()"
   ]
  },
  {
   "cell_type": "code",
   "execution_count": 9,
   "metadata": {},
   "outputs": [
    {
     "name": "stdout",
     "output_type": "stream",
     "text": [
      "      total\n",
      "year       \n",
      "2008     58\n",
      "2009     57\n",
      "2010     60\n",
      "2011     73\n",
      "2012     74\n",
      "2013     76\n",
      "2014     60\n",
      "2015     59\n",
      "2016     60\n"
     ]
    },
    {
     "data": {
      "text/html": [
       "<div>\n",
       "<style scoped>\n",
       "    .dataframe tbody tr th:only-of-type {\n",
       "        vertical-align: middle;\n",
       "    }\n",
       "\n",
       "    .dataframe tbody tr th {\n",
       "        vertical-align: top;\n",
       "    }\n",
       "\n",
       "    .dataframe thead th {\n",
       "        text-align: right;\n",
       "    }\n",
       "</style>\n",
       "<table border=\"1\" class=\"dataframe\">\n",
       "  <thead>\n",
       "    <tr style=\"text-align: right;\">\n",
       "      <th></th>\n",
       "      <th>total</th>\n",
       "    </tr>\n",
       "    <tr>\n",
       "      <th>year</th>\n",
       "      <th></th>\n",
       "    </tr>\n",
       "  </thead>\n",
       "  <tbody>\n",
       "    <tr>\n",
       "      <th>2008</th>\n",
       "      <td>17936</td>\n",
       "    </tr>\n",
       "    <tr>\n",
       "      <th>2009</th>\n",
       "      <td>16320</td>\n",
       "    </tr>\n",
       "    <tr>\n",
       "      <th>2010</th>\n",
       "      <td>18862</td>\n",
       "    </tr>\n",
       "    <tr>\n",
       "      <th>2011</th>\n",
       "      <td>21154</td>\n",
       "    </tr>\n",
       "    <tr>\n",
       "      <th>2012</th>\n",
       "      <td>22451</td>\n",
       "    </tr>\n",
       "    <tr>\n",
       "      <th>2013</th>\n",
       "      <td>22541</td>\n",
       "    </tr>\n",
       "    <tr>\n",
       "      <th>2014</th>\n",
       "      <td>18909</td>\n",
       "    </tr>\n",
       "    <tr>\n",
       "      <th>2015</th>\n",
       "      <td>18331</td>\n",
       "    </tr>\n",
       "    <tr>\n",
       "      <th>2016</th>\n",
       "      <td>18862</td>\n",
       "    </tr>\n",
       "  </tbody>\n",
       "</table>\n",
       "</div>"
      ],
      "text/plain": [
       "      total\n",
       "year       \n",
       "2008  17936\n",
       "2009  16320\n",
       "2010  18862\n",
       "2011  21154\n",
       "2012  22451\n",
       "2013  22541\n",
       "2014  18909\n",
       "2015  18331\n",
       "2016  18862"
      ]
     },
     "execution_count": 9,
     "metadata": {},
     "output_type": "execute_result"
    }
   ],
   "source": [
    "runs_year = ipl_dataset.pivot_table(index=['match_code', 'year'], values='total', aggfunc='sum')\n",
    "runs_year.reset_index(level=0, drop=True, inplace=True)\n",
    "matchcount_year = runs_year.groupby(runs_year.index).count()\n",
    "print(matchcount_year)\n",
    "runs_year = runs_year.groupby(runs_year.index).sum()\n",
    "runs_year"
   ]
  },
  {
   "cell_type": "code",
   "execution_count": 38,
   "metadata": {},
   "outputs": [
    {
     "data": {
      "text/plain": [
       "year\n",
       "2008    17936\n",
       "2009    16320\n",
       "2010    18862\n",
       "2011    21154\n",
       "2012    22451\n",
       "2013    22541\n",
       "2014    18909\n",
       "2015    18331\n",
       "2016    18862\n",
       "Name: total, dtype: int64"
      ]
     },
     "execution_count": 38,
     "metadata": {},
     "output_type": "execute_result"
    }
   ],
   "source": [
    "ipl_dataset.groupby('year')['total'].sum()"
   ]
  },
  {
   "cell_type": "code",
   "execution_count": 10,
   "metadata": {},
   "outputs": [
    {
     "data": {
      "text/plain": [
       "Index(['match_code', 'date', 'city', 'venue', 'team1', 'team2', 'toss_winner',\n",
       "       'toss_decision', 'winner', 'win_type', 'win_margin', 'inning',\n",
       "       'delivery', 'batting_team', 'batsman', 'non_striker', 'bowler', 'runs',\n",
       "       'extras', 'total', 'extras_type', 'player_out', 'wicket_kind',\n",
       "       'wicket_fielders', 'year'],\n",
       "      dtype='object')"
      ]
     },
     "execution_count": 10,
     "metadata": {},
     "output_type": "execute_result"
    }
   ],
   "source": [
    "ipl_dataset.columns"
   ]
  },
  {
   "cell_type": "code",
   "execution_count": 39,
   "metadata": {},
   "outputs": [
    {
     "data": {
      "text/plain": [
       "match_code  batting_team               \n",
       "598027      Royal Challengers Bangalore    263\n",
       "980987      Royal Challengers Bangalore    248\n",
       "419137      Chennai Super Kings            246\n",
       "335983      Chennai Super Kings            240\n",
       "829795      Royal Challengers Bangalore    235\n",
       "501260      Kings XI Punjab                232\n",
       "733987      Kings XI Punjab                231\n",
       "501223      Delhi Daredevils               231\n",
       "980907      Royal Challengers Bangalore    227\n",
       "829785      Royal Challengers Bangalore    226\n",
       "Name: total, dtype: int64"
      ]
     },
     "execution_count": 39,
     "metadata": {},
     "output_type": "execute_result"
    }
   ],
   "source": [
    "inning_total = ipl_dataset.groupby(by=['match_code', 'batting_team'])['total'].sum()\n",
    "# inning_total.reset_index(level=0, drop=True, inplace=True)\n",
    "top_innings = inning_total.sort_values(ascending=False)\n",
    "high_per = top_innings[top_innings>200]\n",
    "high_per.head(10)"
   ]
  },
  {
   "cell_type": "code",
   "execution_count": 12,
   "metadata": {},
   "outputs": [
    {
     "data": {
      "text/plain": [
       "12.82051282051282"
      ]
     },
     "execution_count": 12,
     "metadata": {},
     "output_type": "execute_result"
    }
   ],
   "source": [
    "inn_run_tol = ipl_dataset.pivot_table(index='match_code', columns='inning', values='total', aggfunc='sum')\n",
    "inn_run_tol = inn_run_tol[inn_run_tol[1]>200]\n",
    "inn_run_tol['diff'] = inn_run_tol[1]-inn_run_tol[2]\n",
    "loss_200 = inn_run_tol[inn_run_tol['diff']<0]\n",
    "loss_per_200 = loss_200.shape[0]/inn_run_tol.shape[0]*100\n",
    "loss_per_200"
   ]
  },
  {
   "cell_type": "code",
   "execution_count": 14,
   "metadata": {},
   "outputs": [
    {
     "name": "stdout",
     "output_type": "stream",
     "text": [
      "2009 Delhi Daredevils\n",
      "2014 Kings XI Punjab\n",
      "2011 Chennai Super Kings\n",
      "2008 Rajasthan Royals\n",
      "2015 Chennai Super Kings\n",
      "2010 Mumbai Indians\n",
      "2013 Mumbai Indians\n",
      "2012 Kolkata Knight Riders\n",
      "2016 Sunrisers Hyderabad\n"
     ]
    }
   ],
   "source": [
    "top_per_year = ipl_dataset.pivot_table(index=['year', 'match_code', 'winner'], aggfunc='count')\n",
    "top_per_year['winner'] = top_per_year.index.get_level_values(2)\n",
    "top_per_year['year'] = top_per_year.index.get_level_values('year')\n",
    "top_per_year.reset_index(level=[0, 1, 2], drop=True, inplace=True)\n",
    "top_per_year = top_per_year.groupby(by=['year', 'winner'])[['winner']].count()\n",
    "for year in ipl_dataset['year'].unique():\n",
    "    print(year, top_per_year.loc[year].idxmax()['winner'])"
   ]
  },
  {
   "cell_type": "code",
   "execution_count": 53,
   "metadata": {},
   "outputs": [
    {
     "data": {
      "text/plain": [
       "year  winner               \n",
       "2008  Rajasthan Royals         13\n",
       "2009  Delhi Daredevils         10\n",
       "2010  Mumbai Indians           11\n",
       "2011  Chennai Super Kings      11\n",
       "2012  Kolkata Knight Riders    12\n",
       "2013  Mumbai Indians           13\n",
       "2014  Kings XI Punjab          12\n",
       "2015  Mumbai Indians           10\n",
       "2016  Sunrisers Hyderabad      11\n",
       "Name: match_code, dtype: int64"
      ]
     },
     "execution_count": 53,
     "metadata": {},
     "output_type": "execute_result"
    }
   ],
   "source": [
    "ss1 = ipl_dataset.groupby(['year','winner'])['match_code'].nunique()\n",
    "ss1 = ss1.groupby(level=0,group_keys=False)\n",
    "ss1 = ss1.apply(lambda x:x.sort_values(ascending=False).head(1))\n",
    "ss1"
   ]
  },
  {
   "cell_type": "code",
   "execution_count": 15,
   "metadata": {},
   "outputs": [
    {
     "data": {
      "text/html": [
       "<div>\n",
       "<style scoped>\n",
       "    .dataframe tbody tr th:only-of-type {\n",
       "        vertical-align: middle;\n",
       "    }\n",
       "\n",
       "    .dataframe tbody tr th {\n",
       "        vertical-align: top;\n",
       "    }\n",
       "\n",
       "    .dataframe thead th {\n",
       "        text-align: right;\n",
       "    }\n",
       "</style>\n",
       "<table border=\"1\" class=\"dataframe\">\n",
       "  <thead>\n",
       "    <tr style=\"text-align: right;\">\n",
       "      <th></th>\n",
       "      <th>Pos</th>\n",
       "      <th>Team</th>\n",
       "      <th>Weighted Matches</th>\n",
       "      <th>Points</th>\n",
       "      <th>Rating</th>\n",
       "    </tr>\n",
       "  </thead>\n",
       "  <tbody>\n",
       "    <tr>\n",
       "      <th>0</th>\n",
       "      <td>1</td>\n",
       "      <td>India</td>\n",
       "      <td>32</td>\n",
       "      <td>3,631</td>\n",
       "      <td>113</td>\n",
       "    </tr>\n",
       "    <tr>\n",
       "      <th>1</th>\n",
       "      <td>2</td>\n",
       "      <td>New Zealand</td>\n",
       "      <td>23</td>\n",
       "      <td>2,547</td>\n",
       "      <td>111</td>\n",
       "    </tr>\n",
       "    <tr>\n",
       "      <th>2</th>\n",
       "      <td>3</td>\n",
       "      <td>South Africa</td>\n",
       "      <td>27</td>\n",
       "      <td>2,917</td>\n",
       "      <td>108</td>\n",
       "    </tr>\n",
       "    <tr>\n",
       "      <th>3</th>\n",
       "      <td>4</td>\n",
       "      <td>England</td>\n",
       "      <td>35</td>\n",
       "      <td>3,663</td>\n",
       "      <td>105</td>\n",
       "    </tr>\n",
       "    <tr>\n",
       "      <th>4</th>\n",
       "      <td>5</td>\n",
       "      <td>Australia</td>\n",
       "      <td>27</td>\n",
       "      <td>2,640</td>\n",
       "      <td>98</td>\n",
       "    </tr>\n",
       "    <tr>\n",
       "      <th>5</th>\n",
       "      <td>6</td>\n",
       "      <td>Sri Lanka</td>\n",
       "      <td>37</td>\n",
       "      <td>3,462</td>\n",
       "      <td>94</td>\n",
       "    </tr>\n",
       "    <tr>\n",
       "      <th>6</th>\n",
       "      <td>7</td>\n",
       "      <td>Pakistan</td>\n",
       "      <td>27</td>\n",
       "      <td>2,263</td>\n",
       "      <td>84</td>\n",
       "    </tr>\n",
       "    <tr>\n",
       "      <th>7</th>\n",
       "      <td>8</td>\n",
       "      <td>West Indies</td>\n",
       "      <td>29</td>\n",
       "      <td>2,381</td>\n",
       "      <td>82</td>\n",
       "    </tr>\n",
       "    <tr>\n",
       "      <th>8</th>\n",
       "      <td>9</td>\n",
       "      <td>Bangladesh</td>\n",
       "      <td>22</td>\n",
       "      <td>1,438</td>\n",
       "      <td>65</td>\n",
       "    </tr>\n",
       "    <tr>\n",
       "      <th>9</th>\n",
       "      <td>10</td>\n",
       "      <td>Zimbabwe</td>\n",
       "      <td>9</td>\n",
       "      <td>140</td>\n",
       "      <td>16</td>\n",
       "    </tr>\n",
       "  </tbody>\n",
       "</table>\n",
       "</div>"
      ],
      "text/plain": [
       "   Pos          Team  Weighted Matches Points  Rating\n",
       "0    1         India                32  3,631     113\n",
       "1    2   New Zealand                23  2,547     111\n",
       "2    3  South Africa                27  2,917     108\n",
       "3    4       England                35  3,663     105\n",
       "4    5     Australia                27  2,640      98\n",
       "5    6     Sri Lanka                37  3,462      94\n",
       "6    7      Pakistan                27  2,263      84\n",
       "7    8   West Indies                29  2,381      82\n",
       "8    9    Bangladesh                22  1,438      65\n",
       "9   10      Zimbabwe                 9    140      16"
      ]
     },
     "execution_count": 15,
     "metadata": {},
     "output_type": "execute_result"
    }
   ],
   "source": [
    "df = pd.read_clipboard()\n",
    "df"
   ]
  },
  {
   "cell_type": "code",
   "execution_count": null,
   "metadata": {},
   "outputs": [],
   "source": []
  },
  {
   "cell_type": "code",
   "execution_count": null,
   "metadata": {},
   "outputs": [],
   "source": []
  }
 ],
 "metadata": {
  "kernelspec": {
   "display_name": "Python 3",
   "language": "python",
   "name": "python3"
  },
  "language_info": {
   "codemirror_mode": {
    "name": "ipython",
    "version": 3
   },
   "file_extension": ".py",
   "mimetype": "text/x-python",
   "name": "python",
   "nbconvert_exporter": "python",
   "pygments_lexer": "ipython3",
   "version": "3.7.3"
  }
 },
 "nbformat": 4,
 "nbformat_minor": 2
}
