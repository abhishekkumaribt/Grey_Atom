{
 "cells": [
  {
   "cell_type": "code",
   "execution_count": 2,
   "metadata": {},
   "outputs": [],
   "source": [
    "import numpy as np\n",
    "import pandas as pd\n",
    "import matplotlib.pyplot as plt\n",
    "from scipy.linalg import norm\n",
    "from numpy import inf\n",
    "import math\n",
    "import scipy\n",
    "%matplotlib inline"
   ]
  },
  {
   "cell_type": "code",
   "execution_count": 3,
   "metadata": {},
   "outputs": [],
   "source": [
    "vec_1 = np.array([1,2,3])\n",
    "vec_2 = np.array([3,2,1])"
   ]
  },
  {
   "cell_type": "code",
   "execution_count": 4,
   "metadata": {},
   "outputs": [],
   "source": [
    "vec_sum = np.add(vec_1,vec_2)\n",
    "vec_diff = np.subtract(vec_1,vec_2)\n",
    "vec_ans = np.add(2*vec_diff,vec_sum)"
   ]
  },
  {
   "cell_type": "code",
   "execution_count": 5,
   "metadata": {},
   "outputs": [
    {
     "name": "stdout",
     "output_type": "stream",
     "text": [
      "[4 4 4] [-2  0  2] [0 4 8]\n"
     ]
    }
   ],
   "source": [
    "print(vec_sum, vec_diff, vec_ans)"
   ]
  },
  {
   "cell_type": "code",
   "execution_count": 6,
   "metadata": {},
   "outputs": [],
   "source": [
    "vec_1 = np.array([3,4,12])\n",
    "l1_norm = norm(vec_1, 1)\n",
    "l2_norm = norm(vec_1, 2)"
   ]
  },
  {
   "cell_type": "code",
   "execution_count": 7,
   "metadata": {},
   "outputs": [
    {
     "name": "stdout",
     "output_type": "stream",
     "text": [
      "19.0 13.0 12.0 [0.23076923 0.30769231 0.92307692]\n"
     ]
    }
   ],
   "source": [
    "lmax_norm = norm(vec_1, inf)\n",
    "unit_vector = np.multiply(1/l2_norm, vec_1)\n",
    "print(l1_norm, l2_norm, lmax_norm, unit_vector)"
   ]
  },
  {
   "cell_type": "code",
   "execution_count": 8,
   "metadata": {},
   "outputs": [
    {
     "data": {
      "text/plain": [
       "array([ 9,  8, 12])"
      ]
     },
     "execution_count": 8,
     "metadata": {},
     "output_type": "execute_result"
    }
   ],
   "source": [
    "vec_1 * vec_2"
   ]
  },
  {
   "cell_type": "code",
   "execution_count": 9,
   "metadata": {},
   "outputs": [
    {
     "data": {
      "text/plain": [
       "array([-20,  33,  -6])"
      ]
     },
     "execution_count": 9,
     "metadata": {},
     "output_type": "execute_result"
    }
   ],
   "source": [
    "np.cross(vec_1, vec_2)"
   ]
  },
  {
   "cell_type": "code",
   "execution_count": 10,
   "metadata": {},
   "outputs": [
    {
     "data": {
      "text/plain": [
       "29"
      ]
     },
     "execution_count": 10,
     "metadata": {},
     "output_type": "execute_result"
    }
   ],
   "source": [
    "np.dot(vec_1, vec_2)"
   ]
  },
  {
   "cell_type": "code",
   "execution_count": 11,
   "metadata": {},
   "outputs": [],
   "source": [
    "vec_1 = np.array([1,1,1])\n",
    "vec_2 = np.array([2,2,1])"
   ]
  },
  {
   "cell_type": "code",
   "execution_count": 12,
   "metadata": {},
   "outputs": [],
   "source": [
    "vec_dot = np.dot(vec_1, vec_2)\n",
    "vec_cross = np.cross(vec_1, vec_2)"
   ]
  },
  {
   "cell_type": "code",
   "execution_count": 13,
   "metadata": {},
   "outputs": [
    {
     "name": "stdout",
     "output_type": "stream",
     "text": [
      "5 [-1  1  0]\n"
     ]
    }
   ],
   "source": [
    "print(vec_dot, vec_cross)"
   ]
  },
  {
   "cell_type": "code",
   "execution_count": 14,
   "metadata": {},
   "outputs": [
    {
     "data": {
      "text/plain": [
       "70"
      ]
     },
     "execution_count": 14,
     "metadata": {},
     "output_type": "execute_result"
    }
   ],
   "source": [
    "np.dot(np.array([7,-4,-1]), np.array([8, -5, 6]))"
   ]
  },
  {
   "cell_type": "code",
   "execution_count": 15,
   "metadata": {},
   "outputs": [],
   "source": [
    "vec_1 = np.array([1,2,2])\n",
    "vec_2 = np.array([6,0,-3])"
   ]
  },
  {
   "cell_type": "code",
   "execution_count": 16,
   "metadata": {},
   "outputs": [
    {
     "name": "stdout",
     "output_type": "stream",
     "text": [
      "1 1\n"
     ]
    }
   ],
   "source": [
    "dp_1 = np.dot(vec_1, vec_2)\n",
    "orthog = 1 if dp_1==0 else 0\n",
    "u1_n = vec_1/np.linalg.norm(vec_1)\n",
    "u2_n = vec_2/np.linalg.norm(vec_2)\n",
    "dp_2 = np.dot(u1_n, u2_n)\n",
    "orthon = 1 if dp_2==0 else 0\n",
    "print(orthog, orthon)"
   ]
  },
  {
   "cell_type": "code",
   "execution_count": 17,
   "metadata": {},
   "outputs": [
    {
     "name": "stdout",
     "output_type": "stream",
     "text": [
      "[0.33333333 0.66666667 0.66666667] [ 0.89442719  0.         -0.4472136 ] 0.0\n"
     ]
    }
   ],
   "source": [
    "print(u1_n, u2_n, dp_2)"
   ]
  },
  {
   "cell_type": "code",
   "execution_count": 18,
   "metadata": {},
   "outputs": [
    {
     "data": {
      "text/plain": [
       "[1.0, 1.0, 1.0]"
      ]
     },
     "execution_count": 18,
     "metadata": {},
     "output_type": "execute_result"
    }
   ],
   "source": [
    "vec_1 = np.array([1,1,0])\n",
    "vec_2 = np.array([1,0,1])\n",
    "vec_3= np.array([0,1,1])\n",
    "vec = np.array([1,1,1])\n",
    "proj_vec_1 = round(np.dot(vec, vec_1)/(norm(vec_1)**2),2)\n",
    "proj_vec_2 = round(np.dot(vec, vec_2)/(norm(vec_2)**2),2)\n",
    "proj_vec_3 = round(np.dot(vec, vec_3)/(norm(vec_3)**2),2)\n",
    "vec_new = [proj_vec_1, proj_vec_2, proj_vec_3]\n",
    "vec_new"
   ]
  },
  {
   "cell_type": "code",
   "execution_count": 19,
   "metadata": {},
   "outputs": [
    {
     "data": {
      "text/plain": [
       "array([-7,  8, -3])"
      ]
     },
     "execution_count": 19,
     "metadata": {},
     "output_type": "execute_result"
    }
   ],
   "source": [
    "np.cross(np.array([1,2,3]), np.array([2,1,-2]))"
   ]
  },
  {
   "cell_type": "code",
   "execution_count": 20,
   "metadata": {},
   "outputs": [
    {
     "data": {
      "text/plain": [
       "array([[1, 1, 2],\n",
       "       [2, 2, 3],\n",
       "       [3, 3, 4]])"
      ]
     },
     "execution_count": 20,
     "metadata": {},
     "output_type": "execute_result"
    }
   ],
   "source": [
    "mat_1 = np.array([[1,1,1],[2,2,2],[3,3,3]])\n",
    "mat_2 = np.array([[0,0,1],[0,0,1],[0,0,1]])\n",
    "mat_sum = mat_1+mat_2\n",
    "mat_sum"
   ]
  },
  {
   "cell_type": "code",
   "execution_count": 21,
   "metadata": {},
   "outputs": [
    {
     "data": {
      "text/plain": [
       "array([[1, 1, 1],\n",
       "       [1, 1, 1],\n",
       "       [1, 1, 1]])"
      ]
     },
     "execution_count": 21,
     "metadata": {},
     "output_type": "execute_result"
    }
   ],
   "source": [
    "mat_1 = np.array([[1,1,1],[1,1,1],[1,1,1]])\n",
    "mat_2 = np.array([[1,0,0],[0,1,0],[0,0,1]])\n",
    "mat_prod = np.matmul(mat_1, mat_2)\n",
    "mat_prod"
   ]
  },
  {
   "cell_type": "code",
   "execution_count": 22,
   "metadata": {},
   "outputs": [
    {
     "data": {
      "text/plain": [
       "array([[ 7,  2,  1],\n",
       "       [ 0, -3, -1],\n",
       "       [-3,  4, -2]])"
      ]
     },
     "execution_count": 22,
     "metadata": {},
     "output_type": "execute_result"
    }
   ],
   "source": [
    "mat_1 = np.array([[7,2,1],[0,-3,-1],[-3,4,-2]])\n",
    "mat_1"
   ]
  },
  {
   "cell_type": "code",
   "execution_count": 23,
   "metadata": {},
   "outputs": [
    {
     "data": {
      "text/plain": [
       "array([[ 7,  0, -3],\n",
       "       [ 2, -3,  4],\n",
       "       [ 1, -1, -2]])"
      ]
     },
     "execution_count": 23,
     "metadata": {},
     "output_type": "execute_result"
    }
   ],
   "source": [
    "mat_t = mat_1.T\n",
    "mat_t"
   ]
  },
  {
   "cell_type": "code",
   "execution_count": 24,
   "metadata": {},
   "outputs": [
    {
     "data": {
      "text/plain": [
       "67.0"
      ]
     },
     "execution_count": 24,
     "metadata": {},
     "output_type": "execute_result"
    }
   ],
   "source": [
    "mat_det = scipy.linalg.det(mat_1)\n",
    "mat_det"
   ]
  },
  {
   "cell_type": "code",
   "execution_count": 25,
   "metadata": {},
   "outputs": [
    {
     "data": {
      "text/plain": [
       "array([[ 0.14925373,  0.11940299,  0.01492537],\n",
       "       [ 0.04477612, -0.1641791 ,  0.10447761],\n",
       "       [-0.13432836, -0.50746269, -0.31343284]])"
      ]
     },
     "execution_count": 25,
     "metadata": {},
     "output_type": "execute_result"
    }
   ],
   "source": [
    "mat_inv = 0 if mat_det==0 else np.linalg.inv(mat_1)\n",
    "mat_inv"
   ]
  },
  {
   "cell_type": "code",
   "execution_count": 26,
   "metadata": {},
   "outputs": [
    {
     "data": {
      "text/plain": [
       "array([[1., 0.],\n",
       "       [0., 1.]])"
      ]
     },
     "execution_count": 26,
     "metadata": {},
     "output_type": "execute_result"
    }
   ],
   "source": [
    "np.matmul(np.array([[2,-3],[4,-7]]),np.linalg.inv(np.array([[2,-3],[4,-7]])))"
   ]
  },
  {
   "cell_type": "code",
   "execution_count": 27,
   "metadata": {},
   "outputs": [
    {
     "data": {
      "text/plain": [
       "16.881943016134134"
      ]
     },
     "execution_count": 27,
     "metadata": {},
     "output_type": "execute_result"
    }
   ],
   "source": [
    "sum=0\n",
    "for i in [1,2,3,4,5,6,7,8,9]:\n",
    "    sum = sum + i**2\n",
    "sum**0.5"
   ]
  },
  {
   "cell_type": "code",
   "execution_count": 28,
   "metadata": {},
   "outputs": [
    {
     "data": {
      "text/plain": [
       "array([[1, 0, 0],\n",
       "       [0, 0, 1],\n",
       "       [0, 1, 0]])"
      ]
     },
     "execution_count": 28,
     "metadata": {},
     "output_type": "execute_result"
    }
   ],
   "source": [
    "mat_1 = np.array([[1,0,0],[0,0,1],[0,1,0]])\n",
    "mat_1"
   ]
  },
  {
   "cell_type": "code",
   "execution_count": 29,
   "metadata": {},
   "outputs": [
    {
     "name": "stdout",
     "output_type": "stream",
     "text": [
      "[[1 0 0]\n",
      " [0 0 1]\n",
      " [0 1 0]]\n",
      "[[1. 0. 0.]\n",
      " [0. 0. 1.]\n",
      " [0. 1. 0.]]\n"
     ]
    }
   ],
   "source": [
    "mat_t = mat_1.T\n",
    "mat_inv = np.linalg.inv(mat_1)\n",
    "print(mat_t, mat_inv, sep=\"\\n\")"
   ]
  },
  {
   "cell_type": "code",
   "execution_count": 30,
   "metadata": {},
   "outputs": [
    {
     "data": {
      "text/plain": [
       "True"
      ]
     },
     "execution_count": 30,
     "metadata": {},
     "output_type": "execute_result"
    }
   ],
   "source": [
    "ortho = (mat_t==mat_inv).all()\n",
    "ortho"
   ]
  },
  {
   "cell_type": "code",
   "execution_count": 31,
   "metadata": {},
   "outputs": [
    {
     "name": "stdout",
     "output_type": "stream",
     "text": [
      "False\n",
      "[[ 9.99994171e-01 -2.46400347e-17]\n",
      " [-2.46400347e-17  9.99994171e-01]]\n",
      "-1.0\n",
      "[[-0.60587  0.79556]\n",
      " [ 0.79556  0.60587]]\n",
      "[[-0.60587353  0.79556464]\n",
      " [ 0.79556464  0.60587353]]\n"
     ]
    }
   ],
   "source": [
    "mat_1 = np.array([[-0.60587,0.79556],[0.79556,0.60587]])\n",
    "print((mat_1.T==np.linalg.inv(mat_1)).all())\n",
    "print(np.matmul(mat_1,mat_1.T))\n",
    "print(round(np.linalg.det(mat_1)))\n",
    "print(mat_1.T)\n",
    "print(np.linalg.inv(mat_1))"
   ]
  },
  {
   "cell_type": "code",
   "execution_count": 32,
   "metadata": {},
   "outputs": [
    {
     "name": "stdout",
     "output_type": "stream",
     "text": [
      "[[-3 -4]\n",
      " [ 4  6]\n",
      " [ 1  1]]\n",
      "[[ 0.  -0.5  3. ]\n",
      " [ 0.   0.5 -2. ]]\n"
     ]
    }
   ],
   "source": [
    "mat_1 = np.array([[-3,-4],[4,6],[1,1]])\n",
    "mat_2 = np.array([[0,-1/2,3],[0,1/2,-2]])\n",
    "print(mat_1, mat_2, sep='\\n')"
   ]
  },
  {
   "cell_type": "code",
   "execution_count": 33,
   "metadata": {},
   "outputs": [
    {
     "data": {
      "text/plain": [
       "array([[1., 0.],\n",
       "       [0., 1.]])"
      ]
     },
     "execution_count": 33,
     "metadata": {},
     "output_type": "execute_result"
    }
   ],
   "source": [
    "mat_prod=np.matmul(mat_2, mat_1)\n",
    "mat_prod"
   ]
  },
  {
   "cell_type": "code",
   "execution_count": 34,
   "metadata": {},
   "outputs": [
    {
     "data": {
      "text/plain": [
       "117.00000000000003"
      ]
     },
     "execution_count": 34,
     "metadata": {},
     "output_type": "execute_result"
    }
   ],
   "source": [
    "mat_1 = np.array([[1,2,-16],[2,1,4],[2,-2,1]])\n",
    "np.linalg.det(mat_1)"
   ]
  },
  {
   "cell_type": "code",
   "execution_count": 35,
   "metadata": {},
   "outputs": [
    {
     "data": {
      "text/plain": [
       "array([[ 8,  0,  0,  0,  0],\n",
       "       [ 0, 27,  0,  0,  0],\n",
       "       [ 0,  0, 64,  0,  0],\n",
       "       [ 0,  0,  0,  8,  0],\n",
       "       [ 0,  0,  0,  0,  8]])"
      ]
     },
     "execution_count": 35,
     "metadata": {},
     "output_type": "execute_result"
    }
   ],
   "source": [
    "mat_1 = np.array([[2,0,0,0,0],[0,3,0,0,0],[0,0,4,0,0],[0,0,0,2,0],[0,0,0,0,2]])\n",
    "mat_mul = np.matmul(np.matmul(mat_1, mat_1),mat_1)\n",
    "mat_mul"
   ]
  },
  {
   "cell_type": "code",
   "execution_count": 36,
   "metadata": {},
   "outputs": [
    {
     "data": {
      "text/plain": [
       "8"
      ]
     },
     "execution_count": 36,
     "metadata": {},
     "output_type": "execute_result"
    }
   ],
   "source": [
    "2**3"
   ]
  },
  {
   "cell_type": "code",
   "execution_count": 37,
   "metadata": {},
   "outputs": [
    {
     "name": "stdout",
     "output_type": "stream",
     "text": [
      "0.05971142371011999\n",
      "[[-0.68567  0.14807  0.71269]\n",
      " [ 0.12975  0.93855 -0.31982]\n",
      " [-0.71626  0.31176  0.62433]]\n",
      "[[ 11.4830959    2.47971739  11.93568397]\n",
      " [  2.17284538   1.37975254   1.80380661]\n",
      " [-11.99520799  -2.12387252 -11.09917701]]\n"
     ]
    }
   ],
   "source": [
    "mat_1 = np.array([[-0.68567,0.14807,0.71269],[0.12975,0.93855,-0.31982],[-0.71626,0.31176,0.62433]])\n",
    "print(np.linalg.det(mat_1.T))\n",
    "print(mat_1.T.T)\n",
    "print(np.linalg.inv(mat_1.T))"
   ]
  },
  {
   "cell_type": "code",
   "execution_count": 38,
   "metadata": {},
   "outputs": [
    {
     "name": "stdout",
     "output_type": "stream",
     "text": [
      "[1.15470054 1.15470054 1.15470054]\n",
      "[1.15470054 1.15470054 1.15470054]\n"
     ]
    }
   ],
   "source": [
    "mat_1 = np.array([[1,0,1],[1,0,1],[1,0,1]])\n",
    "values,vectors = np.linalg.eig(mat_1)\n",
    "lhs = np.matmul(mat_1,vectors[:,1])\n",
    "print(lhs)\n",
    "rhs = vectors[:,1]*values[1]\n",
    "print(rhs)"
   ]
  },
  {
   "cell_type": "code",
   "execution_count": 39,
   "metadata": {},
   "outputs": [
    {
     "data": {
      "text/plain": [
       "array([[ 0.        ,  0.57735027, -0.70710678],\n",
       "       [ 1.        ,  0.57735027,  0.        ],\n",
       "       [ 0.        ,  0.57735027,  0.70710678]])"
      ]
     },
     "execution_count": 39,
     "metadata": {},
     "output_type": "execute_result"
    }
   ],
   "source": [
    "vectors"
   ]
  },
  {
   "cell_type": "code",
   "execution_count": 40,
   "metadata": {},
   "outputs": [
    {
     "data": {
      "text/plain": [
       "array([0., 2., 0.])"
      ]
     },
     "execution_count": 40,
     "metadata": {},
     "output_type": "execute_result"
    }
   ],
   "source": [
    "values"
   ]
  },
  {
   "cell_type": "code",
   "execution_count": 41,
   "metadata": {},
   "outputs": [
    {
     "data": {
      "text/plain": [
       "(array([-1., -2.]), array([[ 0.70710678, -0.4472136 ],\n",
       "        [-0.70710678,  0.89442719]]))"
      ]
     },
     "execution_count": 41,
     "metadata": {},
     "output_type": "execute_result"
    }
   ],
   "source": [
    "mat_1 = np.array([[0,1],[-2,-3]])\n",
    "values,vectors = np.linalg.eig(mat_1)\n",
    "values, vectors"
   ]
  },
  {
   "cell_type": "code",
   "execution_count": 42,
   "metadata": {},
   "outputs": [
    {
     "name": "stdout",
     "output_type": "stream",
     "text": [
      "[[-0.70710678 -0.70710678]\n",
      " [-0.70710678  0.70710678]]\n",
      "[3. 1.]\n",
      "[[-0.70710678 -0.70710678]\n",
      " [ 0.70710678 -0.70710678]]\n"
     ]
    }
   ],
   "source": [
    "mat_2 = np.array([[1,2],[2,1]])\n",
    "u,s,vt = np.linalg.svd(mat_2)\n",
    "print(u,s,vt,sep='\\n')"
   ]
  },
  {
   "cell_type": "code",
   "execution_count": 43,
   "metadata": {},
   "outputs": [
    {
     "data": {
      "text/plain": [
       "array([[11,  1],\n",
       "       [ 1, 11]])"
      ]
     },
     "execution_count": 43,
     "metadata": {},
     "output_type": "execute_result"
    }
   ],
   "source": [
    "mat = np.array([[3,1,1],[-1,3,1]])\n",
    "np.matmul(mat,mat.T)"
   ]
  },
  {
   "cell_type": "code",
   "execution_count": 44,
   "metadata": {},
   "outputs": [
    {
     "data": {
      "text/plain": [
       "array([2., 1.])"
      ]
     },
     "execution_count": 44,
     "metadata": {},
     "output_type": "execute_result"
    }
   ],
   "source": [
    "mat = np.array([[1,0],[1,2]])\n",
    "values,vectors = np.linalg.eig(mat)\n",
    "values"
   ]
  },
  {
   "cell_type": "markdown",
   "metadata": {},
   "source": [
    "# Assignment"
   ]
  },
  {
   "cell_type": "code",
   "execution_count": 51,
   "metadata": {},
   "outputs": [
    {
     "data": {
      "text/plain": [
       "array([[0.        , 0.        , 0.        , 0.        , 0.        ,\n",
       "        0.        , 0.33333333, 0.        ],\n",
       "       [0.5       , 0.        , 0.5       , 0.33333333, 0.        ,\n",
       "        0.        , 0.        , 0.        ],\n",
       "       [0.5       , 0.        , 0.        , 0.        , 0.        ,\n",
       "        0.        , 0.        , 0.        ],\n",
       "       [0.        , 1.        , 0.        , 0.        , 0.        ,\n",
       "        0.        , 0.        , 0.        ],\n",
       "       [0.        , 0.        , 0.5       , 0.33333333, 0.        ,\n",
       "        0.        , 0.33333333, 0.        ],\n",
       "       [0.        , 0.        , 0.        , 0.33333333, 0.33333333,\n",
       "        0.        , 0.        , 0.5       ],\n",
       "       [0.        , 0.        , 0.        , 0.        , 0.33333333,\n",
       "        0.        , 0.        , 0.5       ],\n",
       "       [0.        , 0.        , 0.        , 0.        , 0.33333333,\n",
       "        1.        , 0.33333333, 0.        ]])"
      ]
     },
     "execution_count": 51,
     "metadata": {},
     "output_type": "execute_result"
    }
   ],
   "source": [
    "adj_mat = np.array([[0,0,0,0,0,0,1/3,0],\n",
    "                   [1/2,0,1/2,1/3,0,0,0,0],\n",
    "                   [1/2,0,0,0,0,0,0,0],\n",
    "                   [0,1,0,0,0,0,0,0],\n",
    "                  [0,0,1/2,1/3,0,0,1/3,0],\n",
    "                   [0,0,0,1/3,1/3,0,0,1/2],\n",
    "                   [0,0,0,0,1/3,0,0,1/2],\n",
    "                   [0,0,0,0,1/3,1,1/3,0]])\n",
    "adj_mat"
   ]
  },
  {
   "cell_type": "code",
   "execution_count": 46,
   "metadata": {},
   "outputs": [
    {
     "data": {
      "text/plain": [
       "array([0.06  , 0.0675, 0.03  , 0.0675, 0.0975, 0.2025, 0.18  , 0.295 ])"
      ]
     },
     "execution_count": 46,
     "metadata": {},
     "output_type": "execute_result"
    }
   ],
   "source": [
    "eigenvalues, eigenvectors = np.linalg.eig(adj_mat)\n",
    "eigen_1 = abs(eigenvectors[:,0])/np.linalg.norm(eigenvectors[:,0],1)\n",
    "eigen_1"
   ]
  },
  {
   "cell_type": "code",
   "execution_count": 47,
   "metadata": {},
   "outputs": [
    {
     "data": {
      "text/plain": [
       "8"
      ]
     },
     "execution_count": 47,
     "metadata": {},
     "output_type": "execute_result"
    }
   ],
   "source": [
    "page = np.where(eigen_1==eigen_1.max())[0][0]+1\n",
    "page"
   ]
  },
  {
   "cell_type": "code",
   "execution_count": 48,
   "metadata": {},
   "outputs": [
    {
     "data": {
      "text/plain": [
       "array([0.14004708, 0.15755296, 0.07002354, 0.15755296, 0.2275765 ,\n",
       "       0.47265889, 0.42014124, 0.68856481])"
      ]
     },
     "execution_count": 48,
     "metadata": {},
     "output_type": "execute_result"
    }
   ],
   "source": [
    "abs(eigenvectors[:,0])"
   ]
  },
  {
   "cell_type": "code",
   "execution_count": 49,
   "metadata": {},
   "outputs": [
    {
     "data": {
      "text/plain": [
       "0.06521739130434782"
      ]
     },
     "execution_count": 49,
     "metadata": {},
     "output_type": "execute_result"
    }
   ],
   "source": [
    "0.15/2.3"
   ]
  },
  {
   "cell_type": "code",
   "execution_count": 92,
   "metadata": {},
   "outputs": [
    {
     "data": {
      "text/plain": [
       "array([0.06730348, 0.06450046, 0.02690615, 0.07000171, 0.10489779,\n",
       "       0.18293229, 0.16304203, 0.3204161 ])"
      ]
     },
     "execution_count": 92,
     "metadata": {},
     "output_type": "execute_result"
    }
   ],
   "source": [
    "init_I = [1,0,0,0,0,0,0,0]\n",
    "for i in range(10):\n",
    "    init_I = np.dot(adj_mat,init_I)\n",
    "power_page = np.argmax(init_I)+1\n",
    "init_I"
   ]
  },
  {
   "cell_type": "code",
   "execution_count": 105,
   "metadata": {},
   "outputs": [
    {
     "data": {
      "text/plain": [
       "array([0.06730348, 0.06450046, 0.02690615, 0.07000171, 0.10489779,\n",
       "       0.18293229, 0.16304203, 0.3204161 ])"
      ]
     },
     "execution_count": 105,
     "metadata": {},
     "output_type": "execute_result"
    }
   ],
   "source": [
    "init_I = [1,0,0,0,0,0,0,0]\n",
    "for i in range(10):\n",
    "    init_I = np.dot(adj_mat,init_I)\n",
    "    init_I /= np.linalg.norm(init_I,1)\n",
    "init_I"
   ]
  },
  {
   "cell_type": "code",
   "execution_count": 72,
   "metadata": {},
   "outputs": [],
   "source": [
    "new_adj_mat = np.array([[0,0,0,0,0,0,0,0],\n",
    "                   [1/2,0,1/2,1/3,0,0,0,0],\n",
    "                  [1/2,0,0,0,0,0,0,0],\n",
    "                   [0,1,0,0,0,0,0,0],\n",
    "                   [0,0,1/2,1/3,0,0,1/2,0],\n",
    "                   [0,0,0,1/3,1/3,0,0,1/2],\n",
    "                   [0,0,0,0,1/3,0,0,1/2],\n",
    "                   [0,0,0,0,1/3,1,1/2,0]])"
   ]
  },
  {
   "cell_type": "code",
   "execution_count": 109,
   "metadata": {},
   "outputs": [
    {
     "data": {
      "text/plain": [
       "array([0.        , 0.00308642, 0.        , 0.00617284, 0.13327064,\n",
       "       0.21433738, 0.21125096, 0.43188175])"
      ]
     },
     "execution_count": 109,
     "metadata": {},
     "output_type": "execute_result"
    }
   ],
   "source": [
    "new_init_I = np.array([1,0,0,0,0,0,0,0])\n",
    "for i in range(10):\n",
    "    new_init_I = np.dot(new_adj_mat, new_init_I)\n",
    "    new_init_I /= np.linalg.norm(new_init_I,1)\n",
    "new_init_I"
   ]
  },
  {
   "cell_type": "code",
   "execution_count": 117,
   "metadata": {},
   "outputs": [
    {
     "data": {
      "text/plain": [
       "(8, array([[0.01875   , 0.01875   , 0.01875   , 0.01875   , 0.01875   ,\n",
       "         0.01875   , 0.01875   , 0.01875   ],\n",
       "        [0.44375   , 0.01875   , 0.44375   , 0.30208333, 0.01875   ,\n",
       "         0.01875   , 0.01875   , 0.01875   ],\n",
       "        [0.44375   , 0.01875   , 0.01875   , 0.01875   , 0.01875   ,\n",
       "         0.01875   , 0.01875   , 0.01875   ],\n",
       "        [0.01875   , 0.86875   , 0.01875   , 0.01875   , 0.01875   ,\n",
       "         0.01875   , 0.01875   , 0.01875   ],\n",
       "        [0.01875   , 0.01875   , 0.44375   , 0.30208333, 0.01875   ,\n",
       "         0.01875   , 0.44375   , 0.01875   ],\n",
       "        [0.01875   , 0.01875   , 0.01875   , 0.30208333, 0.30208333,\n",
       "         0.01875   , 0.01875   , 0.44375   ],\n",
       "        [0.01875   , 0.01875   , 0.01875   , 0.01875   , 0.30208333,\n",
       "         0.01875   , 0.01875   , 0.44375   ],\n",
       "        [0.01875   , 0.01875   , 0.01875   , 0.01875   , 0.30208333,\n",
       "         0.86875   , 0.44375   , 0.01875   ]]))"
      ]
     },
     "execution_count": 117,
     "metadata": {},
     "output_type": "execute_result"
    }
   ],
   "source": [
    "alpha = 0.85\n",
    "n = len(new_adj_mat)\n",
    "G = (alpha * new_adj_mat) + (((1 - alpha) * (1/n)) * np.ones(new_adj_mat.shape))\n",
    "n, G"
   ]
  },
  {
   "cell_type": "code",
   "execution_count": 118,
   "metadata": {},
   "outputs": [
    {
     "data": {
      "text/plain": [
       "array([0.01875   , 0.05715045, 0.02671875, 0.06732788, 0.12848733,\n",
       "       0.2056777 , 0.18660147, 0.30928641])"
      ]
     },
     "execution_count": 118,
     "metadata": {},
     "output_type": "execute_result"
    }
   ],
   "source": [
    "final_init_I = [1,0,0,0,0,0,0,0]\n",
    "for i in range(1000):\n",
    "    final_init_I = np.dot(G,final_init_I)\n",
    "    final_init_I /= np.linalg.norm(final_init_I,1)\n",
    "final_init_I"
   ]
  },
  {
   "cell_type": "code",
   "execution_count": null,
   "metadata": {},
   "outputs": [],
   "source": []
  }
 ],
 "metadata": {
  "kernelspec": {
   "display_name": "Python 3",
   "language": "python",
   "name": "python3"
  },
  "language_info": {
   "codemirror_mode": {
    "name": "ipython",
    "version": 3
   },
   "file_extension": ".py",
   "mimetype": "text/x-python",
   "name": "python",
   "nbconvert_exporter": "python",
   "pygments_lexer": "ipython3",
   "version": "3.7.3"
  }
 },
 "nbformat": 4,
 "nbformat_minor": 4
}
