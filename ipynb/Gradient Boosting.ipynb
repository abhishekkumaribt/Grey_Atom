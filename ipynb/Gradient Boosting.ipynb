{
 "cells": [
  {
   "cell_type": "code",
   "execution_count": 1,
   "metadata": {},
   "outputs": [],
   "source": [
    "import numpy as np\n",
    "import pandas as pd\n",
    "import matplotlib.pyplot as plt\n",
    "import seaborn as sns\n",
    "from sklearn.model_selection import train_test_split\n",
    "from sklearn.ensemble import gradient_boosting\n",
    "from sklearn.ensemble import AdaBoostClassifier\n",
    "from sklearn.ensemble import GradientBoostingClassifier\n",
    "from sklearn.ensemble import ExtraTreesClassifier\n",
    "from sklearn.tree import DecisionTreeClassifier\n",
    "import warnings\n",
    "warnings.filterwarnings('ignore')\n",
    "%matplotlib inline"
   ]
  },
  {
   "cell_type": "code",
   "execution_count": 2,
   "metadata": {},
   "outputs": [],
   "source": [
    "path = r\"Data\\bank_data.csv\""
   ]
  },
  {
   "cell_type": "code",
   "execution_count": 3,
   "metadata": {},
   "outputs": [],
   "source": [
    "data = pd.read_csv(path)"
   ]
  },
  {
   "cell_type": "code",
   "execution_count": 4,
   "metadata": {},
   "outputs": [],
   "source": [
    "X = data.drop(columns=\"deposit\")\n",
    "y = data.deposit\n",
    "X_train, X_test, y_train, y_test = train_test_split(X, y, test_size=0.3, random_state=0)"
   ]
  },
  {
   "cell_type": "code",
   "execution_count": 5,
   "metadata": {},
   "outputs": [
    {
     "name": "stdout",
     "output_type": "stream",
     "text": [
      "Decision Tree(weak classifier) score :  0.7094655120931621\n"
     ]
    }
   ],
   "source": [
    "dt_clf = DecisionTreeClassifier(max_depth=1, random_state=0)\n",
    "dt_clf.fit(X_train, y_train)\n",
    "dt_score = dt_clf.score(X_test, y_test)\n",
    "print(\"Decision Tree(weak classifier) score : \", dt_score)"
   ]
  },
  {
   "cell_type": "code",
   "execution_count": 6,
   "metadata": {},
   "outputs": [
    {
     "name": "stdout",
     "output_type": "stream",
     "text": [
      "AdaBoost score :  0.8244252015527023\n"
     ]
    }
   ],
   "source": [
    "ada_clf = AdaBoostClassifier(base_estimator=dt_clf, random_state=0)\n",
    "ada_clf.fit(X_train, y_train)\n",
    "ada_score = ada_clf.score(X_test, y_test)\n",
    "print(\"AdaBoost score : \", ada_score)"
   ]
  },
  {
   "cell_type": "code",
   "execution_count": 7,
   "metadata": {},
   "outputs": [
    {
     "name": "stdout",
     "output_type": "stream",
     "text": [
      "Gradient Boost score :  0.8462227530606151\n"
     ]
    }
   ],
   "source": [
    "gb_clf = GradientBoostingClassifier(random_state=0)\n",
    "gb_clf.fit(X_train, y_train)\n",
    "gb_score = gb_clf.score(X_test, y_test)\n",
    "print(\"Gradient Boost score : \", gb_score)"
   ]
  },
  {
   "cell_type": "code",
   "execution_count": 8,
   "metadata": {},
   "outputs": [],
   "source": [
    "from xgboost import XGBClassifier"
   ]
  },
  {
   "cell_type": "code",
   "execution_count": 9,
   "metadata": {},
   "outputs": [
    {
     "name": "stdout",
     "output_type": "stream",
     "text": [
      "XGBoost score :  0.8438339802926247\n"
     ]
    }
   ],
   "source": [
    "xgb_clf = XGBClassifier(base_estimator=dt_clf, random_state=0)\n",
    "xgb_clf.fit(X_train, y_train)\n",
    "xgb_score = xgb_clf.score(X_test, y_test)\n",
    "print(\"XGBoost score : \", xgb_score)"
   ]
  },
  {
   "cell_type": "markdown",
   "metadata": {},
   "source": [
    "# Assignment"
   ]
  },
  {
   "cell_type": "code",
   "execution_count": 63,
   "metadata": {},
   "outputs": [],
   "source": [
    "path = r\"Data\\telecom_churn.csv\""
   ]
  },
  {
   "cell_type": "code",
   "execution_count": 72,
   "metadata": {},
   "outputs": [],
   "source": [
    "df = pd.read_csv(path)"
   ]
  },
  {
   "cell_type": "code",
   "execution_count": 73,
   "metadata": {},
   "outputs": [],
   "source": [
    "X = df.drop(columns=[\"customerID\", \"Churn\"])\n",
    "y = df.Churn\n",
    "X_train, X_test, y_train, y_test = train_test_split(X, y, random_state=0, test_size=0.3)"
   ]
  },
  {
   "cell_type": "code",
   "execution_count": 66,
   "metadata": {},
   "outputs": [],
   "source": [
    "from sklearn.preprocessing import LabelEncoder"
   ]
  },
  {
   "cell_type": "code",
   "execution_count": 74,
   "metadata": {},
   "outputs": [],
   "source": [
    "X_train[\"TotalCharges\"] = X_train[\"TotalCharges\"].apply(lambda x: np.NaN if x==\" \" else x)\n",
    "X_test[\"TotalCharges\"] = X_test[\"TotalCharges\"].apply(lambda x: np.NaN if x==\" \" else x)"
   ]
  },
  {
   "cell_type": "code",
   "execution_count": 75,
   "metadata": {},
   "outputs": [],
   "source": [
    "X_train.TotalCharges = X_train.TotalCharges.astype('float')\n",
    "X_test.TotalCharges = X_test.TotalCharges.astype('float')"
   ]
  },
  {
   "cell_type": "code",
   "execution_count": 86,
   "metadata": {},
   "outputs": [],
   "source": [
    "X_train.TotalCharges = X_train[[\"TotalCharges\"]].fillna(value=X_train.mean())\n",
    "X_test.TotalCharges = X_test[[\"TotalCharges\"]].fillna(value=X_test.mean())"
   ]
  },
  {
   "cell_type": "code",
   "execution_count": 87,
   "metadata": {},
   "outputs": [],
   "source": [
    "dt_cat_cols = X_train.select_dtypes('object').columns\n",
    "for col in dt_cat_cols:\n",
    "    le = LabelEncoder()\n",
    "    le.fit(X_train[col])\n",
    "    X_train[col] = le.transform(X_train[col])\n",
    "    X_test[col] = le.transform(X_test[col])"
   ]
  },
  {
   "cell_type": "code",
   "execution_count": 88,
   "metadata": {},
   "outputs": [],
   "source": [
    "y_train = y_train.replace({\"Yes\":1, \"No\":0})\n",
    "y_test = y_test.replace({\"Yes\":1, \"No\":0})"
   ]
  },
  {
   "cell_type": "code",
   "execution_count": 90,
   "metadata": {},
   "outputs": [],
   "source": [
    "from sklearn.metrics import accuracy_score,classification_report,confusion_matrix"
   ]
  },
  {
   "cell_type": "code",
   "execution_count": 91,
   "metadata": {},
   "outputs": [
    {
     "name": "stdout",
     "output_type": "stream",
     "text": [
      "0.795551348793185 [[1371  189]\n",
      " [ 243  310]]               precision    recall  f1-score   support\n",
      "\n",
      "           0       0.85      0.88      0.86      1560\n",
      "           1       0.62      0.56      0.59       553\n",
      "\n",
      "    accuracy                           0.80      2113\n",
      "   macro avg       0.74      0.72      0.73      2113\n",
      "weighted avg       0.79      0.80      0.79      2113\n",
      "\n",
      "\n"
     ]
    }
   ],
   "source": [
    "ada_model = AdaBoostClassifier(random_state=0)\n",
    "ada_model.fit(X_train, y_train)\n",
    "y_pred = ada_model.predict(X_test)\n",
    "ada_score = accuracy_score(y_test, y_pred)\n",
    "ada_cm = confusion_matrix(y_test, y_pred)\n",
    "ada_cr = classification_report(y_test, y_pred)\n",
    "print(ada_score, ada_cm, ada_cr, end=\"\\n\\n\")"
   ]
  },
  {
   "cell_type": "code",
   "execution_count": 92,
   "metadata": {},
   "outputs": [],
   "source": [
    "from sklearn.model_selection import GridSearchCV"
   ]
  },
  {
   "cell_type": "code",
   "execution_count": 93,
   "metadata": {},
   "outputs": [
    {
     "name": "stdout",
     "output_type": "stream",
     "text": [
      "0.79649787032655 [[1388  172]\n",
      " [ 258  295]]               precision    recall  f1-score   support\n",
      "\n",
      "           0       0.84      0.89      0.87      1560\n",
      "           1       0.63      0.53      0.58       553\n",
      "\n",
      "    accuracy                           0.80      2113\n",
      "   macro avg       0.74      0.71      0.72      2113\n",
      "weighted avg       0.79      0.80      0.79      2113\n",
      "\n",
      "\n"
     ]
    }
   ],
   "source": [
    "xgb_model = XGBClassifier(random_state=0)\n",
    "xgb_model.fit(X_train, y_train)\n",
    "y_pred = xgb_model.predict(X_test)\n",
    "xgb_score = accuracy_score(y_test, y_pred)\n",
    "xgb_cm = confusion_matrix(y_test, y_pred)\n",
    "xgb_cr = classification_report(y_test, y_pred)\n",
    "print(xgb_score, xgb_cm, xgb_cr, end=\"\\n\\n\")"
   ]
  },
  {
   "cell_type": "code",
   "execution_count": 94,
   "metadata": {},
   "outputs": [],
   "source": [
    "parameters={'learning_rate':[0.1,0.15,0.2,0.25,0.3],\n",
    "            'max_depth':range(1,3)}"
   ]
  },
  {
   "cell_type": "code",
   "execution_count": 96,
   "metadata": {},
   "outputs": [
    {
     "name": "stdout",
     "output_type": "stream",
     "text": [
      "0.8017037387600567 [[1394  166]\n",
      " [ 253  300]]               precision    recall  f1-score   support\n",
      "\n",
      "           0       0.85      0.89      0.87      1560\n",
      "           1       0.64      0.54      0.59       553\n",
      "\n",
      "    accuracy                           0.80      2113\n",
      "   macro avg       0.75      0.72      0.73      2113\n",
      "weighted avg       0.79      0.80      0.80      2113\n",
      "\n",
      "\n",
      "0.79649787032655 0.8017037387600567\n"
     ]
    }
   ],
   "source": [
    "clf_model = GridSearchCV(estimator=xgb_model, param_grid=parameters)\n",
    "clf_model.fit(X_train, y_train)\n",
    "y_pred = clf_model.predict(X_test)\n",
    "clf_score = accuracy_score(y_test, y_pred)\n",
    "clf_cm = confusion_matrix(y_test, y_pred)\n",
    "clf_cr = classification_report(y_test, y_pred)\n",
    "print(clf_score, clf_cm, clf_cr, end=\"\\n\\n\")\n",
    "print(xgb_score, clf_score)"
   ]
  },
  {
   "cell_type": "code",
   "execution_count": null,
   "metadata": {},
   "outputs": [],
   "source": []
  }
 ],
 "metadata": {
  "kernelspec": {
   "display_name": "Python 3",
   "language": "python",
   "name": "python3"
  },
  "language_info": {
   "codemirror_mode": {
    "name": "ipython",
    "version": 3
   },
   "file_extension": ".py",
   "mimetype": "text/x-python",
   "name": "python",
   "nbconvert_exporter": "python",
   "pygments_lexer": "ipython3",
   "version": "3.7.3"
  }
 },
 "nbformat": 4,
 "nbformat_minor": 4
}
