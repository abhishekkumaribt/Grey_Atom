{
 "cells": [
  {
   "cell_type": "code",
   "execution_count": 69,
   "metadata": {},
   "outputs": [],
   "source": [
    "import pandas as pd\n",
    "import numpy as np"
   ]
  },
  {
   "cell_type": "code",
   "execution_count": 70,
   "metadata": {},
   "outputs": [],
   "source": [
    "path = r\"Data\\bank.csv\""
   ]
  },
  {
   "cell_type": "code",
   "execution_count": 71,
   "metadata": {},
   "outputs": [
    {
     "name": "stdout",
     "output_type": "stream",
     "text": [
      "   age          job  marital  education default  balance housing loan  \\\n",
      "0   30   unemployed  married    primary      no     1787      no   no   \n",
      "1   33     services  married  secondary      no     4789     yes  yes   \n",
      "2   35   management   single   tertiary      no     1350     yes   no   \n",
      "3   30   management  married   tertiary      no     1476     yes  yes   \n",
      "4   59  blue-collar  married  secondary      no        0     yes   no   \n",
      "\n",
      "    contact  day month  duration  campaign  pdays  previous poutcome   y  \n",
      "0  cellular   19   oct        79         1     -1         0  unknown  no  \n",
      "1  cellular   11   may       220         1    339         4  failure  no  \n",
      "2  cellular   16   apr       185         1    330         1  failure  no  \n",
      "3   unknown    3   jun       199         4     -1         0  unknown  no  \n",
      "4   unknown    5   may       226         1     -1         0  unknown  no  \n"
     ]
    }
   ],
   "source": [
    "data = pd.read_csv(path, delimiter=\";\")\n",
    "print(data.head())"
   ]
  },
  {
   "cell_type": "code",
   "execution_count": 72,
   "metadata": {},
   "outputs": [],
   "source": [
    "data = data.replace(\"unknown\", np.NaN)"
   ]
  },
  {
   "cell_type": "code",
   "execution_count": 73,
   "metadata": {},
   "outputs": [],
   "source": [
    "data.rename(columns={\"loan\" : \"previous_loan_status\", \"y\" : \"loan_status\"}, inplace=True)"
   ]
  },
  {
   "cell_type": "code",
   "execution_count": 74,
   "metadata": {},
   "outputs": [
    {
     "name": "stdout",
     "output_type": "stream",
     "text": [
      "management       969\n",
      "blue-collar      946\n",
      "technician       768\n",
      "admin.           478\n",
      "services         417\n",
      "retired          230\n",
      "self-employed    183\n",
      "entrepreneur     168\n",
      "unemployed       128\n",
      "housemaid        112\n",
      "student           84\n",
      "Name: job, dtype: int64\n",
      "count           4483\n",
      "unique            11\n",
      "top       management\n",
      "freq             969\n",
      "Name: job, dtype: object\n"
     ]
    }
   ],
   "source": [
    "print(data.job.value_counts())\n",
    "\n",
    "print(data.job.describe())"
   ]
  },
  {
   "cell_type": "code",
   "execution_count": 75,
   "metadata": {},
   "outputs": [
    {
     "name": "stdout",
     "output_type": "stream",
     "text": [
      "loan_status     no  yes   percent\n",
      "job                              \n",
      "admin.         420   58  0.121339\n",
      "blue-collar    877   69  0.072939\n",
      "entrepreneur   153   15  0.089286\n",
      "housemaid       98   14  0.125000\n",
      "management     838  131  0.135191\n",
      "no              31    7  0.184211\n",
      "retired        176   54  0.234783\n",
      "self-employed  163   20  0.109290\n",
      "services       379   38  0.091127\n",
      "student         65   19  0.226190\n",
      "technician     685   83  0.108073\n",
      "unemployed     115   13  0.101562\n"
     ]
    }
   ],
   "source": [
    "loan_approval = data.fillna(\"no\").groupby(by=[\"job\", \"loan_status\"]).count().iloc[:,0].unstack()\n",
    "loan_approval[\"percent\"] = loan_approval.yes/(loan_approval.yes+loan_approval.no)\n",
    "\n",
    "print(loan_approval)"
   ]
  },
  {
   "cell_type": "code",
   "execution_count": 76,
   "metadata": {},
   "outputs": [
    {
     "name": "stdout",
     "output_type": "stream",
     "text": [
      "loan_status    no  yes   percent\n",
      "education                       \n",
      "primary       614   64  0.094395\n",
      "secondary    2061  245  0.106245\n",
      "tertiary     1157  193  0.142963\n",
      "unknown       168   19  0.101604\n"
     ]
    }
   ],
   "source": [
    "loan_approval_edu = data.fillna(\"unknown\").groupby(by=[\"education\", \"loan_status\"]).count().iloc[:,0].unstack()\n",
    "loan_approval_edu[\"percent\"] = loan_approval_edu.yes/(loan_approval_edu.yes+loan_approval_edu.no)\n",
    "\n",
    "print(loan_approval_edu)"
   ]
  },
  {
   "cell_type": "code",
   "execution_count": 77,
   "metadata": {},
   "outputs": [
    {
     "name": "stdout",
     "output_type": "stream",
     "text": [
      "loan_status             no  yes   percent\n",
      "previous_loan_status                     \n",
      "no                    3352  478  0.124804\n",
      "yes                    648   43  0.062229\n"
     ]
    }
   ],
   "source": [
    "loan_approval_prev_loan = data.fillna(\"unknown\").groupby(by=[\"previous_loan_status\", \"loan_status\"]).count().iloc[:,0].unstack()\n",
    "loan_approval_prev_loan[\"percent\"] = loan_approval_prev_loan.yes/(loan_approval_prev_loan.yes+loan_approval_prev_loan.no)\n",
    "\n",
    "print(loan_approval_prev_loan)"
   ]
  },
  {
   "cell_type": "code",
   "execution_count": 78,
   "metadata": {},
   "outputs": [
    {
     "name": "stdout",
     "output_type": "stream",
     "text": [
      "loan_status\n",
      "no     43.172222\n",
      "yes    46.021661\n",
      "Name: married, dtype: float64\n"
     ]
    }
   ],
   "source": [
    "loan_st_mar = data.pivot_table(index=\"loan_status\", columns=\"marital\", values=\"age\")\n",
    "\n",
    "print(loan_st_mar[\"married\"])"
   ]
  },
  {
   "cell_type": "code",
   "execution_count": 79,
   "metadata": {},
   "outputs": [],
   "source": [
    "df_branch_1 = pd.DataFrame({'customer_id': [1, 2], 'first_name': [\"Abhishek\", \"Sikandar\"], 'last_name' : [\"kumar\", \"kumar\"]})\n",
    "\n",
    "df_branch_2 = pd.DataFrame({'customer_id': [3, 4], 'first_name': [\"Anurag\", \"Sushil\"], 'last_name' : [\"kumar\", \"kumar\"]})\n",
    "\n",
    "df_credit_score = pd.DataFrame({'customer_id': [1, 2], 'score': [\"10\", \"10\"]})"
   ]
  },
  {
   "cell_type": "code",
   "execution_count": 80,
   "metadata": {},
   "outputs": [
    {
     "name": "stdout",
     "output_type": "stream",
     "text": [
      "   customer_id first_name last_name\n",
      "0            1   Abhishek     kumar\n",
      "1            2   Sikandar     kumar\n",
      "0            3     Anurag     kumar\n",
      "1            4     Sushil     kumar\n",
      "   customer_id first_name last_name score\n",
      "0            1   Abhishek     kumar    10\n",
      "1            2   Sikandar     kumar    10\n"
     ]
    }
   ],
   "source": [
    "df_new = pd.concat([df_branch_1, df_branch_2])\n",
    "print(df_new)\n",
    "\n",
    "print(pd.merge(df_new, df_credit_score, on=\"customer_id\"))"
   ]
  },
  {
   "cell_type": "code",
   "execution_count": null,
   "metadata": {},
   "outputs": [],
   "source": []
  }
 ],
 "metadata": {
  "kernelspec": {
   "display_name": "Python 3",
   "language": "python",
   "name": "python3"
  },
  "language_info": {
   "codemirror_mode": {
    "name": "ipython",
    "version": 3
   },
   "file_extension": ".py",
   "mimetype": "text/x-python",
   "name": "python",
   "nbconvert_exporter": "python",
   "pygments_lexer": "ipython3",
   "version": "3.7.3"
  }
 },
 "nbformat": 4,
 "nbformat_minor": 4
}
