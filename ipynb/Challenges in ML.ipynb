{
 "cells": [
  {
   "cell_type": "markdown",
   "metadata": {},
   "source": [
    "## Importing"
   ]
  },
  {
   "cell_type": "code",
   "execution_count": 29,
   "metadata": {},
   "outputs": [],
   "source": [
    "import pandas as pd\n",
    "import matplotlib.pyplot as plt\n",
    "import seaborn as sns\n",
    "from sklearn.model_selection import train_test_split\n",
    "from sklearn.preprocessing import LabelEncoder\n",
    "from sklearn.linear_model import LogisticRegression\n",
    "from sklearn.metrics import f1_score, confusion_matrix\n",
    "from sklearn.metrics import precision_score, recall_score\n",
    "from sklearn.metrics import roc_auc_score\n",
    "import zipfile\n",
    "path = r\"Data\\creditcar.zip\"\n",
    "path = zipfile.ZipFile(path)\n",
    "path = path.open('creditcard_new.csv')"
   ]
  },
  {
   "cell_type": "code",
   "execution_count": 30,
   "metadata": {},
   "outputs": [
    {
     "data": {
      "text/html": [
       "<div>\n",
       "<style scoped>\n",
       "    .dataframe tbody tr th:only-of-type {\n",
       "        vertical-align: middle;\n",
       "    }\n",
       "\n",
       "    .dataframe tbody tr th {\n",
       "        vertical-align: top;\n",
       "    }\n",
       "\n",
       "    .dataframe thead th {\n",
       "        text-align: right;\n",
       "    }\n",
       "</style>\n",
       "<table border=\"1\" class=\"dataframe\">\n",
       "  <thead>\n",
       "    <tr style=\"text-align: right;\">\n",
       "      <th></th>\n",
       "      <th>Time</th>\n",
       "      <th>V1</th>\n",
       "      <th>V2</th>\n",
       "      <th>V3</th>\n",
       "      <th>V4</th>\n",
       "      <th>V5</th>\n",
       "      <th>V6</th>\n",
       "      <th>V7</th>\n",
       "      <th>V8</th>\n",
       "      <th>V9</th>\n",
       "      <th>...</th>\n",
       "      <th>V21</th>\n",
       "      <th>V22</th>\n",
       "      <th>V23</th>\n",
       "      <th>V24</th>\n",
       "      <th>V25</th>\n",
       "      <th>V26</th>\n",
       "      <th>V27</th>\n",
       "      <th>V28</th>\n",
       "      <th>Amount</th>\n",
       "      <th>Class</th>\n",
       "    </tr>\n",
       "  </thead>\n",
       "  <tbody>\n",
       "    <tr>\n",
       "      <th>0</th>\n",
       "      <td>39885.0</td>\n",
       "      <td>1.385745</td>\n",
       "      <td>-0.776183</td>\n",
       "      <td>-1.276504</td>\n",
       "      <td>-1.732802</td>\n",
       "      <td>1.456010</td>\n",
       "      <td>3.169421</td>\n",
       "      <td>-0.884741</td>\n",
       "      <td>0.730740</td>\n",
       "      <td>-1.056017</td>\n",
       "      <td>...</td>\n",
       "      <td>-0.621874</td>\n",
       "      <td>-1.564708</td>\n",
       "      <td>0.123824</td>\n",
       "      <td>1.000517</td>\n",
       "      <td>0.209903</td>\n",
       "      <td>0.827916</td>\n",
       "      <td>-0.064076</td>\n",
       "      <td>0.009821</td>\n",
       "      <td>41.94</td>\n",
       "      <td>0</td>\n",
       "    </tr>\n",
       "    <tr>\n",
       "      <th>1</th>\n",
       "      <td>160679.0</td>\n",
       "      <td>-1.509015</td>\n",
       "      <td>1.445546</td>\n",
       "      <td>-0.288465</td>\n",
       "      <td>-2.599796</td>\n",
       "      <td>0.031683</td>\n",
       "      <td>-1.161685</td>\n",
       "      <td>0.473007</td>\n",
       "      <td>0.802321</td>\n",
       "      <td>-0.222380</td>\n",
       "      <td>...</td>\n",
       "      <td>-0.202615</td>\n",
       "      <td>-0.777421</td>\n",
       "      <td>-0.045253</td>\n",
       "      <td>-0.348450</td>\n",
       "      <td>0.002970</td>\n",
       "      <td>0.383022</td>\n",
       "      <td>0.076898</td>\n",
       "      <td>0.082978</td>\n",
       "      <td>4.00</td>\n",
       "      <td>0</td>\n",
       "    </tr>\n",
       "    <tr>\n",
       "      <th>2</th>\n",
       "      <td>170043.0</td>\n",
       "      <td>-1.329675</td>\n",
       "      <td>1.671851</td>\n",
       "      <td>-0.668253</td>\n",
       "      <td>-1.316477</td>\n",
       "      <td>0.888102</td>\n",
       "      <td>-0.419414</td>\n",
       "      <td>-0.257771</td>\n",
       "      <td>-2.296987</td>\n",
       "      <td>-0.658676</td>\n",
       "      <td>...</td>\n",
       "      <td>-1.505724</td>\n",
       "      <td>-0.501284</td>\n",
       "      <td>0.140584</td>\n",
       "      <td>0.347481</td>\n",
       "      <td>-0.345795</td>\n",
       "      <td>-0.072878</td>\n",
       "      <td>-0.079008</td>\n",
       "      <td>0.114091</td>\n",
       "      <td>1.29</td>\n",
       "      <td>0</td>\n",
       "    </tr>\n",
       "    <tr>\n",
       "      <th>3</th>\n",
       "      <td>29820.0</td>\n",
       "      <td>-1.300095</td>\n",
       "      <td>1.004770</td>\n",
       "      <td>1.226453</td>\n",
       "      <td>0.143031</td>\n",
       "      <td>0.302872</td>\n",
       "      <td>-0.473174</td>\n",
       "      <td>1.110003</td>\n",
       "      <td>0.105973</td>\n",
       "      <td>-0.758082</td>\n",
       "      <td>...</td>\n",
       "      <td>-0.357558</td>\n",
       "      <td>-1.149148</td>\n",
       "      <td>0.012885</td>\n",
       "      <td>0.003805</td>\n",
       "      <td>-0.212856</td>\n",
       "      <td>-1.001165</td>\n",
       "      <td>-0.249979</td>\n",
       "      <td>-0.272285</td>\n",
       "      <td>83.00</td>\n",
       "      <td>0</td>\n",
       "    </tr>\n",
       "    <tr>\n",
       "      <th>4</th>\n",
       "      <td>84933.0</td>\n",
       "      <td>-1.209733</td>\n",
       "      <td>1.249704</td>\n",
       "      <td>1.185233</td>\n",
       "      <td>-0.112195</td>\n",
       "      <td>0.388526</td>\n",
       "      <td>-0.921451</td>\n",
       "      <td>1.410460</td>\n",
       "      <td>-0.761339</td>\n",
       "      <td>0.480302</td>\n",
       "      <td>...</td>\n",
       "      <td>-0.018978</td>\n",
       "      <td>0.304157</td>\n",
       "      <td>-0.212971</td>\n",
       "      <td>0.377686</td>\n",
       "      <td>0.254317</td>\n",
       "      <td>-0.606180</td>\n",
       "      <td>-0.663626</td>\n",
       "      <td>-0.142206</td>\n",
       "      <td>28.00</td>\n",
       "      <td>0</td>\n",
       "    </tr>\n",
       "  </tbody>\n",
       "</table>\n",
       "<p>5 rows × 31 columns</p>\n",
       "</div>"
      ],
      "text/plain": [
       "       Time        V1        V2        V3        V4        V5        V6  \\\n",
       "0   39885.0  1.385745 -0.776183 -1.276504 -1.732802  1.456010  3.169421   \n",
       "1  160679.0 -1.509015  1.445546 -0.288465 -2.599796  0.031683 -1.161685   \n",
       "2  170043.0 -1.329675  1.671851 -0.668253 -1.316477  0.888102 -0.419414   \n",
       "3   29820.0 -1.300095  1.004770  1.226453  0.143031  0.302872 -0.473174   \n",
       "4   84933.0 -1.209733  1.249704  1.185233 -0.112195  0.388526 -0.921451   \n",
       "\n",
       "         V7        V8        V9  ...       V21       V22       V23       V24  \\\n",
       "0 -0.884741  0.730740 -1.056017  ... -0.621874 -1.564708  0.123824  1.000517   \n",
       "1  0.473007  0.802321 -0.222380  ... -0.202615 -0.777421 -0.045253 -0.348450   \n",
       "2 -0.257771 -2.296987 -0.658676  ... -1.505724 -0.501284  0.140584  0.347481   \n",
       "3  1.110003  0.105973 -0.758082  ... -0.357558 -1.149148  0.012885  0.003805   \n",
       "4  1.410460 -0.761339  0.480302  ... -0.018978  0.304157 -0.212971  0.377686   \n",
       "\n",
       "        V25       V26       V27       V28  Amount  Class  \n",
       "0  0.209903  0.827916 -0.064076  0.009821   41.94      0  \n",
       "1  0.002970  0.383022  0.076898  0.082978    4.00      0  \n",
       "2 -0.345795 -0.072878 -0.079008  0.114091    1.29      0  \n",
       "3 -0.212856 -1.001165 -0.249979 -0.272285   83.00      0  \n",
       "4  0.254317 -0.606180 -0.663626 -0.142206   28.00      0  \n",
       "\n",
       "[5 rows x 31 columns]"
      ]
     },
     "execution_count": 30,
     "metadata": {},
     "output_type": "execute_result"
    }
   ],
   "source": [
    "data = pd.read_csv(path)\n",
    "data.head()"
   ]
  },
  {
   "cell_type": "code",
   "execution_count": 3,
   "metadata": {},
   "outputs": [],
   "source": [
    "X = data.drop(columns=\"Class\")\n",
    "y = data[\"Class\"]"
   ]
  },
  {
   "cell_type": "code",
   "execution_count": 4,
   "metadata": {},
   "outputs": [],
   "source": [
    "X_train, X_test, y_train, y_test = train_test_split(X, y, test_size=0.3, random_state=0, stratify=y)"
   ]
  },
  {
   "cell_type": "code",
   "execution_count": 5,
   "metadata": {},
   "outputs": [
    {
     "name": "stderr",
     "output_type": "stream",
     "text": [
      "C:\\Users\\eakhumb\\AppData\\Local\\Continuum\\anaconda3\\lib\\site-packages\\sklearn\\linear_model\\logistic.py:432: FutureWarning: Default solver will be changed to 'lbfgs' in 0.22. Specify a solver to silence this warning.\n",
      "  FutureWarning)\n"
     ]
    }
   ],
   "source": [
    "model = LogisticRegression()\n",
    "model.fit(X_train, y_train)\n",
    "y_pred = model.predict(X_test)"
   ]
  },
  {
   "cell_type": "code",
   "execution_count": 6,
   "metadata": {},
   "outputs": [
    {
     "data": {
      "text/plain": [
       "(0.9993270327998361,\n",
       " 0.6949152542372882,\n",
       " 0.8913043478260869,\n",
       " 0.780952380952381,\n",
       " array([[34113,     5],\n",
       "        [   18,    41]], dtype=int64))"
      ]
     },
     "execution_count": 6,
     "metadata": {},
     "output_type": "execute_result"
    }
   ],
   "source": [
    "accuracy = model.score(X_test, y_test)\n",
    "recall = recall_score(y_test, y_pred)\n",
    "precision = precision_score(y_test, y_pred)\n",
    "f1 = f1_score(y_test, y_pred)\n",
    "confusion_mat = confusion_matrix(y_test, y_pred)\n",
    "accuracy, recall, precision, f1, confusion_mat"
   ]
  },
  {
   "cell_type": "code",
   "execution_count": 7,
   "metadata": {},
   "outputs": [],
   "source": [
    "from imblearn.under_sampling import RandomUnderSampler"
   ]
  },
  {
   "cell_type": "code",
   "execution_count": 8,
   "metadata": {},
   "outputs": [],
   "source": [
    "rus = RandomUnderSampler(random_state=0)\n",
    "X_sample2, y_sample2 = rus.fit_sample(X_train, y_train)\n",
    "model_rus = LogisticRegression()"
   ]
  },
  {
   "cell_type": "code",
   "execution_count": 9,
   "metadata": {},
   "outputs": [
    {
     "name": "stderr",
     "output_type": "stream",
     "text": [
      "C:\\Users\\eakhumb\\AppData\\Local\\Continuum\\anaconda3\\lib\\site-packages\\sklearn\\linear_model\\logistic.py:432: FutureWarning: Default solver will be changed to 'lbfgs' in 0.22. Specify a solver to silence this warning.\n",
      "  FutureWarning)\n"
     ]
    }
   ],
   "source": [
    "model_rus.fit(X_sample2, y_sample2)\n",
    "y_pred = model_rus.predict(X_test)"
   ]
  },
  {
   "cell_type": "code",
   "execution_count": 10,
   "metadata": {},
   "outputs": [
    {
     "data": {
      "text/plain": [
       "(0.9639816250694911,\n",
       " 0.9152542372881356,\n",
       " 0.0421875,\n",
       " 0.08065720687079911,\n",
       " array([[32892,  1226],\n",
       "        [    5,    54]], dtype=int64))"
      ]
     },
     "execution_count": 10,
     "metadata": {},
     "output_type": "execute_result"
    }
   ],
   "source": [
    "accuracy_rus = model_rus.score(X_test, y_test)\n",
    "recall_rus = recall_score(y_test, y_pred)\n",
    "precision_rus = precision_score(y_test, y_pred)\n",
    "f1_rus = f1_score(y_test, y_pred)\n",
    "confusion_mat_rus = confusion_matrix(y_test, y_pred)\n",
    "accuracy_rus, recall_rus, precision_rus, f1_rus, confusion_mat_rus"
   ]
  },
  {
   "cell_type": "code",
   "execution_count": 11,
   "metadata": {},
   "outputs": [],
   "source": [
    "from imblearn.under_sampling import ClusterCentroids"
   ]
  },
  {
   "cell_type": "code",
   "execution_count": 12,
   "metadata": {},
   "outputs": [
    {
     "name": "stderr",
     "output_type": "stream",
     "text": [
      "C:\\Users\\eakhumb\\AppData\\Local\\Continuum\\anaconda3\\lib\\site-packages\\sklearn\\linear_model\\logistic.py:432: FutureWarning: Default solver will be changed to 'lbfgs' in 0.22. Specify a solver to silence this warning.\n",
      "  FutureWarning)\n"
     ]
    }
   ],
   "source": [
    "cc = ClusterCentroids(random_state=0)\n",
    "X_sample3, y_sample3 = cc.fit_sample(X_train, y_train)\n",
    "model_cc = LogisticRegression()\n",
    "model_cc.fit(X_sample3, y_sample3)\n",
    "y_pred = model_cc.predict(X_test)"
   ]
  },
  {
   "cell_type": "code",
   "execution_count": 13,
   "metadata": {},
   "outputs": [
    {
     "data": {
      "text/plain": [
       "(0.894870819557012,\n",
       " 0.9661016949152542,\n",
       " 0.015625,\n",
       " 0.03075263015915835,\n",
       " array([[30527,  3591],\n",
       "        [    2,    57]], dtype=int64))"
      ]
     },
     "execution_count": 13,
     "metadata": {},
     "output_type": "execute_result"
    }
   ],
   "source": [
    "accuracy_cc = model_cc.score(X_test, y_test)\n",
    "recall_cc = recall_score(y_test, y_pred)\n",
    "precision_cc = precision_score(y_test, y_pred)\n",
    "f1_cc = f1_score(y_test, y_pred)\n",
    "confusion_mat_cc = confusion_matrix(y_test, y_pred)\n",
    "accuracy_cc, recall_cc, precision_cc, f1_cc, confusion_mat_cc"
   ]
  },
  {
   "cell_type": "code",
   "execution_count": 14,
   "metadata": {},
   "outputs": [],
   "source": [
    "from imblearn.under_sampling import TomekLinks"
   ]
  },
  {
   "cell_type": "code",
   "execution_count": 16,
   "metadata": {},
   "outputs": [
    {
     "name": "stderr",
     "output_type": "stream",
     "text": [
      "C:\\Users\\eakhumb\\AppData\\Local\\Continuum\\anaconda3\\lib\\site-packages\\sklearn\\linear_model\\logistic.py:432: FutureWarning: Default solver will be changed to 'lbfgs' in 0.22. Specify a solver to silence this warning.\n",
      "  FutureWarning)\n"
     ]
    }
   ],
   "source": [
    "tl = TomekLinks(random_state=0)\n",
    "X_sample4, y_sample4 = tl.fit_sample(X_train, y_train)\n",
    "model_tl = LogisticRegression(random_state=0)\n",
    "model_tl.fit(X_sample4, y_sample4)\n",
    "y_pred = model_tl.predict(X_test)"
   ]
  },
  {
   "cell_type": "code",
   "execution_count": 17,
   "metadata": {},
   "outputs": [
    {
     "data": {
      "text/plain": [
       "(0.999473330017263,\n",
       " 0.7796610169491526,\n",
       " 0.9019607843137255,\n",
       " 0.8363636363636364,\n",
       " array([[34113,     5],\n",
       "        [   13,    46]], dtype=int64))"
      ]
     },
     "execution_count": 17,
     "metadata": {},
     "output_type": "execute_result"
    }
   ],
   "source": [
    "accuracy_tl = model_tl.score(X_test, y_test)\n",
    "recall_tl = recall_score(y_test, y_pred)\n",
    "precision_tl = precision_score(y_test, y_pred)\n",
    "f1_tl = f1_score(y_test, y_pred)\n",
    "confusion_mat_tl = confusion_matrix(y_test, y_pred)\n",
    "accuracy_tl, recall_tl, precision_tl, f1_tl, confusion_mat_tl"
   ]
  },
  {
   "cell_type": "code",
   "execution_count": 18,
   "metadata": {},
   "outputs": [],
   "source": [
    "from imblearn.over_sampling import RandomOverSampler"
   ]
  },
  {
   "cell_type": "code",
   "execution_count": 19,
   "metadata": {},
   "outputs": [
    {
     "name": "stderr",
     "output_type": "stream",
     "text": [
      "C:\\Users\\eakhumb\\AppData\\Local\\Continuum\\anaconda3\\lib\\site-packages\\sklearn\\linear_model\\logistic.py:432: FutureWarning: Default solver will be changed to 'lbfgs' in 0.22. Specify a solver to silence this warning.\n",
      "  FutureWarning)\n"
     ]
    }
   ],
   "source": [
    "ros = RandomOverSampler(random_state=0)\n",
    "X_sample5, y_sample5 = ros.fit_sample(X_train, y_train)\n",
    "model_ros = LogisticRegression(random_state=0)\n",
    "model_ros.fit(X_sample5, y_sample5)\n",
    "y_pred = model_ros.predict(X_test)"
   ]
  },
  {
   "cell_type": "code",
   "execution_count": 20,
   "metadata": {},
   "outputs": [
    {
     "data": {
      "text/plain": [
       "(0.9688094332445797,\n",
       " 0.9152542372881356,\n",
       " 0.0484304932735426,\n",
       " 0.0919931856899489,\n",
       " array([[33057,  1061],\n",
       "        [    5,    54]], dtype=int64))"
      ]
     },
     "execution_count": 20,
     "metadata": {},
     "output_type": "execute_result"
    }
   ],
   "source": [
    "accuracy_ros = model_ros.score(X_test, y_test)\n",
    "recall_ros = recall_score(y_test, y_pred)\n",
    "precision_ros = precision_score(y_test, y_pred)\n",
    "f1_ros = f1_score(y_test, y_pred)\n",
    "confusion_mat_ros = confusion_matrix(y_test, y_pred)\n",
    "accuracy_ros, recall_ros, precision_ros, f1_ros, confusion_mat_ros"
   ]
  },
  {
   "cell_type": "code",
   "execution_count": 21,
   "metadata": {},
   "outputs": [],
   "source": [
    "from imblearn.over_sampling import SMOTE"
   ]
  },
  {
   "cell_type": "code",
   "execution_count": 22,
   "metadata": {},
   "outputs": [
    {
     "name": "stderr",
     "output_type": "stream",
     "text": [
      "C:\\Users\\eakhumb\\AppData\\Local\\Continuum\\anaconda3\\lib\\site-packages\\sklearn\\linear_model\\logistic.py:432: FutureWarning: Default solver will be changed to 'lbfgs' in 0.22. Specify a solver to silence this warning.\n",
      "  FutureWarning)\n"
     ]
    }
   ],
   "source": [
    "smote = SMOTE(random_state=0)\n",
    "X_sample6, y_sample6 = smote.fit_sample(X_train, y_train)\n",
    "model_smote = LogisticRegression(random_state=0)\n",
    "model_smote.fit(X_sample6, y_sample6)\n",
    "y_pred = model_smote.predict(X_test)"
   ]
  },
  {
   "cell_type": "code",
   "execution_count": 23,
   "metadata": {},
   "outputs": [
    {
     "data": {
      "text/plain": [
       "(0.9888814114755538,\n",
       " 0.8983050847457628,\n",
       " 0.12412177985948478,\n",
       " 0.21810699588477367,\n",
       " array([[33744,   374],\n",
       "        [    6,    53]], dtype=int64))"
      ]
     },
     "execution_count": 23,
     "metadata": {},
     "output_type": "execute_result"
    }
   ],
   "source": [
    "accuracy_smote = model_smote.score(X_test, y_test)\n",
    "recall_smote = recall_score(y_test, y_pred)\n",
    "precision_smote = precision_score(y_test, y_pred)\n",
    "f1_smote = f1_score(y_test, y_pred)\n",
    "confusion_mat_smote = confusion_matrix(y_test, y_pred)\n",
    "accuracy_smote, recall_smote, precision_smote, f1_smote, confusion_mat_smote"
   ]
  },
  {
   "cell_type": "markdown",
   "metadata": {},
   "source": [
    "## Car insurance claim"
   ]
  },
  {
   "cell_type": "code",
   "execution_count": 24,
   "metadata": {},
   "outputs": [],
   "source": [
    "import numpy as np\n",
    "import pandas as pd\n",
    "import seaborn as sns\n",
    "import matplotlib.pyplot as plt\n",
    "from sklearn.model_selection import train_test_split"
   ]
  },
  {
   "cell_type": "code",
   "execution_count": 31,
   "metadata": {},
   "outputs": [],
   "source": [
    "path = r\"Data\\car_insurance_claim.csv\""
   ]
  },
  {
   "cell_type": "code",
   "execution_count": 95,
   "metadata": {},
   "outputs": [
    {
     "data": {
      "text/html": [
       "<div>\n",
       "<style scoped>\n",
       "    .dataframe tbody tr th:only-of-type {\n",
       "        vertical-align: middle;\n",
       "    }\n",
       "\n",
       "    .dataframe tbody tr th {\n",
       "        vertical-align: top;\n",
       "    }\n",
       "\n",
       "    .dataframe thead th {\n",
       "        text-align: right;\n",
       "    }\n",
       "</style>\n",
       "<table border=\"1\" class=\"dataframe\">\n",
       "  <thead>\n",
       "    <tr style=\"text-align: right;\">\n",
       "      <th></th>\n",
       "      <th>ID</th>\n",
       "      <th>KIDSDRIV</th>\n",
       "      <th>AGE</th>\n",
       "      <th>HOMEKIDS</th>\n",
       "      <th>YOJ</th>\n",
       "      <th>INCOME</th>\n",
       "      <th>PARENT1</th>\n",
       "      <th>HOME_VAL</th>\n",
       "      <th>MSTATUS</th>\n",
       "      <th>GENDER</th>\n",
       "      <th>...</th>\n",
       "      <th>TIF</th>\n",
       "      <th>CAR_TYPE</th>\n",
       "      <th>RED_CAR</th>\n",
       "      <th>OLDCLAIM</th>\n",
       "      <th>CLM_FREQ</th>\n",
       "      <th>REVOKED</th>\n",
       "      <th>MVR_PTS</th>\n",
       "      <th>CLM_AMT</th>\n",
       "      <th>CAR_AGE</th>\n",
       "      <th>CLAIM_FLAG</th>\n",
       "    </tr>\n",
       "  </thead>\n",
       "  <tbody>\n",
       "    <tr>\n",
       "      <th>0</th>\n",
       "      <td>63581743</td>\n",
       "      <td>0</td>\n",
       "      <td>60.0</td>\n",
       "      <td>0</td>\n",
       "      <td>11.0</td>\n",
       "      <td>$67,349</td>\n",
       "      <td>No</td>\n",
       "      <td>$0</td>\n",
       "      <td>z_No</td>\n",
       "      <td>M</td>\n",
       "      <td>...</td>\n",
       "      <td>11</td>\n",
       "      <td>Minivan</td>\n",
       "      <td>yes</td>\n",
       "      <td>$4,461</td>\n",
       "      <td>2</td>\n",
       "      <td>No</td>\n",
       "      <td>3</td>\n",
       "      <td>$0</td>\n",
       "      <td>18.0</td>\n",
       "      <td>0</td>\n",
       "    </tr>\n",
       "    <tr>\n",
       "      <th>1</th>\n",
       "      <td>132761049</td>\n",
       "      <td>0</td>\n",
       "      <td>43.0</td>\n",
       "      <td>0</td>\n",
       "      <td>11.0</td>\n",
       "      <td>$91,449</td>\n",
       "      <td>No</td>\n",
       "      <td>$257,252</td>\n",
       "      <td>z_No</td>\n",
       "      <td>M</td>\n",
       "      <td>...</td>\n",
       "      <td>1</td>\n",
       "      <td>Minivan</td>\n",
       "      <td>yes</td>\n",
       "      <td>$0</td>\n",
       "      <td>0</td>\n",
       "      <td>No</td>\n",
       "      <td>0</td>\n",
       "      <td>$0</td>\n",
       "      <td>1.0</td>\n",
       "      <td>0</td>\n",
       "    </tr>\n",
       "    <tr>\n",
       "      <th>2</th>\n",
       "      <td>921317019</td>\n",
       "      <td>0</td>\n",
       "      <td>48.0</td>\n",
       "      <td>0</td>\n",
       "      <td>11.0</td>\n",
       "      <td>$52,881</td>\n",
       "      <td>No</td>\n",
       "      <td>$0</td>\n",
       "      <td>z_No</td>\n",
       "      <td>M</td>\n",
       "      <td>...</td>\n",
       "      <td>1</td>\n",
       "      <td>Van</td>\n",
       "      <td>yes</td>\n",
       "      <td>$0</td>\n",
       "      <td>0</td>\n",
       "      <td>No</td>\n",
       "      <td>2</td>\n",
       "      <td>$0</td>\n",
       "      <td>10.0</td>\n",
       "      <td>0</td>\n",
       "    </tr>\n",
       "    <tr>\n",
       "      <th>3</th>\n",
       "      <td>727598473</td>\n",
       "      <td>0</td>\n",
       "      <td>35.0</td>\n",
       "      <td>1</td>\n",
       "      <td>10.0</td>\n",
       "      <td>$16,039</td>\n",
       "      <td>No</td>\n",
       "      <td>$124,191</td>\n",
       "      <td>Yes</td>\n",
       "      <td>z_F</td>\n",
       "      <td>...</td>\n",
       "      <td>4</td>\n",
       "      <td>z_SUV</td>\n",
       "      <td>no</td>\n",
       "      <td>$38,690</td>\n",
       "      <td>2</td>\n",
       "      <td>No</td>\n",
       "      <td>3</td>\n",
       "      <td>$0</td>\n",
       "      <td>10.0</td>\n",
       "      <td>0</td>\n",
       "    </tr>\n",
       "    <tr>\n",
       "      <th>4</th>\n",
       "      <td>450221861</td>\n",
       "      <td>0</td>\n",
       "      <td>51.0</td>\n",
       "      <td>0</td>\n",
       "      <td>14.0</td>\n",
       "      <td>NaN</td>\n",
       "      <td>No</td>\n",
       "      <td>$306,251</td>\n",
       "      <td>Yes</td>\n",
       "      <td>M</td>\n",
       "      <td>...</td>\n",
       "      <td>7</td>\n",
       "      <td>Minivan</td>\n",
       "      <td>yes</td>\n",
       "      <td>$0</td>\n",
       "      <td>0</td>\n",
       "      <td>No</td>\n",
       "      <td>0</td>\n",
       "      <td>$0</td>\n",
       "      <td>6.0</td>\n",
       "      <td>0</td>\n",
       "    </tr>\n",
       "  </tbody>\n",
       "</table>\n",
       "<p>5 rows × 25 columns</p>\n",
       "</div>"
      ],
      "text/plain": [
       "          ID  KIDSDRIV   AGE  HOMEKIDS   YOJ   INCOME PARENT1  HOME_VAL  \\\n",
       "0   63581743         0  60.0         0  11.0  $67,349      No        $0   \n",
       "1  132761049         0  43.0         0  11.0  $91,449      No  $257,252   \n",
       "2  921317019         0  48.0         0  11.0  $52,881      No        $0   \n",
       "3  727598473         0  35.0         1  10.0  $16,039      No  $124,191   \n",
       "4  450221861         0  51.0         0  14.0      NaN      No  $306,251   \n",
       "\n",
       "  MSTATUS GENDER  ... TIF CAR_TYPE  RED_CAR OLDCLAIM CLM_FREQ  REVOKED  \\\n",
       "0    z_No      M  ...  11  Minivan      yes   $4,461        2       No   \n",
       "1    z_No      M  ...   1  Minivan      yes       $0        0       No   \n",
       "2    z_No      M  ...   1      Van      yes       $0        0       No   \n",
       "3     Yes    z_F  ...   4    z_SUV       no  $38,690        2       No   \n",
       "4     Yes      M  ...   7  Minivan      yes       $0        0       No   \n",
       "\n",
       "  MVR_PTS CLM_AMT CAR_AGE  CLAIM_FLAG  \n",
       "0       3      $0    18.0           0  \n",
       "1       0      $0     1.0           0  \n",
       "2       2      $0    10.0           0  \n",
       "3       3      $0    10.0           0  \n",
       "4       0      $0     6.0           0  \n",
       "\n",
       "[5 rows x 25 columns]"
      ]
     },
     "execution_count": 95,
     "metadata": {},
     "output_type": "execute_result"
    }
   ],
   "source": [
    "df = pd.read_csv(path)\n",
    "df.head()"
   ]
  },
  {
   "cell_type": "code",
   "execution_count": 105,
   "metadata": {},
   "outputs": [],
   "source": [
    "df[['INCOME','HOME_VAL','BLUEBOOK','OLDCLAIM','CLM_AMT']] = df[['INCOME','HOME_VAL','BLUEBOOK','OLDCLAIM','CLM_AMT']].replace({'\\$': '', ',': ''}, regex=True)"
   ]
  },
  {
   "cell_type": "code",
   "execution_count": 107,
   "metadata": {},
   "outputs": [],
   "source": [
    "X = df.drop(columns=\"CLAIM_FLAG\")\n",
    "y = df[\"CLAIM_FLAG\"]"
   ]
  },
  {
   "cell_type": "code",
   "execution_count": 108,
   "metadata": {},
   "outputs": [],
   "source": [
    "count = y.value_counts()"
   ]
  },
  {
   "cell_type": "code",
   "execution_count": 145,
   "metadata": {},
   "outputs": [],
   "source": [
    "X_train,X_test,y_train,y_test = train_test_split(X, y, random_state=6, test_size=0.3)"
   ]
  },
  {
   "cell_type": "code",
   "execution_count": 146,
   "metadata": {},
   "outputs": [],
   "source": [
    "X_train = X_train.astype({\"INCOME\" : float, \"HOME_VAL\" : float, \"BLUEBOOK\" : float, \"OLDCLAIM\" : float, \"CLM_AMT\" : float})\n",
    "X_test = X_test.astype({\"INCOME\" : float, \"HOME_VAL\" : float, \"BLUEBOOK\" : float, \"OLDCLAIM\" : float, \"CLM_AMT\" : float})"
   ]
  },
  {
   "cell_type": "code",
   "execution_count": 147,
   "metadata": {},
   "outputs": [],
   "source": [
    "X_train = X_train.dropna(subset=['YOJ','OCCUPATION'])\n",
    "X_test = X_test.dropna(subset=['YOJ','OCCUPATION'])\n",
    "y_train = y_train[X_train.index]\n",
    "y_test = y_test[X_test.index]"
   ]
  },
  {
   "cell_type": "code",
   "execution_count": 149,
   "metadata": {},
   "outputs": [],
   "source": [
    "X_train[[\"AGE\",\"CAR_AGE\",\"INCOME\", \"HOME_VAL\"]] = X_train[[\"AGE\",\"CAR_AGE\",\"INCOME\", \"HOME_VAL\"]].fillna(X_train[[\"AGE\",\"CAR_AGE\",\"INCOME\", \"HOME_VAL\"]].mean())\n",
    "X_test[[\"AGE\",\"CAR_AGE\",\"INCOME\", \"HOME_VAL\"]] = X_test[[\"AGE\",\"CAR_AGE\",\"INCOME\", \"HOME_VAL\"]].fillna(X_test[[\"AGE\",\"CAR_AGE\",\"INCOME\", \"HOME_VAL\"]].mean())"
   ]
  },
  {
   "cell_type": "code",
   "execution_count": 151,
   "metadata": {},
   "outputs": [],
   "source": [
    "from sklearn.preprocessing import LabelEncoder\n",
    "columns = [\"PARENT1\",\"MSTATUS\",\"GENDER\",\"EDUCATION\",\"OCCUPATION\",\"CAR_USE\",\"CAR_TYPE\",\"RED_CAR\",\"REVOKED\"]"
   ]
  },
  {
   "cell_type": "code",
   "execution_count": 152,
   "metadata": {},
   "outputs": [],
   "source": [
    "for col in columns:\n",
    "    le = LabelEncoder()\n",
    "    X_train[col] = le.fit_transform(X_train[col])\n",
    "    X_test[col] = le.transform(X_test[col])"
   ]
  },
  {
   "cell_type": "code",
   "execution_count": 154,
   "metadata": {},
   "outputs": [
    {
     "name": "stderr",
     "output_type": "stream",
     "text": [
      "C:\\Users\\eakhumb\\AppData\\Local\\Continuum\\anaconda3\\lib\\site-packages\\sklearn\\linear_model\\logistic.py:432: FutureWarning: Default solver will be changed to 'lbfgs' in 0.22. Specify a solver to silence this warning.\n",
      "  FutureWarning)\n"
     ]
    },
    {
     "data": {
      "text/plain": [
       "0.7427113702623906"
      ]
     },
     "execution_count": 154,
     "metadata": {},
     "output_type": "execute_result"
    }
   ],
   "source": [
    "model = LogisticRegression(random_state=6)\n",
    "model.fit(X_train, y_train)\n",
    "y_pred = model.predict(X_test)\n",
    "score = model.score(X_test, y_test)\n",
    "score"
   ]
  },
  {
   "cell_type": "code",
   "execution_count": 155,
   "metadata": {},
   "outputs": [],
   "source": [
    "from sklearn.preprocessing import StandardScaler\n",
    "from imblearn.over_sampling import SMOTE"
   ]
  },
  {
   "cell_type": "code",
   "execution_count": 156,
   "metadata": {},
   "outputs": [],
   "source": [
    "smote = SMOTE(random_state=9)\n",
    "X_train, y_train = smote.fit_sample(X_train, y_train)\n",
    "scaler = StandardScaler()\n",
    "X_train = scaler.fit_transform(X_train)\n",
    "X_test = scaler.transform(X_test)"
   ]
  },
  {
   "cell_type": "code",
   "execution_count": 158,
   "metadata": {},
   "outputs": [
    {
     "name": "stderr",
     "output_type": "stream",
     "text": [
      "C:\\Users\\eakhumb\\AppData\\Local\\Continuum\\anaconda3\\lib\\site-packages\\sklearn\\linear_model\\logistic.py:432: FutureWarning: Default solver will be changed to 'lbfgs' in 0.22. Specify a solver to silence this warning.\n",
      "  FutureWarning)\n"
     ]
    },
    {
     "data": {
      "text/plain": [
       "0.9897959183673469"
      ]
     },
     "execution_count": 158,
     "metadata": {},
     "output_type": "execute_result"
    }
   ],
   "source": [
    "model = LogisticRegression()\n",
    "model.fit(X_train, y_train)\n",
    "y_pred = model.predict(X_test)\n",
    "score = model.score(X_test, y_test)\n",
    "score"
   ]
  },
  {
   "cell_type": "code",
   "execution_count": null,
   "metadata": {},
   "outputs": [],
   "source": []
  }
 ],
 "metadata": {
  "kernelspec": {
   "display_name": "Python 3",
   "language": "python",
   "name": "python3"
  },
  "language_info": {
   "codemirror_mode": {
    "name": "ipython",
    "version": 3
   },
   "file_extension": ".py",
   "mimetype": "text/x-python",
   "name": "python",
   "nbconvert_exporter": "python",
   "pygments_lexer": "ipython3",
   "version": "3.7.3"
  }
 },
 "nbformat": 4,
 "nbformat_minor": 4
}
