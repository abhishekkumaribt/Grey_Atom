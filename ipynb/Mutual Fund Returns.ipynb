{
 "cells": [
  {
   "cell_type": "code",
   "execution_count": 24,
   "metadata": {},
   "outputs": [],
   "source": [
    "import numpy as np\n",
    "import pandas as pd\n",
    "import matplotlib.pyplot as plt\n",
    "import warnings\n",
    "from sklearn.model_selection import RandomizedSearchCV\n",
    "from sklearn.model_selection import GridSearchCV\n",
    "from sklearn.linear_model import LinearRegression\n",
    "from sklearn.metrics import make_scorer\n",
    "from sklearn.model_selection import cross_val_predict\n",
    "from sklearn.metrics import mean_squared_error\n",
    "from sklearn.metrics import r2_score\n",
    "from sklearn.linear_model import Lasso\n",
    "from sklearn.linear_model import Ridge\n",
    "from sklearn.model_selection import train_test_split\n",
    "from sklearn.preprocessing import PolynomialFeatures\n",
    "from sklearn.pipeline import make_pipeline\n",
    "from scipy.stats import chi2_contingency\n",
    "import scipy.stats as stats\n",
    "%matplotlib inline\n",
    "warnings.filterwarnings('ignore')"
   ]
  },
  {
   "cell_type": "code",
   "execution_count": 4,
   "metadata": {},
   "outputs": [],
   "source": [
    "path = r\"Data\\cleaned_train.csv\""
   ]
  },
  {
   "cell_type": "code",
   "execution_count": 88,
   "metadata": {},
   "outputs": [
    {
     "name": "stdout",
     "output_type": "stream",
     "text": [
      "(11898, 153)\n"
     ]
    },
    {
     "data": {
      "text/html": [
       "<div>\n",
       "<style scoped>\n",
       "    .dataframe tbody tr th:only-of-type {\n",
       "        vertical-align: middle;\n",
       "    }\n",
       "\n",
       "    .dataframe tbody tr th {\n",
       "        vertical-align: top;\n",
       "    }\n",
       "\n",
       "    .dataframe thead th {\n",
       "        text-align: right;\n",
       "    }\n",
       "</style>\n",
       "<table border=\"1\" class=\"dataframe\">\n",
       "  <thead>\n",
       "    <tr style=\"text-align: right;\">\n",
       "      <th></th>\n",
       "      <th>Serial Number</th>\n",
       "      <th>total_net_assets</th>\n",
       "      <th>net_annual_expenses_ratio</th>\n",
       "      <th>morningstar_rating</th>\n",
       "      <th>portfolio_cash</th>\n",
       "      <th>portfolio_stocks</th>\n",
       "      <th>portfolio_bonds</th>\n",
       "      <th>portfolio_others</th>\n",
       "      <th>portfolio_preferred</th>\n",
       "      <th>portfolio_convertable</th>\n",
       "      <th>...</th>\n",
       "      <th>category_102</th>\n",
       "      <th>category_103</th>\n",
       "      <th>category_104</th>\n",
       "      <th>category_105</th>\n",
       "      <th>category_106</th>\n",
       "      <th>category_107</th>\n",
       "      <th>investment_0</th>\n",
       "      <th>investment_1</th>\n",
       "      <th>investment_2</th>\n",
       "      <th>bonds_aaa</th>\n",
       "    </tr>\n",
       "  </thead>\n",
       "  <tbody>\n",
       "    <tr>\n",
       "      <th>count</th>\n",
       "      <td>11898.000000</td>\n",
       "      <td>1.189800e+04</td>\n",
       "      <td>11898.000000</td>\n",
       "      <td>11898.000000</td>\n",
       "      <td>11898.000000</td>\n",
       "      <td>11898.000000</td>\n",
       "      <td>11898.000000</td>\n",
       "      <td>11898.000000</td>\n",
       "      <td>11898.000000</td>\n",
       "      <td>11898.000000</td>\n",
       "      <td>...</td>\n",
       "      <td>11898.000000</td>\n",
       "      <td>11898.000000</td>\n",
       "      <td>11898.000000</td>\n",
       "      <td>11898.000000</td>\n",
       "      <td>11898.000000</td>\n",
       "      <td>11898.000000</td>\n",
       "      <td>11898.000000</td>\n",
       "      <td>11898.000000</td>\n",
       "      <td>11898.000000</td>\n",
       "      <td>11898.000000</td>\n",
       "    </tr>\n",
       "    <tr>\n",
       "      <th>mean</th>\n",
       "      <td>8886.317196</td>\n",
       "      <td>2.428921e+09</td>\n",
       "      <td>1.019386</td>\n",
       "      <td>2.745503</td>\n",
       "      <td>6.869599</td>\n",
       "      <td>59.288643</td>\n",
       "      <td>30.404463</td>\n",
       "      <td>1.567409</td>\n",
       "      <td>0.368650</td>\n",
       "      <td>0.632453</td>\n",
       "      <td>...</td>\n",
       "      <td>0.001933</td>\n",
       "      <td>0.000252</td>\n",
       "      <td>0.019919</td>\n",
       "      <td>0.011094</td>\n",
       "      <td>0.034712</td>\n",
       "      <td>0.006640</td>\n",
       "      <td>0.469827</td>\n",
       "      <td>0.261809</td>\n",
       "      <td>0.268364</td>\n",
       "      <td>12.442643</td>\n",
       "    </tr>\n",
       "    <tr>\n",
       "      <th>std</th>\n",
       "      <td>5130.876028</td>\n",
       "      <td>1.018769e+10</td>\n",
       "      <td>0.615437</td>\n",
       "      <td>1.361566</td>\n",
       "      <td>11.777783</td>\n",
       "      <td>42.114027</td>\n",
       "      <td>38.794591</td>\n",
       "      <td>6.375753</td>\n",
       "      <td>2.435118</td>\n",
       "      <td>5.239956</td>\n",
       "      <td>...</td>\n",
       "      <td>0.043926</td>\n",
       "      <td>0.015878</td>\n",
       "      <td>0.139729</td>\n",
       "      <td>0.104748</td>\n",
       "      <td>0.183056</td>\n",
       "      <td>0.081217</td>\n",
       "      <td>0.499110</td>\n",
       "      <td>0.439638</td>\n",
       "      <td>0.443127</td>\n",
       "      <td>23.614576</td>\n",
       "    </tr>\n",
       "    <tr>\n",
       "      <th>min</th>\n",
       "      <td>2.000000</td>\n",
       "      <td>5.000000e+03</td>\n",
       "      <td>0.000000</td>\n",
       "      <td>0.000000</td>\n",
       "      <td>0.000000</td>\n",
       "      <td>0.000000</td>\n",
       "      <td>0.000000</td>\n",
       "      <td>0.000000</td>\n",
       "      <td>0.000000</td>\n",
       "      <td>0.000000</td>\n",
       "      <td>...</td>\n",
       "      <td>0.000000</td>\n",
       "      <td>0.000000</td>\n",
       "      <td>0.000000</td>\n",
       "      <td>0.000000</td>\n",
       "      <td>0.000000</td>\n",
       "      <td>0.000000</td>\n",
       "      <td>0.000000</td>\n",
       "      <td>0.000000</td>\n",
       "      <td>0.000000</td>\n",
       "      <td>-7.600000</td>\n",
       "    </tr>\n",
       "    <tr>\n",
       "      <th>25%</th>\n",
       "      <td>4414.250000</td>\n",
       "      <td>7.008000e+07</td>\n",
       "      <td>0.620000</td>\n",
       "      <td>2.000000</td>\n",
       "      <td>1.130000</td>\n",
       "      <td>0.490000</td>\n",
       "      <td>0.000000</td>\n",
       "      <td>0.000000</td>\n",
       "      <td>0.000000</td>\n",
       "      <td>0.000000</td>\n",
       "      <td>...</td>\n",
       "      <td>0.000000</td>\n",
       "      <td>0.000000</td>\n",
       "      <td>0.000000</td>\n",
       "      <td>0.000000</td>\n",
       "      <td>0.000000</td>\n",
       "      <td>0.000000</td>\n",
       "      <td>0.000000</td>\n",
       "      <td>0.000000</td>\n",
       "      <td>0.000000</td>\n",
       "      <td>0.000000</td>\n",
       "    </tr>\n",
       "    <tr>\n",
       "      <th>50%</th>\n",
       "      <td>8910.500000</td>\n",
       "      <td>3.261300e+08</td>\n",
       "      <td>0.960000</td>\n",
       "      <td>3.000000</td>\n",
       "      <td>2.960000</td>\n",
       "      <td>83.225000</td>\n",
       "      <td>1.420000</td>\n",
       "      <td>0.000000</td>\n",
       "      <td>0.000000</td>\n",
       "      <td>0.000000</td>\n",
       "      <td>...</td>\n",
       "      <td>0.000000</td>\n",
       "      <td>0.000000</td>\n",
       "      <td>0.000000</td>\n",
       "      <td>0.000000</td>\n",
       "      <td>0.000000</td>\n",
       "      <td>0.000000</td>\n",
       "      <td>0.000000</td>\n",
       "      <td>0.000000</td>\n",
       "      <td>0.000000</td>\n",
       "      <td>0.000000</td>\n",
       "    </tr>\n",
       "    <tr>\n",
       "      <th>75%</th>\n",
       "      <td>13325.750000</td>\n",
       "      <td>1.380000e+09</td>\n",
       "      <td>1.360000</td>\n",
       "      <td>4.000000</td>\n",
       "      <td>6.690000</td>\n",
       "      <td>97.450000</td>\n",
       "      <td>66.560000</td>\n",
       "      <td>0.870000</td>\n",
       "      <td>0.020000</td>\n",
       "      <td>0.010000</td>\n",
       "      <td>...</td>\n",
       "      <td>0.000000</td>\n",
       "      <td>0.000000</td>\n",
       "      <td>0.000000</td>\n",
       "      <td>0.000000</td>\n",
       "      <td>0.000000</td>\n",
       "      <td>0.000000</td>\n",
       "      <td>1.000000</td>\n",
       "      <td>1.000000</td>\n",
       "      <td>1.000000</td>\n",
       "      <td>12.935000</td>\n",
       "    </tr>\n",
       "    <tr>\n",
       "      <th>max</th>\n",
       "      <td>17773.000000</td>\n",
       "      <td>1.880000e+11</td>\n",
       "      <td>14.530000</td>\n",
       "      <td>5.000000</td>\n",
       "      <td>100.000000</td>\n",
       "      <td>100.000000</td>\n",
       "      <td>100.000000</td>\n",
       "      <td>94.710000</td>\n",
       "      <td>71.420000</td>\n",
       "      <td>93.820000</td>\n",
       "      <td>...</td>\n",
       "      <td>1.000000</td>\n",
       "      <td>1.000000</td>\n",
       "      <td>1.000000</td>\n",
       "      <td>1.000000</td>\n",
       "      <td>1.000000</td>\n",
       "      <td>1.000000</td>\n",
       "      <td>1.000000</td>\n",
       "      <td>1.000000</td>\n",
       "      <td>1.000000</td>\n",
       "      <td>102.790000</td>\n",
       "    </tr>\n",
       "  </tbody>\n",
       "</table>\n",
       "<p>8 rows × 153 columns</p>\n",
       "</div>"
      ],
      "text/plain": [
       "       Serial Number  total_net_assets  net_annual_expenses_ratio  \\\n",
       "count   11898.000000      1.189800e+04               11898.000000   \n",
       "mean     8886.317196      2.428921e+09                   1.019386   \n",
       "std      5130.876028      1.018769e+10                   0.615437   \n",
       "min         2.000000      5.000000e+03                   0.000000   \n",
       "25%      4414.250000      7.008000e+07                   0.620000   \n",
       "50%      8910.500000      3.261300e+08                   0.960000   \n",
       "75%     13325.750000      1.380000e+09                   1.360000   \n",
       "max     17773.000000      1.880000e+11                  14.530000   \n",
       "\n",
       "       morningstar_rating  portfolio_cash  portfolio_stocks  portfolio_bonds  \\\n",
       "count        11898.000000    11898.000000      11898.000000     11898.000000   \n",
       "mean             2.745503        6.869599         59.288643        30.404463   \n",
       "std              1.361566       11.777783         42.114027        38.794591   \n",
       "min              0.000000        0.000000          0.000000         0.000000   \n",
       "25%              2.000000        1.130000          0.490000         0.000000   \n",
       "50%              3.000000        2.960000         83.225000         1.420000   \n",
       "75%              4.000000        6.690000         97.450000        66.560000   \n",
       "max              5.000000      100.000000        100.000000       100.000000   \n",
       "\n",
       "       portfolio_others  portfolio_preferred  portfolio_convertable  ...  \\\n",
       "count      11898.000000         11898.000000           11898.000000  ...   \n",
       "mean           1.567409             0.368650               0.632453  ...   \n",
       "std            6.375753             2.435118               5.239956  ...   \n",
       "min            0.000000             0.000000               0.000000  ...   \n",
       "25%            0.000000             0.000000               0.000000  ...   \n",
       "50%            0.000000             0.000000               0.000000  ...   \n",
       "75%            0.870000             0.020000               0.010000  ...   \n",
       "max           94.710000            71.420000              93.820000  ...   \n",
       "\n",
       "       category_102  category_103  category_104  category_105  category_106  \\\n",
       "count  11898.000000  11898.000000  11898.000000  11898.000000  11898.000000   \n",
       "mean       0.001933      0.000252      0.019919      0.011094      0.034712   \n",
       "std        0.043926      0.015878      0.139729      0.104748      0.183056   \n",
       "min        0.000000      0.000000      0.000000      0.000000      0.000000   \n",
       "25%        0.000000      0.000000      0.000000      0.000000      0.000000   \n",
       "50%        0.000000      0.000000      0.000000      0.000000      0.000000   \n",
       "75%        0.000000      0.000000      0.000000      0.000000      0.000000   \n",
       "max        1.000000      1.000000      1.000000      1.000000      1.000000   \n",
       "\n",
       "       category_107  investment_0  investment_1  investment_2     bonds_aaa  \n",
       "count  11898.000000  11898.000000  11898.000000  11898.000000  11898.000000  \n",
       "mean       0.006640      0.469827      0.261809      0.268364     12.442643  \n",
       "std        0.081217      0.499110      0.439638      0.443127     23.614576  \n",
       "min        0.000000      0.000000      0.000000      0.000000     -7.600000  \n",
       "25%        0.000000      0.000000      0.000000      0.000000      0.000000  \n",
       "50%        0.000000      0.000000      0.000000      0.000000      0.000000  \n",
       "75%        0.000000      1.000000      1.000000      1.000000     12.935000  \n",
       "max        1.000000      1.000000      1.000000      1.000000    102.790000  \n",
       "\n",
       "[8 rows x 153 columns]"
      ]
     },
     "execution_count": 88,
     "metadata": {},
     "output_type": "execute_result"
    }
   ],
   "source": [
    "data = pd.read_csv(path)\n",
    "print(data.shape)\n",
    "data.describe()"
   ]
  },
  {
   "cell_type": "code",
   "execution_count": 89,
   "metadata": {},
   "outputs": [],
   "source": [
    "if \"Serial Number\" in data.columns:\n",
    "    data.drop(columns=\"Serial Number\", axis=1, inplace=True)"
   ]
  },
  {
   "cell_type": "markdown",
   "metadata": {},
   "source": [
    "# Hypothesis Testing - Chi2"
   ]
  },
  {
   "cell_type": "code",
   "execution_count": 90,
   "metadata": {},
   "outputs": [
    {
     "data": {
      "text/plain": [
       "19.67513757268249"
      ]
     },
     "execution_count": 90,
     "metadata": {},
     "output_type": "execute_result"
    }
   ],
   "source": [
    "critical_value = stats.chi2.ppf(q = 0.95, df = 11)\n",
    "critical_value"
   ]
  },
  {
   "cell_type": "code",
   "execution_count": 91,
   "metadata": {},
   "outputs": [],
   "source": [
    "return_rating = data.morningstar_return_rating.value_counts()\n",
    "risk_rating = data.morningstar_risk_rating.value_counts()"
   ]
  },
  {
   "cell_type": "code",
   "execution_count": 92,
   "metadata": {},
   "outputs": [
    {
     "data": {
      "text/html": [
       "<div>\n",
       "<style scoped>\n",
       "    .dataframe tbody tr th:only-of-type {\n",
       "        vertical-align: middle;\n",
       "    }\n",
       "\n",
       "    .dataframe tbody tr th {\n",
       "        vertical-align: top;\n",
       "    }\n",
       "\n",
       "    .dataframe thead th {\n",
       "        text-align: right;\n",
       "    }\n",
       "</style>\n",
       "<table border=\"1\" class=\"dataframe\">\n",
       "  <thead>\n",
       "    <tr style=\"text-align: right;\">\n",
       "      <th></th>\n",
       "      <th>return</th>\n",
       "      <th>risk</th>\n",
       "    </tr>\n",
       "  </thead>\n",
       "  <tbody>\n",
       "    <tr>\n",
       "      <th>3</th>\n",
       "      <td>3892</td>\n",
       "      <td>3845</td>\n",
       "    </tr>\n",
       "    <tr>\n",
       "      <th>4</th>\n",
       "      <td>2628</td>\n",
       "      <td>2614</td>\n",
       "    </tr>\n",
       "    <tr>\n",
       "      <th>2</th>\n",
       "      <td>2422</td>\n",
       "      <td>2218</td>\n",
       "    </tr>\n",
       "    <tr>\n",
       "      <th>0</th>\n",
       "      <td>1236</td>\n",
       "      <td>1236</td>\n",
       "    </tr>\n",
       "    <tr>\n",
       "      <th>5</th>\n",
       "      <td>956</td>\n",
       "      <td>1080</td>\n",
       "    </tr>\n",
       "    <tr>\n",
       "      <th>1</th>\n",
       "      <td>764</td>\n",
       "      <td>905</td>\n",
       "    </tr>\n",
       "  </tbody>\n",
       "</table>\n",
       "</div>"
      ],
      "text/plain": [
       "   return  risk\n",
       "3    3892  3845\n",
       "4    2628  2614\n",
       "2    2422  2218\n",
       "0    1236  1236\n",
       "5     956  1080\n",
       "1     764   905"
      ]
     },
     "execution_count": 92,
     "metadata": {},
     "output_type": "execute_result"
    }
   ],
   "source": [
    "observed = pd.concat([return_rating.transpose(), risk_rating.transpose()], axis=1, keys=['return', 'risk'])\n",
    "observed"
   ]
  },
  {
   "cell_type": "code",
   "execution_count": 93,
   "metadata": {},
   "outputs": [],
   "source": [
    "chi2, p, dof, ex = chi2_contingency(observed)"
   ]
  },
  {
   "cell_type": "code",
   "execution_count": 94,
   "metadata": {},
   "outputs": [
    {
     "name": "stdout",
     "output_type": "stream",
     "text": [
      "19.67513757268249 28.75585318206671 2.5889934498733718e-05\n"
     ]
    }
   ],
   "source": [
    "print(critical_value, chi2, p)"
   ]
  },
  {
   "cell_type": "code",
   "execution_count": 95,
   "metadata": {},
   "outputs": [
    {
     "data": {
      "text/plain": [
       "morningstar_return_rating  morningstar_rating           0.963584\n",
       "morningstar_rating         morningstar_return_rating    0.963584\n",
       "portfolio_bonds            portfolio_stocks             0.917733\n",
       "portfolio_stocks           portfolio_bonds              0.917733\n",
       "category_12                portfolio_convertable        0.892575\n",
       "portfolio_convertable      category_12                  0.892575\n",
       "sharpe_ratio_3y            mean_annual_return_3y        0.769218\n",
       "mean_annual_return_3y      sharpe_ratio_3y              0.769218\n",
       "dtype: float64"
      ]
     },
     "execution_count": 95,
     "metadata": {},
     "output_type": "execute_result"
    }
   ],
   "source": [
    "correlation = data.corr().abs()\n",
    "us_correlation = correlation.unstack().sort_values(ascending=False)\n",
    "max_correlated = us_correlation[(us_correlation<1) & (us_correlation>0.75)]\n",
    "max_correlated"
   ]
  },
  {
   "cell_type": "code",
   "execution_count": 96,
   "metadata": {},
   "outputs": [
    {
     "data": {
      "text/plain": [
       "(11898, 148)"
      ]
     },
     "execution_count": 96,
     "metadata": {},
     "output_type": "execute_result"
    }
   ],
   "source": [
    "for column in ['morningstar_rating', 'portfolio_stocks', 'category_12', 'sharpe_ratio_3y']:\n",
    "    if column in data.columns:\n",
    "        data.drop(columns=column, axis=1, inplace=True)\n",
    "data.shape"
   ]
  },
  {
   "cell_type": "code",
   "execution_count": 117,
   "metadata": {},
   "outputs": [
    {
     "data": {
      "image/png": "[encoded data removed]",
      "text/plain": [
       "<Figure size 720x720 with 2 Axes>"
      ]
     },
     "metadata": {
      "needs_background": "light"
     },
     "output_type": "display_data"
    }
   ],
   "source": [
    "fig, [ax_1, ax_2] = plt.subplots(nrows=1, ncols=2,figsize=[10,10])"
   ]
  },
  {
   "cell_type": "code",
   "execution_count": 118,
   "metadata": {},
   "outputs": [
    {
     "data": {
      "image/png": "[encoded data removed]",
      "text/plain": [
       "<Figure size 720x720 with 2 Axes>"
      ]
     },
     "execution_count": 118,
     "metadata": {},
     "output_type": "execute_result"
    }
   ],
   "source": [
    "data.price_earning.plot(kind='box',ax=ax_1)\n",
    "data.net_annual_expenses_ratio.plot(kind='box',ax=ax_2)\n",
    "fig"
   ]
  },
  {
   "cell_type": "code",
   "execution_count": 134,
   "metadata": {},
   "outputs": [],
   "source": [
    "X = data[data.columns[data.columns != 'bonds_aaa']]\n",
    "y = data['bonds_aaa']"
   ]
  },
  {
   "cell_type": "code",
   "execution_count": 135,
   "metadata": {},
   "outputs": [],
   "source": [
    "X_train,X_test,y_train,y_test = train_test_split(X, y, test_size = 0.3, random_state = 3)\n",
    "lr = LinearRegression()"
   ]
  },
  {
   "cell_type": "code",
   "execution_count": 136,
   "metadata": {},
   "outputs": [
    {
     "data": {
      "text/plain": [
       "15.729889665418414"
      ]
     },
     "execution_count": 136,
     "metadata": {},
     "output_type": "execute_result"
    }
   ],
   "source": [
    "lr.fit(X_train,y_train)\n",
    "y_pred = lr.predict(X_test)\n",
    "rmse = np.sqrt(mean_squared_error(y_test, y_pred))\n",
    "rmse"
   ]
  },
  {
   "cell_type": "code",
   "execution_count": 137,
   "metadata": {},
   "outputs": [],
   "source": [
    "ridge_lambdas = [0.01, 0.03, 0.06, 0.1, 0.3, 0.6, 1, 3, 6, 10, 30, 60]\n",
    "lasso_lambdas = [0.0001, 0.0003, 0.0006, 0.001, 0.003, 0.006, 0.01, 0.03, 0.06, 0.1, 0.3, 0.6, 1]"
   ]
  },
  {
   "cell_type": "code",
   "execution_count": 138,
   "metadata": {},
   "outputs": [],
   "source": [
    "ridge_model = Ridge()\n",
    "ridge_grid = GridSearchCV(estimator=ridge_model, param_grid=dict(alpha=ridge_lambdas))"
   ]
  },
  {
   "cell_type": "code",
   "execution_count": 139,
   "metadata": {},
   "outputs": [
    {
     "data": {
      "text/plain": [
       "15.720131026226944"
      ]
     },
     "execution_count": 139,
     "metadata": {},
     "output_type": "execute_result"
    }
   ],
   "source": [
    "ridge_grid.fit(X_train, y_train)\n",
    "ridge_rmse = np.sqrt(mean_squared_error(y_test, ridge_grid.predict(X_test)))\n",
    "print(ridge_rmse)"
   ]
  },
  {
   "cell_type": "code",
   "execution_count": 141,
   "metadata": {},
   "outputs": [
    {
     "name": "stdout",
     "output_type": "stream",
     "text": [
      "15.719153628852961\n"
     ]
    }
   ],
   "source": [
    "lasso_model = Lasso()\n",
    "lasso_grid = GridSearchCV(estimator=lasso_model, param_grid=dict(alpha=lasso_lambdas))\n",
    "lasso_grid.fit(X_train, y_train)\n",
    "lasso_rmse = np.sqrt(mean_squared_error(y_test, lasso_grid.predict(X_test)))\n",
    "print(lasso_rmse)"
   ]
  },
  {
   "cell_type": "code",
   "execution_count": null,
   "metadata": {},
   "outputs": [],
   "source": []
  }
 ],
 "metadata": {
  "kernelspec": {
   "display_name": "Python 3",
   "language": "python",
   "name": "python3"
  },
  "language_info": {
   "codemirror_mode": {
    "name": "ipython",
    "version": 3
   },
   "file_extension": ".py",
   "mimetype": "text/x-python",
   "name": "python",
   "nbconvert_exporter": "python",
   "pygments_lexer": "ipython3",
   "version": "3.7.3"
  }
 },
 "nbformat": 4,
 "nbformat_minor": 4
}
